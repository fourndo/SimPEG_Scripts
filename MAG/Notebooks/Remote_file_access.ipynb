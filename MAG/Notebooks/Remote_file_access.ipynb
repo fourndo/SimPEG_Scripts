{
 "cells": [
  {
   "cell_type": "code",
   "execution_count": 44,
   "metadata": {
    "collapsed": false
   },
   "outputs": [],
   "source": [
    "import urllib\n",
    "import shutil\n",
    "import os\n",
    "\n",
    "url='https://storage.googleapis.com/simpeg/tests/potential_fields/'\n",
    "# cloudfiles = ['GravData.obs','Gaussian.topo','Mesh_10m.msh','ModelStart.sus','Obs_loc_TMI.obs','PYMAG3D_inv.inp']\n",
    "cloudfiles = ['Gaussian.topo']\n",
    "\n",
    "basePath = os.curdir+os.path.sep+'SimPEGtemp'+os.path.sep\n",
    "    \n",
    "if os.path.exists(basePath):\n",
    "    shutil.rmtree(basePath)\n",
    "    \n",
    "os.makedirs(basePath)\n",
    "\n",
    "for files in cloudfiles:\n",
    "              \n",
    "    urllib.urlretrieve(url + files,basePath+'URLRetrieve.dat')"
   ]
  }
 ],
 "metadata": {
  "kernelspec": {
   "display_name": "Python 2",
   "language": "python",
   "name": "python2"
  },
  "language_info": {
   "codemirror_mode": {
    "name": "ipython",
    "version": 2
   },
   "file_extension": ".py",
   "mimetype": "text/x-python",
   "name": "python",
   "nbconvert_exporter": "python",
   "pygments_lexer": "ipython2",
   "version": "2.7.12"
  }
 },
 "nbformat": 4,
 "nbformat_minor": 0
}
