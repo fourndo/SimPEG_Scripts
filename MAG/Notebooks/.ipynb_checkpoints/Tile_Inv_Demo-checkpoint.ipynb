{
 "cells": [
  {
   "cell_type": "code",
   "execution_count": 1,
   "metadata": {},
   "outputs": [],
   "source": [
    "import matplotlib.pyplot as plt\n",
    "import numpy as np\n",
    "\n",
    "from SimPEG import Mesh\n",
    "from SimPEG import Utils\n",
    "from SimPEG import Maps\n",
    "from SimPEG import Regularization\n",
    "from SimPEG import DataMisfit\n",
    "from SimPEG import Optimization\n",
    "from SimPEG import InvProblem\n",
    "from SimPEG import Directives\n",
    "from SimPEG import Inversion\n",
    "from SimPEG import PF"
   ]
  },
  {
   "cell_type": "markdown",
   "metadata": {},
   "source": [
    "**SumMap Demo**\n",
    "\n",
    "In this notebook, we demonstrate how to use the SumMap. The example uses "
   ]
  },
  {
   "cell_type": "code",
   "execution_count": 2,
   "metadata": {},
   "outputs": [],
   "source": [
    "H0 = (50000, 90, 0)\n",
    "\n",
    "# Create a mesh\n",
    "dx = 2.5\n",
    "\n",
    "hxind = [(dx, 5, -1.3), (dx, 20), (dx, 5, 1.3)]\n",
    "hyind = [(dx, 5, -1.3), (dx, 40), (dx, 5, 1.3)]\n",
    "hzind = [(dx, 5, -1.3), (dx, 20)]\n",
    "\n",
    "mesh = Mesh.TensorMesh([hxind, hyind, hzind], 'CC0')\n",
    "mesh.x0 = mesh.x0 - np.r_[0,0,mesh.gridN[-1,2]]\n",
    "\n",
    "# Get index of the center\n",
    "midx = int(mesh.nCx/2)\n",
    "midy = int(mesh.nCy/2)\n",
    "\n",
    "# Lets create a simple Gaussian topo and set the active cells\n",
    "# [xx, yy] = np.meshgrid(mesh.vectorNx, mesh.vectorNy)\n",
    "# zz = -np.exp((xx**2 + yy**2) / 75**2) + mesh.vectorNz[-1]\n",
    "\n",
    "# We would usually load a topofile\n",
    "# topo = np.c_[Utils.mkvc(xx), Utils.mkvc(yy), Utils.mkvc(zz)]\n",
    "\n",
    "# Go from topo to actv cells\n",
    "# actv = Utils.surface2ind_topo(mesh, topo, 'N')\n",
    "# actv = np.asarray([inds for inds, elem in enumerate(actv, 1) if elem],\n",
    "#                   dtype=int) - 1\n",
    "actv = np.ones(mesh.nC, dtype='bool')\n",
    "\n",
    "# Create active map to go from reduce space to full\n",
    "actvMap = Maps.InjectActiveCells(mesh, actv, -100)\n",
    "nC = len(actv)\n",
    "\n",
    "# Create and array of observation points\n",
    "xr = np.linspace(-20.5, 20.5, 40)\n",
    "yr = np.linspace(-30.5, 30.5, 40)\n",
    "X, Y = np.meshgrid(xr, yr)\n",
    "\n",
    "# Move the observation points 5m above the topo\n",
    "Z = np.ones_like(X)*mesh.vectorNz[-1] + 5. #-np.exp((X**2 + Y**2) / 75**2) + mesh.vectorNz[-1] + 5.\n",
    "\n",
    "# Create a MAGsurvey\n",
    "rxLoc = np.c_[Utils.mkvc(X.T), Utils.mkvc(Y.T), Utils.mkvc(Z.T)]\n",
    "rx = PF.BaseMag.RxObs(rxLoc)\n",
    "srcField = PF.BaseMag.SrcField([rx], param=H0)\n",
    "survey = PF.BaseMag.LinearSurvey(srcField)\n",
    "\n",
    "# We can now create a susceptibility model and generate data\n",
    "model = np.zeros(mesh.nC)\n",
    "\n",
    "# Add a block in half-space\n",
    "model = Utils.ModelBuilder.addBlock(mesh.gridCC, model, np.r_[-10,-30,-30], np.r_[10,-10,-10], 0.05)\n",
    "model = Utils.ModelBuilder.addBlock(mesh.gridCC, model, np.r_[-10,10,-30], np.r_[10,30,-10], 0.05)\n",
    "model = Utils.ModelBuilder.addBlock(mesh.gridCC, model, np.r_[50,50,-30], np.r_[120,120,-10], 0.2)\n",
    "\n",
    "model = Utils.mkvc(model)\n",
    "model = model[actv]\n",
    "\n",
    "\n"
   ]
  },
  {
   "cell_type": "code",
   "execution_count": 3,
   "metadata": {},
   "outputs": [],
   "source": [
    "def plot_panels(m):\n",
    "    ypanel = midx\n",
    "    zpanel = -5\n",
    "\n",
    "    m_lp = actvMap * m\n",
    "    m_lp[m_lp == -100] = np.nan\n",
    "\n",
    "    # # Plot the data\n",
    "    # PF.Magnetics.plot_obs_2D(rxLoc, d=d)\n",
    "\n",
    "    fig = plt.figure(figsize=(10,4))\n",
    "\n",
    "    # Plot Lp model\n",
    "    ax = plt.subplot(121)\n",
    "    im = mesh.plotSlice(m_lp, ax=ax, normal='Z', ind=zpanel,\n",
    "                   grid=True, clim=(m.min(), m.max()))\n",
    "    plt.plot(([mesh.vectorCCx[0], mesh.vectorCCx[-1]]),\n",
    "             ([mesh.vectorCCy[ypanel], mesh.vectorCCy[ypanel]]), color='w')\n",
    "    plt.title('Plan lp-model.')\n",
    "    plt.gca().set_aspect('equal')\n",
    "    plt.colorbar(im[0])\n",
    "    ax.xaxis.set_visible(False)\n",
    "    plt.ylabel('y')\n",
    "    plt.gca().set_aspect('equal', adjustable='box')\n",
    "\n",
    "    # Vertical section\n",
    "    ax = plt.subplot(122)\n",
    "    mesh.plotSlice(m_lp, ax=ax, normal='Y', ind=midx,\n",
    "                   grid=True, clim=(m.min(), m.max()))\n",
    "    plt.plot(([mesh.vectorCCx[0], mesh.vectorCCx[-1]]),\n",
    "             ([mesh.vectorCCz[zpanel], mesh.vectorCCz[zpanel]]), color='w')\n",
    "    plt.title('E-W lp-model.')\n",
    "    plt.gca().set_aspect('equal')\n",
    "    ax.xaxis.set_visible(False)\n",
    "    plt.ylabel('z')\n",
    "    plt.gca().set_aspect('equal', adjustable='box')\n",
    "\n",
    "    plt.show()\n",
    "    \n",
    "    return fig"
   ]
  },
  {
   "cell_type": "code",
   "execution_count": 4,
   "metadata": {},
   "outputs": [
    {
     "data": {
      "image/png": "[encoded data removed]",
      "text/plain": [
       "<Figure size 720x288 with 3 Axes>"
      ]
     },
     "metadata": {},
     "output_type": "display_data"
    }
   ],
   "source": [
    "fig = plot_panels(model)\n",
    "fig.savefig(\"TrueModel.png\")"
   ]
  },
  {
   "cell_type": "code",
   "execution_count": 5,
   "metadata": {
    "scrolled": true
   },
   "outputs": [
    {
     "name": "stdout",
     "output_type": "stream",
     "text": [
      "Begin forward: M=H0, Rx type= tmi\n"
     ]
    },
    {
     "data": {
      "image/png": "[encoded data removed]",
      "text/plain": [
       "<Figure size 432x288 with 1 Axes>"
      ]
     },
     "metadata": {},
     "output_type": "display_data"
    }
   ],
   "source": [
    "# Create active map to go from reduce set to full\n",
    "actvMap = Maps.InjectActiveCells(mesh, actv, -100)\n",
    "\n",
    "# Creat reduced identity map\n",
    "idenMap = Maps.IdentityMap(nP=nC)\n",
    "\n",
    "# Create the forward model operator\n",
    "prob = PF.Magnetics.MagneticIntegral(mesh, chiMap=idenMap, actInd=actv, parallelized=True)\n",
    "\n",
    "# Pair the survey and problem\n",
    "survey.pair(prob)\n",
    "\n",
    "# Compute linear forward operator and compute some data\n",
    "d = prob.fields(model)\n",
    "\n",
    "# Add noise and uncertainties\n",
    "# We add some random Gaussian noise (1nT)\n",
    "data = d + np.random.randn(len(d))\n",
    "wd = np.ones(len(data))*1.  # Assign flat uncertainties\n",
    "\n",
    "survey.dobs = data\n",
    "survey.std = wd\n",
    "survey.mtrue = model\n",
    "\n",
    "# Plot the data\n",
    "rxLoc = survey.srcField.rxList[0].locs\n",
    "Utils.plot2Ddata(rxLoc, d)\n",
    "plt.show()"
   ]
  },
  {
   "cell_type": "code",
   "execution_count": 6,
   "metadata": {},
   "outputs": [
    {
     "name": "stdout",
     "output_type": "stream",
     "text": [
      "[-2.5 17.5 -2.5] [ 0.         16.05263158  5.        ]\n",
      "[-2.5 17.5 -2.5]\n",
      "64 5.0 160.0 [-160. -140. -160.]\n",
      "Begin forward: M=H0, Rx type= tmi\n",
      "Done 0.0 %\n",
      "Done 10.0 %\n",
      "Done 20.0 %\n",
      "Done 30.0 %\n",
      "Done 40.0 %\n",
      "Done 50.0 %\n",
      "Done 60.0 %\n",
      "Done 70.0 %\n",
      "Done 80.0 %\n",
      "Done 90.0 %\n",
      "[ -2.5 -17.5  -2.5] [  0.         -16.05263158   5.        ]\n",
      "[ -2.5 -17.5  -2.5]\n",
      "64 5.0 160.0 [-160. -175. -160.]\n",
      "Begin forward: M=H0, Rx type= tmi\n",
      "Done 0.0 %\n",
      "Done 10.0 %\n",
      "Done 20.0 %\n",
      "Done 30.0 %\n",
      "Done 40.0 %\n",
      "Done 50.0 %\n",
      "Done 60.0 %\n",
      "Done 70.0 %\n",
      "Done 80.0 %\n",
      "Done 90.0 %\n"
     ]
    }
   ],
   "source": [
    "# Divide the problem into two halves\n",
    "index1 = rxLoc[:,1]>0\n",
    "rxLoc1 = rxLoc[index1,:]\n",
    "rx = PF.BaseMag.RxObs(rxLoc1)\n",
    "srcField = PF.BaseMag.SrcField([rx], param=H0)\n",
    "survey1 = PF.BaseMag.LinearSurvey(srcField)\n",
    "survey1.dobs = survey.dobs[index1]\n",
    "survey1.index = index1\n",
    "\n",
    "\n",
    "# Create a mesh\n",
    "h = [5., 5., 5.]\n",
    "padDist = np.ones((3,2)) * 100\n",
    "\n",
    "# Create a topography\n",
    "mesh1 = Utils.modelutils.meshBuilder(rxLoc1, h, padDist,\n",
    "                                    meshType='TREE', meshGlobal = mesh,\n",
    "                                    verticalAlignment='center')\n",
    "\n",
    "# Refine the mesh around topography\n",
    "mesh1 = Utils.modelutils.refineTree(mesh1, rxLoc1, dtype='surface',\n",
    "                                   nCpad=[6, 2, 2], finalize=True)\n",
    "\n",
    "\n",
    "actv1 = mesh1.gridCC[:,2] < mesh.vectorNz[-1]\n",
    "# Create the forward model operator\n",
    "# Create reduced identity map\n",
    "tileMap1 = Maps.Tile((mesh, actv), (mesh1, actv1))\n",
    "prob1 = PF.Magnetics.MagneticIntegral(mesh1, chiMap=tileMap1, actInd=actv1)\n",
    "\n",
    "# Pair the survey and problem\n",
    "survey1.pair(prob1)\n",
    "wr = np.sum((prob1.G*prob1.chiMap.deriv(None))**2., axis = 0)\n",
    "\n",
    "\n",
    "\n",
    "# # Create second local problem\n",
    "# mesh2 = Mesh.TensorMesh([hxind, hyind, hzind], 'CCC')\n",
    "# mesh2.x0 = np.r_[mesh2.x0[0], mesh2.x0[1]-10, mesh2.x0[2]]\n",
    "\n",
    "index2 = rxLoc[:,1]<=0\n",
    "rxLoc2 = rxLoc[index2,:]\n",
    "rx = PF.BaseMag.RxObs(rxLoc2)\n",
    "srcField = PF.BaseMag.SrcField([rx], param=H0)\n",
    "survey2 = PF.BaseMag.LinearSurvey(srcField)\n",
    "survey2.dobs = survey.dobs[index2]\n",
    "survey2.index = index2\n",
    "\n",
    "# Create a topography\n",
    "mesh2 = Utils.modelutils.meshBuilder(rxLoc2, h, padDist,\n",
    "                                    meshType='TREE', meshGlobal = mesh,\n",
    "                                    verticalAlignment='center')\n",
    "\n",
    "# Refine the mesh around topography\n",
    "mesh2 = Utils.modelutils.refineTree(mesh2, rxLoc2, dtype='surface',\n",
    "                                   nCpad=[6, 2, 2], finalize=True)\n",
    "\n",
    "actv2 = mesh2.gridCC[:,2] < mesh.vectorNz[-1]\n",
    "# Create the forward model operator\n",
    "tileMap2 = Maps.Tile((mesh, actv), (mesh2, actv2))\n",
    "prob2 = PF.Magnetics.MagneticIntegral(mesh2, chiMap=tileMap2, actInd=actv2)\n",
    "\n",
    "# Pair the survey and problem\n",
    "survey2.pair(prob2)\n",
    "wr += np.sum((prob2.G*prob2.chiMap.deriv(None))**2., axis = 0)\n",
    "\n",
    "\n"
   ]
  },
  {
   "cell_type": "code",
   "execution_count": 7,
   "metadata": {},
   "outputs": [],
   "source": [
    "# J1 = np.abs(prob1.G[0,:]*prob1.chiMap.deriv(None))+1e-3\n",
    "\n",
    "# J = np.abs(prob.G[200,:])\n",
    "# mesh.writeModelUBC('J1.dat',wr)\n",
    "# mesh.writeModelUBC('J.dat',np.sum(prob.G**2., axis=0))\n",
    "# mesh.writeUBC('MeshTensor.msh')"
   ]
  },
  {
   "cell_type": "markdown",
   "metadata": {},
   "source": []
  },
  {
   "cell_type": "code",
   "execution_count": 8,
   "metadata": {},
   "outputs": [
    {
     "name": "stdout",
     "output_type": "stream",
     "text": [
      "SimPEG.DataMisfit.l2_DataMisfit assigning default eps of 1e-5 * ||dobs||\n",
      "SimPEG.DataMisfit.l2_DataMisfit assigning default eps of 1e-5 * ||dobs||\n"
     ]
    }
   ],
   "source": [
    "# Create combo misfit\n",
    "dmis1 = DataMisfit.l2_DataMisfit(survey1)\n",
    "dmis1.W = np.ones(survey1.nD)\n",
    "\n",
    "dmis2 = DataMisfit.l2_DataMisfit(survey2)\n",
    "dmis2.W = np.ones(survey2.nD)\n",
    "\n",
    "globalMisfit = dmis1 + dmis2\n",
    "\n",
    "wr /= wr.max()\n",
    "wr **= 0.5\n"
   ]
  },
  {
   "cell_type": "code",
   "execution_count": 9,
   "metadata": {},
   "outputs": [],
   "source": [
    "actvMap1 = Maps.InjectActiveCells(mesh1, actv1, 0)\n",
    "actvMap2 = Maps.InjectActiveCells(mesh2, actv2, 0)\n"
   ]
  },
  {
   "cell_type": "code",
   "execution_count": 10,
   "metadata": {},
   "outputs": [
    {
     "data": {
      "image/png": "[encoded data removed]",
      "text/plain": [
       "<Figure size 576x576 with 2 Axes>"
      ]
     },
     "metadata": {},
     "output_type": "display_data"
    }
   ],
   "source": [
    "plt.figure(figsize=(8,8))\n",
    "axs = plt.subplot(1,2,1)\n",
    "mesh1.plotSlice(actvMap1*tileMap1*model, normal='Z', ind = -36,grid=True, ax=axs, clim=[0, 0.1])\n",
    "axs.set_xlim([mesh1.gridCC[:,0].min(),mesh1.gridCC[:,0].max()])\n",
    "axs.set_ylim([mesh1.gridCC[:,1].min(),mesh1.gridCC[:,1].max()])\n",
    "axs.set_aspect('equal')\n",
    "\n",
    "\n",
    "axs = plt.subplot(1,2,2)\n",
    "mesh2.plotSlice(actvMap2*tileMap2*model, normal='Z', ind = -36,grid=True, ax=axs, clim=[0, 0.1])\n",
    "axs.set_xlim([mesh2.gridCC[:,0].min(),mesh2.gridCC[:,0].max()])\n",
    "axs.set_ylim([mesh2.gridCC[:,1].min(),mesh2.gridCC[:,1].max()])\n",
    "axs.set_aspect('equal')\n",
    "plt.show()\n"
   ]
  },
  {
   "cell_type": "code",
   "execution_count": 11,
   "metadata": {},
   "outputs": [
    {
     "name": "stdout",
     "output_type": "stream",
     "text": [
      "(1712, 2)\n",
      "(9000, 2)\n",
      "(9222, 2)\n"
     ]
    }
   ],
   "source": [
    "from scipy.spatial import cKDTree\n",
    "tree = cKDTree(mesh.gridCC[actv,:])\n",
    "r, ind = tree.query(mesh2.gridCC[actv2])\n",
    "local2Global = np.c_[np.where(actv2)[0], ind]\n",
    "\n",
    "tree = cKDTree(mesh2.gridCC[actv2,:])\n",
    "r, ind = tree.query(mesh.gridCC[actv])\n",
    "global2Local = np.c_[np.where(actv)[0], ind]\n",
    "\n",
    "full = np.unique(np.vstack([local2Global, global2Local[:,[1,0]]]), axis=0)\n",
    "print(local2Global.shape)\n",
    "print(global2Local.shape)\n",
    "print(full.shape)\n",
    "# (mesh, actv), (mesh2, actv2)"
   ]
  },
  {
   "cell_type": "code",
   "execution_count": 12,
   "metadata": {
    "scrolled": false
   },
   "outputs": [
    {
     "name": "stdout",
     "output_type": "stream",
     "text": [
      "SimPEG.InvProblem will set Regularization.mref to m0.\n",
      "Approximated diag(JtJ) with linear operator\n",
      "model has any nan: 0\n",
      "=============================== Projected GNCG ===============================\n",
      "  #     beta     phi_d     phi_m       f      |proj(x-g)-x|  LS    Comment   \n",
      "-----------------------------------------------------------------------------\n",
      "x0 has any nan: 0\n",
      "   0  8.67e+09  1.26e+06  0.00e+00  1.26e+06    7.52e+01      0              \n",
      "   1  4.33e+09  1.00e+06  1.19e-05  1.05e+06    7.71e+01      0              \n",
      "   2  2.17e+09  8.30e+05  4.03e-05  9.17e+05    7.57e+01      0   Skip BFGS  \n",
      "   3  1.08e+09  6.35e+05  1.06e-04  7.49e+05    7.47e+01      0   Skip BFGS  \n",
      "   4  5.42e+08  4.48e+05  2.29e-04  5.72e+05    7.42e+01      0   Skip BFGS  \n",
      "   5  2.71e+08  3.03e+05  4.18e-04  4.16e+05    7.32e+01      0   Skip BFGS  \n",
      "   6  1.35e+08  1.98e+05  6.94e-04  2.92e+05    7.16e+01      0   Skip BFGS  \n",
      "   7  6.77e+07  1.19e+05  1.11e-03  1.94e+05    7.00e+01      0   Skip BFGS  \n",
      "   8  3.38e+07  6.18e+04  1.70e-03  1.19e+05    6.75e+01      0   Skip BFGS  \n",
      "   9  1.69e+07  2.72e+04  2.41e-03  6.79e+04    6.03e+01      0   Skip BFGS  \n",
      "  10  8.46e+06  1.04e+04  3.07e-03  3.64e+04    6.44e+01      0   Skip BFGS  \n",
      "  11  4.23e+06  3.71e+03  3.60e-03  1.89e+04    6.60e+01      0   Skip BFGS  \n",
      "  12  2.12e+06  1.44e+03  3.96e-03  9.82e+03    5.74e+01      0   Skip BFGS  \n",
      "  13  1.06e+06  6.55e+02  4.21e-03  5.11e+03    5.84e+01      0   Skip BFGS  \n",
      "  14  5.29e+05  3.89e+02  4.38e-03  2.70e+03    6.61e+01      0   Skip BFGS  \n",
      "  15  2.64e+05  2.50e+02  4.52e-03  1.44e+03    6.36e+01      0   Skip BFGS  \n",
      "  16  1.32e+05  2.47e+02  4.53e-03  8.46e+02    5.36e+01      3   Skip BFGS  \n",
      "Reached starting chifact with l2-norm regularization: Start IRLS steps...\n",
      "eps_p: 0.013536329193729149 eps_q: 0.013536329193729149\n",
      "delta phim:    inf\n",
      "  17  6.61e+04  1.98e+02  4.66e-03  5.06e+02    5.65e+01      0              \n"
     ]
    },
    {
     "name": "stderr",
     "output_type": "stream",
     "text": [
      "C:\\Users\\DominiqueFournier\\Documents\\GIT\\SimPEG\\SimPEG\\Directives.py:915: RuntimeWarning: divide by zero encountered in double_scalars\n",
      "  self.f_change = np.abs(self.f_old - phim_new) / self.f_old\n"
     ]
    },
    {
     "name": "stdout",
     "output_type": "stream",
     "text": [
      "  18  6.61e+04  1.97e+02  4.65e-03  5.05e+02    7.18e+01      3   Skip BFGS  \n",
      "  19  6.61e+04  1.97e+02  4.64e-03  5.04e+02    6.92e+01      2   Skip BFGS  \n",
      "delta phim: 8.819e-02\n",
      "  20  6.61e+04  1.97e+02  4.64e-03  5.03e+02    6.59e+01      5   Skip BFGS  \n",
      "  21  6.61e+04  1.94e+02  4.65e-03  5.01e+02    5.36e+01      2   Skip BFGS  \n",
      "  22  6.61e+04  1.94e+02  4.65e-03  5.01e+02    5.36e+01      6   Skip BFGS  \n",
      "delta phim: 1.172e-02\n",
      "  23  6.61e+04  1.90e+02  4.65e-03  4.98e+02    6.59e+01      3              \n",
      "Beta search step\n",
      "  23  1.03e+05  1.90e+02  4.65e-03  6.72e+02    6.57e+01      0   Skip BFGS  \n",
      "Beta search step\n",
      "  23  1.61e+05  1.90e+02  4.65e-03  9.42e+02    6.53e+01      0   Skip BFGS  \n",
      "  24  1.61e+05  1.85e+02  4.65e-03  9.35e+02    7.24e+01      0              \n",
      "  25  1.61e+05  1.84e+02  4.65e-03  9.34e+02    5.43e+01      3              \n",
      "------------------------------------------------------------------\n",
      "0 :    ft     = 9.3372e+02 <= alp*descent     = 9.3372e+02\n",
      "1 : maxIterLS =      20    <= iterLS          =     20\n",
      "------------------------- End Linesearch -------------------------\n",
      "The linesearch got broken. Boo.\n"
     ]
    }
   ],
   "source": [
    "\n",
    "# Create a regularization\n",
    "reg = Regularization.Sparse(mesh, indActive=actv, mapping=idenMap)\n",
    "reg.cell_weights = wr\n",
    "# reg.norms = [0, 1, 1, 1]\n",
    "# reg.eps_p, reg.eps_q = 1e-3, 1e-3\n",
    "\n",
    "\n",
    "# Add directives to the inversion\n",
    "opt = Optimization.ProjectedGNCG(maxIter=100, lower=0., upper=1.,\n",
    "                                 maxIterLS=20, maxIterCG=10, tolCG=1e-3)\n",
    "invProb = InvProblem.BaseInvProblem(globalMisfit, reg, opt)\n",
    "betaest = Directives.BetaEstimate_ByEig()\n",
    "\n",
    "# Here is where the norms are applied\n",
    "# Use pick a treshold parameter empirically based on the distribution of\n",
    "#  model parameters\n",
    "IRLS = Directives.Update_IRLS(f_min_change=1e-3, minGNiter=3)\n",
    "update_Jacobi = Directives.UpdatePreconditioner()\n",
    "inv = Inversion.BaseInversion(invProb,\n",
    "                              directiveList=[IRLS, betaest, update_Jacobi])\n",
    "\n",
    "# Run the inversion\n",
    "m0 = np.ones(nC)*1e-4  # Starting model\n",
    "mrec = inv.run(m0)"
   ]
  },
  {
   "cell_type": "code",
   "execution_count": 13,
   "metadata": {},
   "outputs": [
    {
     "data": {
      "image/png": "[encoded data removed]",
      "text/plain": [
       "<Figure size 720x288 with 3 Axes>"
      ]
     },
     "metadata": {},
     "output_type": "display_data"
    }
   ],
   "source": [
    "fig = plot_panels(invProb.model)\n",
    "fig.savefig(\"Tiled.png\")"
   ]
  },
  {
   "cell_type": "code",
   "execution_count": 14,
   "metadata": {},
   "outputs": [],
   "source": [
    "dpred = np.zeros(survey.nD)\n",
    "for ind, dmis in enumerate(globalMisfit.objfcts):\n",
    "    dpred[dmis.survey.index] += dmis.survey.dpred(mrec)"
   ]
  },
  {
   "cell_type": "code",
   "execution_count": 15,
   "metadata": {},
   "outputs": [
    {
     "data": {
      "image/png": "[encoded data removed]",
      "text/plain": [
       "<Figure size 432x288 with 3 Axes>"
      ]
     },
     "metadata": {},
     "output_type": "display_data"
    }
   ],
   "source": [
    "ax = plt.subplot(1,3,1)\n",
    "Utils.plot2Ddata(rxLoc, d, ax=ax)\n",
    "\n",
    "ax = plt.subplot(1,3,2)\n",
    "Utils.plot2Ddata(rxLoc, dpred, ax=ax)\n",
    "\n",
    "ax = plt.subplot(1,3,3)\n",
    "Utils.plot2Ddata(rxLoc, d-dpred, ax=ax)\n",
    "\n",
    "plt.show()\n"
   ]
  },
  {
   "cell_type": "markdown",
   "metadata": {},
   "source": [
    "Re-run the problem in one shot"
   ]
  },
  {
   "cell_type": "code",
   "execution_count": 16,
   "metadata": {},
   "outputs": [
    {
     "name": "stdout",
     "output_type": "stream",
     "text": [
      "SimPEG.DataMisfit.l2_DataMisfit assigning default eps of 1e-5 * ||dobs||\n",
      "SimPEG.InvProblem will set Regularization.mref to m0.\n",
      "Approximated diag(JtJ) with linear operator\n",
      "model has any nan: 0\n",
      "=============================== Projected GNCG ===============================\n",
      "  #     beta     phi_d     phi_m       f      |proj(x-g)-x|  LS    Comment   \n",
      "-----------------------------------------------------------------------------\n",
      "x0 has any nan: 0\n",
      "   0  1.11e+10  1.25e+06  0.00e+00  1.25e+06    7.60e+01      0              \n",
      "   1  5.55e+09  1.05e+06  7.75e-06  1.10e+06    7.80e+01      0              \n",
      "   2  2.78e+09  9.13e+05  2.63e-05  9.86e+05    7.62e+01      0   Skip BFGS  \n",
      "   3  1.39e+09  7.28e+05  7.49e-05  8.32e+05    7.55e+01      0   Skip BFGS  \n",
      "   4  6.94e+08  5.27e+05  1.79e-04  6.51e+05    7.50e+01      0   Skip BFGS  \n",
      "   5  3.47e+08  3.56e+05  3.54e-04  4.79e+05    7.42e+01      0   Skip BFGS  \n",
      "   6  1.73e+08  2.32e+05  6.08e-04  3.37e+05    7.30e+01      0   Skip BFGS  \n",
      "   7  8.67e+07  1.42e+05  9.74e-04  2.27e+05    7.12e+01      0   Skip BFGS  \n",
      "   8  4.34e+07  7.81e+04  1.50e-03  1.43e+05    6.89e+01      0   Skip BFGS  \n",
      "   9  2.17e+07  3.65e+04  2.16e-03  8.34e+04    6.52e+01      0   Skip BFGS  \n",
      "  10  1.08e+07  1.44e+04  2.85e-03  4.53e+04    6.34e+01      0   Skip BFGS  \n",
      "  11  5.42e+06  5.24e+03  3.41e-03  2.37e+04    6.23e+01      0   Skip BFGS  \n",
      "  12  2.71e+06  1.94e+03  3.82e-03  1.23e+04    6.26e+01      0   Skip BFGS  \n",
      "  13  1.36e+06  8.21e+02  4.10e-03  6.38e+03    6.47e+01      0   Skip BFGS  \n",
      "  14  6.78e+05  4.42e+02  4.29e-03  3.35e+03    5.26e+01      0   Skip BFGS  \n",
      "  15  3.39e+05  2.80e+02  4.43e-03  1.78e+03    5.17e+01      0   Skip BFGS  \n",
      "  16  1.69e+05  2.22e+02  4.53e-03  9.90e+02    7.46e+01      0   Skip BFGS  \n",
      "------------------------------------------------------------------\n",
      "0 :    ft     = 9.8993e+02 <= alp*descent     = 9.8993e+02\n",
      "1 : maxIterLS =      20    <= iterLS          =     20\n",
      "------------------------- End Linesearch -------------------------\n",
      "The linesearch got broken. Boo.\n"
     ]
    }
   ],
   "source": [
    "wr = np.sum(prob.G**2., axis=0)**0.5\n",
    "wr /= wr.max()\n",
    "\n",
    "# Create a regularization\n",
    "reg = Regularization.Sparse(mesh, indActive=actv, mapping=idenMap)\n",
    "reg.cell_weights = wr\n",
    "\n",
    "# Create misfit function\n",
    "dmis = DataMisfit.l2_DataMisfit(survey)\n",
    "dmis.W = np.ones(survey.nD)\n",
    "\n",
    "# Add directives to the inversion\n",
    "opt = Optimization.ProjectedGNCG(maxIter=100, lower=0., upper=1.,\n",
    "                                 maxIterLS=20, maxIterCG=10, tolCG=1e-3)\n",
    "invProb = InvProblem.BaseInvProblem(dmis, reg, opt)\n",
    "betaest = Directives.BetaEstimate_ByEig()\n",
    "\n",
    "# Here is where the norms are applied\n",
    "# Use pick a treshold parameter empirically based on the distribution of\n",
    "#  model parameters\n",
    "IRLS = Directives.Update_IRLS(f_min_change=1e-3, minGNiter=3)\n",
    "update_Jacobi = Directives.UpdatePreconditioner()\n",
    "inv = Inversion.BaseInversion(invProb,\n",
    "                              directiveList=[IRLS, betaest, update_Jacobi])\n",
    "\n",
    "# Run the inversion\n",
    "m0 = np.ones(nC)*1e-4  # Starting model\n",
    "mrec = inv.run(m0)"
   ]
  },
  {
   "cell_type": "code",
   "execution_count": 17,
   "metadata": {},
   "outputs": [
    {
     "data": {
      "image/png": "[encoded data removed]",
      "text/plain": [
       "<Figure size 720x288 with 3 Axes>"
      ]
     },
     "metadata": {},
     "output_type": "display_data"
    }
   ],
   "source": [
    "fig = plot_panels(mrec)\n",
    "fig.savefig(\"Conventional.png\")"
   ]
  },
  {
   "cell_type": "code",
   "execution_count": 6,
   "metadata": {},
   "outputs": [
    {
     "name": "stdout",
     "output_type": "stream",
     "text": [
      "SimPEG.DataMisfit.l2_DataMisfit assigning default eps of 1e-5 * ||dobs||\n",
      "Begin forward: M=H0, Rx type= tmi\n",
      "SimPEG.DataMisfit.l2_DataMisfit assigning default eps of 1e-5 * ||dobs||\n",
      "Prob0\n",
      "SimPEG.DataMisfit.l2_DataMisfit assigning default eps of 1e-5 * ||dobs||\n",
      "Prob1\n",
      "SimPEG.DataMisfit.l2_DataMisfit assigning default eps of 1e-5 * ||dobs||\n",
      "Prob2\n",
      "SimPEG.DataMisfit.l2_DataMisfit assigning default eps of 1e-5 * ||dobs||\n",
      "Prob3\n",
      "SimPEG.DataMisfit.l2_DataMisfit assigning default eps of 1e-5 * ||dobs||\n",
      "Prob4\n",
      "SimPEG.DataMisfit.l2_DataMisfit assigning default eps of 1e-5 * ||dobs||\n",
      "Prob5\n",
      "SimPEG.DataMisfit.l2_DataMisfit assigning default eps of 1e-5 * ||dobs||\n",
      "Prob6\n",
      "SimPEG.DataMisfit.l2_DataMisfit assigning default eps of 1e-5 * ||dobs||\n",
      "Prob7\n",
      "SimPEG.DataMisfit.l2_DataMisfit assigning default eps of 1e-5 * ||dobs||\n",
      "Prob8\n",
      "SimPEG.DataMisfit.l2_DataMisfit assigning default eps of 1e-5 * ||dobs||\n",
      "Prob9\n"
     ]
    }
   ],
   "source": [
    "# dmis = DataMisfit.l2_DataMisfit(survey)\n",
    "\n",
    "# # Create multiple problems with shared G\n",
    "# combo = dmis\n",
    "\n",
    "# for ii in range(10):\n",
    "    \n",
    "#     surveyTile = PF.BaseMag.LinearSurvey(srcField)\n",
    "#     # Create the forward model operator\n",
    "#     probTile = PF.Magnetics.MagneticIntegral(mesh, chiMap=idenMap, actInd=actv, parallelized=True)\n",
    "\n",
    "#     # Pair the survey and problem\n",
    "#     surveyTile.pair(probTile)\n",
    "\n",
    "#     if ii > 0:\n",
    "#         probTile._G = dmis.prob.G\n",
    "#     # Compute linear forward operator and compute some data\n",
    "#     d = probTile.fields(model)\n",
    "#     surveyTile.dobs=d\n",
    "#     dmis = DataMisfit.l2_DataMisfit(surveyTile)\n",
    "    \n",
    "#     print(\"Prob\" + str(ii))\n",
    "#     combo += dmis\n"
   ]
  },
  {
   "cell_type": "code",
   "execution_count": 32,
   "metadata": {},
   "outputs": [],
   "source": [
    "del combo\n"
   ]
  },
  {
   "cell_type": "code",
   "execution_count": null,
   "metadata": {},
   "outputs": [],
   "source": []
  }
 ],
 "metadata": {
  "kernelspec": {
   "display_name": "Python 3",
   "language": "python",
   "name": "python3"
  },
  "language_info": {
   "codemirror_mode": {
    "name": "ipython",
    "version": 3
   },
   "file_extension": ".py",
   "mimetype": "text/x-python",
   "name": "python",
   "nbconvert_exporter": "python",
   "pygments_lexer": "ipython3",
   "version": "3.6.5"
  }
 },
 "nbformat": 4,
 "nbformat_minor": 2
}
