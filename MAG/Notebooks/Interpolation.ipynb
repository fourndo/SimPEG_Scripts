{
 "cells": [
  {
   "cell_type": "code",
   "execution_count": 1,
   "metadata": {
    "collapsed": false
   },
   "outputs": [
    {
     "name": "stdout",
     "output_type": "stream",
     "text": [
      "Efficiency Warning: Interpolation will be slow, use setup.py!\n",
      "\n",
      "            python setup.py build_ext --inplace\n",
      "    \n"
     ]
    }
   ],
   "source": [
    "from SimPEG import *"
   ]
  },
  {
   "cell_type": "code",
   "execution_count": 24,
   "metadata": {
    "collapsed": false
   },
   "outputs": [],
   "source": [
    "path = 'C:/Users/dominiquef.MIRAGEOSCIENCE/Desktop/Merge/';\n",
    "meshto = Utils.meshutils.readUBCTensorMesh(path+'UBC_mesh_1D_Uniform.msh');\n",
    "#modelto =Utils.meshutils.readUBCTensorModel(path+'Inv_1D_Uniform.con', meshto);\n",
    "modelto = np.ones(meshto.nC);"
   ]
  },
  {
   "cell_type": "code",
   "execution_count": 25,
   "metadata": {
    "collapsed": false
   },
   "outputs": [],
   "source": [
    "meshfrom = Utils.meshutils.readUBCTensorMesh(path+'UBC_mesh_small_v2.msh');\n",
    "modelfrom = Utils.meshutils.readUBCTensorModel(path+'Inv_1D_iter8.con', meshfrom);"
   ]
  },
  {
   "cell_type": "code",
   "execution_count": 26,
   "metadata": {
    "collapsed": false
   },
   "outputs": [],
   "source": [
    "inactindfrom = modelfrom==1e-8;\n",
    "inactindto = modelto==1e-8;"
   ]
  },
  {
   "cell_type": "code",
   "execution_count": 27,
   "metadata": {
    "collapsed": true
   },
   "outputs": [],
   "source": [
    "import scipy.interpolate as interpolation\n",
    "def InterpMeshtoMesh(meshfrom, meshto, mfrom, inactindfrom, inactindto, inactval = 1e-8):\n",
    "    Fint = interpolation.NearestNDInterpolator(meshfrom.gridCC[~inactindfrom,:],modelfrom[~inactindfrom]) \n",
    "    modelout = np.ones(meshto.nC)*inactval\n",
    "    modelout[~inactindto] = Fint(meshto.gridCC[~inactindto,:])\n",
    "    return modelout"
   ]
  },
  {
   "cell_type": "code",
   "execution_count": 28,
   "metadata": {
    "collapsed": false
   },
   "outputs": [],
   "source": [
    "magout = InterpMeshtoMesh(meshfrom, meshto, modelfrom, inactindfrom, inactindto)"
   ]
  },
  {
   "cell_type": "code",
   "execution_count": 29,
   "metadata": {
    "collapsed": false
   },
   "outputs": [],
   "source": [
    "Utils.meshutils.writeUBCTensorModel(path + \"Inv_1D_Uniform.con\", meshto, magout)"
   ]
  },
  {
   "cell_type": "code",
   "execution_count": 17,
   "metadata": {
    "collapsed": false
   },
   "outputs": [
    {
     "data": {
      "text/plain": [
       "15758"
      ]
     },
     "execution_count": 17,
     "metadata": {},
     "output_type": "execute_result"
    }
   ],
   "source": [
    "inactindto.sum()"
   ]
  },
  {
   "cell_type": "code",
   "execution_count": null,
   "metadata": {
    "collapsed": true
   },
   "outputs": [],
   "source": []
  }
 ],
 "metadata": {
  "kernelspec": {
   "display_name": "Python 2",
   "language": "python",
   "name": "python2"
  },
  "language_info": {
   "codemirror_mode": {
    "name": "ipython",
    "version": 2
   },
   "file_extension": ".py",
   "mimetype": "text/x-python",
   "name": "python",
   "nbconvert_exporter": "python",
   "pygments_lexer": "ipython2",
   "version": "2.7.10"
  }
 },
 "nbformat": 4,
 "nbformat_minor": 0
}
