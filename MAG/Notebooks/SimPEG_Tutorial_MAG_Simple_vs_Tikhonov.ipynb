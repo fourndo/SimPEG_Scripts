{
 "cells": [
  {
   "cell_type": "markdown",
   "metadata": {},
   "source": [
    "Magnetic Inversion - Simple vs Tikhonov Regularization\n",
    "=\n",
    "\n",
    "**Objective**\n",
    "\n",
    "Invert mag data on a TreeMesh using Simple and Tikhonov\n"
   ]
  },
  {
   "cell_type": "code",
   "execution_count": 1,
   "metadata": {},
   "outputs": [],
   "source": [
    "# Load the various libraries\n",
    "from SimPEG import Mesh, Directives, Maps, InvProblem, Optimization, DataMisfit, Inversion, Utils, Regularization\n",
    "import SimPEG.PF as PF\n",
    "import numpy as np\n",
    "import scipy as sp\n",
    "import matplotlib.pyplot as plt\n",
    "from SimPEG.Utils import speye"
   ]
  },
  {
   "cell_type": "markdown",
   "metadata": {},
   "source": [
    "Data\n",
    "==\n",
    "\n",
    "First we need to load some mag data."
   ]
  },
  {
   "cell_type": "code",
   "execution_count": 2,
   "metadata": {},
   "outputs": [],
   "source": [
    "# Load some data in x,y,z,data(nT)\n",
    "# dataMat = np.loadtxt('.\\Synthetic\\Obs_loc_TMI.obs')\n",
    "# xyzLoc = dataMat[:,:3]\n",
    "# data = dataMat[:,3]\n",
    "\n",
    "# The data was simulated with a simple vertical inducing field. \n",
    "# This only matters for the data projection.\n",
    "H0 = [50000, 90 , 0] # Strenght (nT), Inc (deg), Dec (deg)\n",
    "\n",
    "# We can create a Topo\n",
    "xr = np.linspace(-100., 100., 5)\n",
    "yr = np.linspace(-100., 100., 5)\n",
    "X, Y = np.meshgrid(xr, yr)\n",
    "Z = np.zeros(X.size)+5. # Let just put the observation flat\n",
    "\n",
    "topo = np.c_[Utils.mkvc(X.T), Utils.mkvc(Y.T), Utils.mkvc(Z.T*0)]\n"
   ]
  },
  {
   "cell_type": "markdown",
   "metadata": {},
   "source": [
    "**Mesh**\n",
    "=====\n",
    "Now we need a mesh to invert physical properties on. \n",
    "I provided a mesh in the same folder, but generally you won't have one.\n",
    "It is a tradeoff between having a very large problem to solve (too small cells) versus resolution (too coarse). Usually recommended to have 1 or 2 cells between each survey lines.\n",
    "\n",
    "We created a small utility to generate a mesh based on the core cell dimension and padding distance. Use at your own risk ;)"
   ]
  },
  {
   "cell_type": "code",
   "execution_count": 3,
   "metadata": {},
   "outputs": [],
   "source": [
    "from scipy.interpolate import NearestNDInterpolator\n",
    "from SimPEG.Utils.matutils import mkvc\n",
    "def refineTree(mesh, xyz, finalize=False, dtype=\"point\", nCpad=[1, 1, 1]):\n",
    "\n",
    "    maxLevel = int(np.log2(mesh.hx.shape[0]))\n",
    "\n",
    "    if dtype == \"point\":\n",
    "\n",
    "        mesh.insert_cells(xyz, np.ones(xyz.shape[0])*maxLevel, finalize=False)\n",
    "\n",
    "        stencil = np.r_[\n",
    "                np.ones(nCpad[0]),\n",
    "                np.ones(nCpad[1])*2,\n",
    "                np.ones(nCpad[2])*3\n",
    "            ]\n",
    "\n",
    "        # Reflect in the opposite direction\n",
    "        vec = np.r_[stencil[::-1], 1, stencil]\n",
    "        vecX, vecY, vecZ = np.meshgrid(vec, vec, vec)\n",
    "        gridLevel = np.maximum(np.maximum(np.abs(vecX),\n",
    "                               np.abs(vecY)), np.abs(vecZ))\n",
    "        print(gridLevel.shape)\n",
    "        gridLevel = np.kron(np.ones(xyz.shape[0]), mkvc(gridLevel))\n",
    "        print(np.ones((xyz.shape[0], 1)).shape, gridLevel.shape)\n",
    "        # Grid the coordinates\n",
    "        vec = np.r_[-np.cumsum(stencil)[::-1], 0, np.cumsum(stencil)]\n",
    "        vecX, vecY, vecZ = np.meshgrid(vec, vec, vec)\n",
    "        offset = np.c_[\n",
    "            mkvc(np.sign(vecX)*np.abs(vecX) * mesh.hx.min()),\n",
    "            mkvc(np.sign(vecY)*np.abs(vecY) * mesh.hy.min()),\n",
    "            mkvc(np.sign(vecZ)*np.abs(vecZ) * mesh.hz.min())\n",
    "        ]\n",
    "\n",
    "        # Replicate the point locations in each offseted grid points\n",
    "        newLoc = (\n",
    "            np.kron(xyz, np.ones((offset.shape[0], 1))) +\n",
    "            np.kron(np.ones((xyz.shape[0], 1)), offset)\n",
    "        )\n",
    "        \n",
    "        for ii in range(3):\n",
    "            ind = gridLevel==ii\n",
    "            print(ind.shape, newLoc.shape, gridLevel.shape)\n",
    "            mesh.insert_cells(\n",
    "                newLoc[ind,:], maxLevel-mkvc(gridLevel[ind])+1, finalize=False\n",
    "            )\n",
    "\n",
    "        if finalize:\n",
    "            mesh.finalize()\n",
    "            \n",
    "    elif dtype == 'surface':\n",
    "\n",
    "        # Get extent of points\n",
    "        limx = np.r_[xyz[:, 0].max(), xyz[:, 0].min()]\n",
    "        limy = np.r_[xyz[:, 1].max(), xyz[:, 1].min()]\n",
    "\n",
    "        F = NearestNDInterpolator(xyz[:, :2], xyz[:, 2])\n",
    "        zOffset = 0\n",
    "        # Cycle through the first 3 octree levels\n",
    "        for ii in range(3):\n",
    "\n",
    "            dx = mesh.hx.min()*2**ii\n",
    "\n",
    "            # Horizontal offset\n",
    "            xyOff = dx * 2\n",
    "\n",
    "            nCx = int(limx[0]-limx[1] + 2 * xyOff) / dx\n",
    "            nCy = int(limy[0]-limy[1] + 2 * xyOff) / dx\n",
    "\n",
    "            # Create a grid at the octree level in xy\n",
    "            CCx, CCy = np.meshgrid(\n",
    "                np.linspace(limx[1]-xyOff, limx[0]+xyOff, nCx),\n",
    "                np.linspace(limy[1]-xyOff, limy[0]+xyOff, nCy)\n",
    "            )\n",
    "\n",
    "            z = F(mkvc(CCx), mkvc(CCy))\n",
    "\n",
    "            for level in range(int(nCpad[ii])):\n",
    "\n",
    "                mesh.insert_cells(\n",
    "                    np.c_[mkvc(CCx), mkvc(CCy), z-zOffset], np.ones_like(z)*maxLevel-ii,\n",
    "                    finalize=False\n",
    "                )\n",
    "\n",
    "                zOffset += dx\n",
    "\n",
    "        if finalize:\n",
    "            mesh.finalize()\n",
    "\n",
    "    else:\n",
    "        NotImplementedError(\"Only dtype='points' has been implemented\")\n",
    "\n",
    "    return mesh"
   ]
  },
  {
   "cell_type": "code",
   "execution_count": 4,
   "metadata": {
    "scrolled": true
   },
   "outputs": [],
   "source": [
    "# Create a MAGsurvey\n",
    "xyzLoc = np.c_[Utils.mkvc(X.T), Utils.mkvc(Y.T), Utils.mkvc(Z.T)]\n",
    "rxLoc = PF.BaseMag.RxObs(xyzLoc)\n",
    "srcField = PF.BaseMag.SrcField([rxLoc], param=H0)\n",
    "survey = PF.BaseMag.LinearSurvey(srcField) \n",
    "\n",
    "\n",
    "\n",
    "# I want 10 m cells in x, y and z covering our survey\n",
    "h = np.r_[5., 5., 5.]\n",
    "\n",
    "# Also need to paddout far enough in case there is a regional field\n",
    "# Here I am sending distances N, S, E, W, above and below all at once\n",
    "# Let's say 200 m padding\n",
    "padDist = np.ones((3,2))*200.\n",
    "\n",
    "mesh = Utils.modelutils.meshBuilder(topo, h, padDist,\n",
    "                   meshGlobal=None,\n",
    "                   expFact=1.3,\n",
    "                   meshType='TREE',\n",
    "                   verticalAlignment='top')\n",
    "\n",
    "# mesh = refineTree(mesh, topo, finalize=False, dtype=\"surface\", nCpad=[0, 1, 0])\n",
    "\n",
    "mesh = Utils.modelutils.refineTree(mesh, xyzLoc, finalize=True, dtype=\"point\", nCpad=[1, 1, 0])\n",
    "\n",
    "# First we need to discretize the topo onto the mesh\n",
    "# This function will assign 0:air, 1:ground\n",
    "actv = np.ones(mesh.nC, dtype='bool') #Utils.modelutils.surface2ind_topo(mesh, topo+1, gridLoc='CC', method='nearest')\n",
    "nC = int(np.sum(actv))\n",
    "\n",
    "# Creat reduced identity map\n",
    "idenMap = Maps.IdentityMap(nP=nC)\n",
    "\n",
    "# Create the forward model operator\n",
    "prob = PF.Magnetics.MagneticIntegral(mesh, chiMap=idenMap,\n",
    "                                     actInd=actv,\n",
    "                                    parallelized=True)\n",
    "# Pair the survey and problem\n",
    "survey.pair(prob)\n",
    "\n",
    "\n",
    "\n",
    "# And save a copy on disk for later use\n",
    "# mesh.writeUBC(\"MeshOctree.msh\", models:{'TensorTest.msh':actv})"
   ]
  },
  {
   "cell_type": "code",
   "execution_count": 5,
   "metadata": {},
   "outputs": [],
   "source": [
    "# # We can plot it to see\n",
    "# ax = plt.subplot()\n",
    "# mesh.plotSlice(actv, normal='Z', ax=ax)\n",
    "# ax.set_xlim(-100,100)\n",
    "# ax.set_ylim(-100,100)\n",
    "# plt.show()"
   ]
  },
  {
   "cell_type": "code",
   "execution_count": 6,
   "metadata": {},
   "outputs": [
    {
     "name": "stdout",
     "output_type": "stream",
     "text": [
      "Begin forward: M=H0, Rx type= tmi\n"
     ]
    },
    {
     "data": {
      "image/png": "[encoded data removed]",
      "text/plain": [
       "<Figure size 432x288 with 1 Axes>"
      ]
     },
     "metadata": {
      "needs_background": "light"
     },
     "output_type": "display_data"
    },
    {
     "data": {
      "text/plain": [
       "<matplotlib.colorbar.Colorbar at 0x1ec529a1278>"
      ]
     },
     "execution_count": 6,
     "metadata": {},
     "output_type": "execute_result"
    },
    {
     "data": {
      "image/png": "[encoded data removed]",
      "text/plain": [
       "<Figure size 432x288 with 2 Axes>"
      ]
     },
     "metadata": {
      "needs_background": "light"
     },
     "output_type": "display_data"
    }
   ],
   "source": [
    "# Add a block \n",
    "ind = Utils.ModelBuilder.getIndicesBlock(np.r_[-75,-75,-50], np.r_[75,75,-10], mesh.gridCC)\n",
    "model = np.zeros(mesh.nC)\n",
    "model[ind] = 0.01\n",
    "\n",
    "actvMap = Maps.InjectActiveCells(mesh, actv, 0)\n",
    "mesh.writeUBC('OctreeMesh.msh', models={\"Model.sus\":model})\n",
    "\n",
    "dobs = prob.fields(model[actv])\n",
    "survey.dobs = dobs\n",
    "survey.std = np.ones_like(dobs) * np.abs(dobs).min()\n",
    "\n",
    "\n",
    "# We can check how the discretized topography looks\n",
    "plt.figure()\n",
    "ax = plt.subplot()\n",
    "mesh.plotSlice(model, ax = ax, normal = 'Z', ind=-1, grid=True)\n",
    "ax.set_title('EW-Section of topography')\n",
    "ax.set_xlim(-150,150)\n",
    "ax.set_ylim(-150,150)\n",
    "ax.set_xlabel('x');ax.set_ylabel('y')\n",
    "plt.gca().set_aspect('equal', adjustable='box')\n",
    "plt.show()\n",
    "\n",
    "# Looking good\n",
    "# We can plot the data, looks like this\n",
    "# We can now generate data\n",
    "im = Utils.PlotUtils.plot2Ddata(survey.srcField.rxList[0].locs, survey.dobs)\n",
    "plt.colorbar(im[0])\n"
   ]
  },
  {
   "cell_type": "markdown",
   "metadata": {},
   "source": []
  },
  {
   "cell_type": "markdown",
   "metadata": {},
   "source": [
    "Once we have our problem, we can use the inversion tools in SimPEG to run our inversion:"
   ]
  },
  {
   "cell_type": "code",
   "execution_count": 7,
   "metadata": {
    "scrolled": true
   },
   "outputs": [
    {
     "ename": "NotImplementedError",
     "evalue": "The out parameter is not fully supported. Received type ndarray, expected Dask Array",
     "output_type": "error",
     "traceback": [
      "\u001b[1;31m---------------------------------------------------------------------------\u001b[0m",
      "\u001b[1;31mNotImplementedError\u001b[0m                       Traceback (most recent call last)",
      "\u001b[1;32m<ipython-input-7-5c511317a5f3>\u001b[0m in \u001b[0;36m<module>\u001b[1;34m()\u001b[0m\n\u001b[0;32m      3\u001b[0m \u001b[0mwr\u001b[0m \u001b[1;33m=\u001b[0m \u001b[0mnp\u001b[0m\u001b[1;33m.\u001b[0m\u001b[0mzeros\u001b[0m\u001b[1;33m(\u001b[0m\u001b[0mprob\u001b[0m\u001b[1;33m.\u001b[0m\u001b[0mG\u001b[0m\u001b[1;33m.\u001b[0m\u001b[0mshape\u001b[0m\u001b[1;33m[\u001b[0m\u001b[1;36m1\u001b[0m\u001b[1;33m]\u001b[0m\u001b[1;33m)\u001b[0m\u001b[1;33m\u001b[0m\u001b[0m\n\u001b[0;32m      4\u001b[0m \u001b[1;32mfor\u001b[0m \u001b[0mii\u001b[0m \u001b[1;32min\u001b[0m \u001b[0mrange\u001b[0m\u001b[1;33m(\u001b[0m\u001b[0msurvey\u001b[0m\u001b[1;33m.\u001b[0m\u001b[0mnD\u001b[0m\u001b[1;33m)\u001b[0m\u001b[1;33m:\u001b[0m\u001b[1;33m\u001b[0m\u001b[0m\n\u001b[1;32m----> 5\u001b[1;33m     \u001b[0mwr\u001b[0m \u001b[1;33m+=\u001b[0m \u001b[1;33m(\u001b[0m\u001b[0mprob\u001b[0m\u001b[1;33m.\u001b[0m\u001b[0mG\u001b[0m\u001b[1;33m[\u001b[0m\u001b[0mii\u001b[0m\u001b[1;33m,\u001b[0m \u001b[1;33m:\u001b[0m\u001b[1;33m]\u001b[0m\u001b[1;33m/\u001b[0m\u001b[0msurvey\u001b[0m\u001b[1;33m.\u001b[0m\u001b[0mstd\u001b[0m\u001b[1;33m[\u001b[0m\u001b[0mii\u001b[0m\u001b[1;33m]\u001b[0m\u001b[1;33m)\u001b[0m\u001b[1;33m**\u001b[0m\u001b[1;36m2.\u001b[0m\u001b[1;33m\u001b[0m\u001b[0m\n\u001b[0m\u001b[0;32m      6\u001b[0m \u001b[1;33m\u001b[0m\u001b[0m\n\u001b[0;32m      7\u001b[0m \u001b[1;31m# wr = (wr/np.max(wr))\u001b[0m\u001b[1;33m\u001b[0m\u001b[1;33m\u001b[0m\u001b[0m\n",
      "\u001b[1;32m~\\Anaconda3\\lib\\site-packages\\dask\\array\\core.py\u001b[0m in \u001b[0;36m__array_ufunc__\u001b[1;34m(self, numpy_ufunc, method, *inputs, **kwargs)\u001b[0m\n\u001b[0;32m   1214\u001b[0m                 \u001b[1;32mreturn\u001b[0m \u001b[0mda_ufunc\u001b[0m\u001b[1;33m(\u001b[0m\u001b[1;33m*\u001b[0m\u001b[0minputs\u001b[0m\u001b[1;33m,\u001b[0m \u001b[1;33m**\u001b[0m\u001b[0mkwargs\u001b[0m\u001b[1;33m)\u001b[0m\u001b[1;33m\u001b[0m\u001b[0m\n\u001b[0;32m   1215\u001b[0m             \u001b[1;32melse\u001b[0m\u001b[1;33m:\u001b[0m\u001b[1;33m\u001b[0m\u001b[0m\n\u001b[1;32m-> 1216\u001b[1;33m                 \u001b[1;32mreturn\u001b[0m \u001b[0melemwise\u001b[0m\u001b[1;33m(\u001b[0m\u001b[0mnumpy_ufunc\u001b[0m\u001b[1;33m,\u001b[0m \u001b[1;33m*\u001b[0m\u001b[0minputs\u001b[0m\u001b[1;33m,\u001b[0m \u001b[1;33m**\u001b[0m\u001b[0mkwargs\u001b[0m\u001b[1;33m)\u001b[0m\u001b[1;33m\u001b[0m\u001b[0m\n\u001b[0m\u001b[0;32m   1217\u001b[0m         \u001b[1;32melif\u001b[0m \u001b[0mmethod\u001b[0m \u001b[1;33m==\u001b[0m \u001b[1;34m'outer'\u001b[0m\u001b[1;33m:\u001b[0m\u001b[1;33m\u001b[0m\u001b[0m\n\u001b[0;32m   1218\u001b[0m             \u001b[1;32mfrom\u001b[0m \u001b[1;33m.\u001b[0m \u001b[1;32mimport\u001b[0m \u001b[0mufunc\u001b[0m\u001b[1;33m\u001b[0m\u001b[0m\n",
      "\u001b[1;32m~\\Anaconda3\\lib\\site-packages\\dask\\array\\core.py\u001b[0m in \u001b[0;36melemwise\u001b[1;34m(op, *args, **kwargs)\u001b[0m\n\u001b[0;32m   3499\u001b[0m                   **atop_kwargs)\n\u001b[0;32m   3500\u001b[0m \u001b[1;33m\u001b[0m\u001b[0m\n\u001b[1;32m-> 3501\u001b[1;33m     \u001b[1;32mreturn\u001b[0m \u001b[0mhandle_out\u001b[0m\u001b[1;33m(\u001b[0m\u001b[0mout\u001b[0m\u001b[1;33m,\u001b[0m \u001b[0mresult\u001b[0m\u001b[1;33m)\u001b[0m\u001b[1;33m\u001b[0m\u001b[0m\n\u001b[0m\u001b[0;32m   3502\u001b[0m \u001b[1;33m\u001b[0m\u001b[0m\n\u001b[0;32m   3503\u001b[0m \u001b[1;33m\u001b[0m\u001b[0m\n",
      "\u001b[1;32m~\\Anaconda3\\lib\\site-packages\\dask\\array\\core.py\u001b[0m in \u001b[0;36mhandle_out\u001b[1;34m(out, result)\u001b[0m\n\u001b[0;32m   3527\u001b[0m         msg = (\"The out parameter is not fully supported.\"\n\u001b[0;32m   3528\u001b[0m                \" Received type %s, expected Dask Array\" % type(out).__name__)\n\u001b[1;32m-> 3529\u001b[1;33m         \u001b[1;32mraise\u001b[0m \u001b[0mNotImplementedError\u001b[0m\u001b[1;33m(\u001b[0m\u001b[0mmsg\u001b[0m\u001b[1;33m)\u001b[0m\u001b[1;33m\u001b[0m\u001b[0m\n\u001b[0m\u001b[0;32m   3530\u001b[0m     \u001b[1;32melse\u001b[0m\u001b[1;33m:\u001b[0m\u001b[1;33m\u001b[0m\u001b[0m\n\u001b[0;32m   3531\u001b[0m         \u001b[1;32mreturn\u001b[0m \u001b[0mresult\u001b[0m\u001b[1;33m\u001b[0m\u001b[0m\n",
      "\u001b[1;31mNotImplementedError\u001b[0m: The out parameter is not fully supported. Received type ndarray, expected Dask Array"
     ]
    }
   ],
   "source": [
    "# Create sensitivity weights from our linear forward operator\n",
    "rxLoc = survey.srcField.rxList[0].locs\n",
    "wr = np.zeros(prob.G.shape[1])\n",
    "for ii in range(survey.nD):\n",
    "    wr += (prob.G[ii, :]/survey.std[ii])**2.\n",
    "\n",
    "# wr = (wr/np.max(wr))\n",
    "wr = wr**0.5\n",
    "\n",
    "# Create a regularization\n",
    "reg = Regularization.Sparse(mesh, indActive=actv, mapping=idenMap)\n",
    "# reg.alpha_s=1e-12\n",
    "reg.cell_weights = wr#driver.cell_weights*mesh.vol**0.5\n",
    "\n",
    "reg.mref = np.zeros(nC)\n",
    "# Data misfit function\n",
    "dmis = DataMisfit.l2_DataMisfit(survey)\n",
    "dmis.W = 1./survey.std\n",
    "\n",
    "# Add directives to the inversion\n",
    "opt = Optimization.ProjectedGNCG(maxIter=20, lower=0., upper=10.,\n",
    "                                 maxIterLS=20, maxIterCG=10, tolCG=1e-4, tolG=1e-4, eps=1e-6)\n",
    "invProb = InvProblem.BaseInvProblem(dmis, reg, opt)\n",
    "betaest = Directives.BetaEstimate_ByEig()\n",
    "\n",
    "# Here is where the norms are applied\n",
    "# Use pick a treshold parameter empirically based on the distribution of\n",
    "#  model parameters\n",
    "IRLS = Directives.Update_IRLS(f_min_change=1e-3, minGNiter=1, maxIRLSiter=10, betaSearch=False)\n",
    "update_Jacobi = Directives.UpdatePreconditioner()\n",
    "\n",
    "# saveModel = Directives.SaveUBCModelEveryIteration(mapping=actvMap)\n",
    "# saveModel.fileName = work_dir + out_dir + 'ModelSus'\n",
    "\n",
    "inv = Inversion.BaseInversion(invProb,\n",
    "                              directiveList=[betaest, IRLS, update_Jacobi])\n",
    "\n",
    "# Run the inversion\n",
    "m0 = np.ones(nC)  * 1e-4# Starting model\n",
    "prob.model = m0\n",
    "mrecSimple = inv.run(m0)"
   ]
  },
  {
   "cell_type": "code",
   "execution_count": null,
   "metadata": {},
   "outputs": [],
   "source": [
    "# Et voila, now we can just slice it by changing the ind=#\n",
    "limx = [-200,200]\n",
    "plotMap = Maps.InjectActiveCells(mesh, actv, np.nan)\n",
    "plt.figure()\n",
    "ax = plt.subplot()\n",
    "# im = mesh.plotSlice(plotMap*mrec, ax = ax, normal = 'Y')\n",
    "im = mesh.plotSlice(plotMap*mrecSimple, normal='Z', ax=ax, ind=-6, clim=[0, mrecSimple.max()])\n",
    "ax.set_xlim(limx)\n",
    "ax.set_ylim(limx)\n",
    "plt.colorbar(im[0])\n",
    "plt.gca().set_aspect('equal', adjustable='box')\n",
    "plt.show()"
   ]
  },
  {
   "cell_type": "markdown",
   "metadata": {},
   "source": [
    "Repeat with Tikhonov\n",
    "==================\n",
    "\n",
    "Set the $\\alpha_s$ = $\\frac{1}{dx^2}$, use sensitivity weighting again but scaled by volume since already in the regularization."
   ]
  },
  {
   "cell_type": "code",
   "execution_count": null,
   "metadata": {},
   "outputs": [],
   "source": [
    "# Create sensitivity weights from our linear forward operator\n",
    "rxLoc = survey.srcField.rxList[0].locs\n",
    "wr = np.zeros(prob.G.shape[1])\n",
    "for ii in range(survey.nD):\n",
    "    wr += (prob.G[ii, :]/survey.std[ii])**2.\n",
    "\n",
    "# wr = (wr/np.max(wr))\n",
    "wr = wr**0.5 / mesh.vol[actv]\n",
    "\n",
    "# Create a regularization\n",
    "# reg = Regularization.Sparse(mesh, indActive=actv, mapping=idenMap)\n",
    "\n",
    "regTikh = Regularization.Tikhonov(mesh, mapping=idenMap, indActive=actv)\n",
    "# reg.regmesh._cellDiffxStencil = regTikh.regmesh.cellDiffx\n",
    "# reg.regmesh._cellDiffyStencil = regTikh.regmesh.cellDiffy\n",
    "# reg.regmesh._cellDiffzStencil = regTikh.regmesh.cellDiffz\n",
    "regTikh.cell_weights = wr#driver.cell_weights*mesh.vol**0.5\n",
    "\n",
    "regTikh.mref = np.zeros(nC)\n",
    "regTikh.alpha_s = 1./h[0]**2.\n",
    "\n",
    "# Data misfit function\n",
    "dmis = DataMisfit.l2_DataMisfit(survey)\n",
    "dmis.W = 1./survey.std\n",
    "\n",
    "# Add directives to the inversion\n",
    "opt = Optimization.ProjectedGNCG(maxIter=20, lower=0., upper=10.,\n",
    "                                 maxIterLS=20, maxIterCG=10, tolCG=1e-4, tolG=1e-4, eps=1e-6)\n",
    "invProb = InvProblem.BaseInvProblem(dmis, regTikh, opt)\n",
    "betaest = Directives.BetaEstimate_ByEig()\n",
    "\n",
    "# Here is where the norms are applied\n",
    "# Use pick a treshold parameter empirically based on the distribution of\n",
    "#  model parameters\n",
    "IRLS = Directives.Update_IRLS(f_min_change=1e-3, minGNiter=1, maxIRLSiter=10)\n",
    "update_Jacobi = Directives.UpdatePreconditioner()\n",
    "cooling = Directives.BetaSchedule(coolingRate=1)\n",
    "target = Directives.TargetMisfit()\n",
    "# saveModel = Directives.SaveUBCModelEveryIteration(mapping=actvMap)\n",
    "# saveModel.fileName = work_dir + out_dir + 'ModelSus'\n",
    "\n",
    "inv = Inversion.BaseInversion(invProb,\n",
    "                              directiveList=[betaest,cooling, target, update_Jacobi])\n",
    "\n",
    "# Run the inversion\n",
    "m0 = np.ones(nC)  * 1e-4# Starting model\n",
    "prob.model = m0\n",
    "mrec = inv.run(m0)"
   ]
  },
  {
   "cell_type": "code",
   "execution_count": null,
   "metadata": {},
   "outputs": [],
   "source": [
    "# Et voila, now we can just slice it by changing the ind=#\n",
    "normal = 'Z'\n",
    "ind = -7\n",
    "limx = [-200,200]\n",
    "limy = [-200,200]\n",
    "import ipywidgets as widgets\n",
    "plotMap = Maps.InjectActiveCells(mesh, actv, np.nan)\n",
    "# normal = 'Y'\n",
    "# ind = None\n",
    "def plotSection():\n",
    "    \n",
    "    def plotIt(ind):\n",
    "    \n",
    "        plt.figure(figsize=(15,6))\n",
    "        ax = plt.subplot(1,2,1)\n",
    "        # im = mesh.plotSlice(plotMap*mrec, ax = ax, normal = 'Y')\n",
    "        im = mesh.plotSlice(plotMap*mrec, normal=normal, ax=ax, ind=ind, clim=[0, mrec.max()])\n",
    "        ax.set_xlim(limx)\n",
    "        ax.set_ylim(limy)\n",
    "        plt.colorbar(im[0])\n",
    "        ax.set_title(\"Tikhonov\")\n",
    "        plt.gca().set_aspect('equal', adjustable='box')\n",
    "\n",
    "        ax = plt.subplot(1,2,2)\n",
    "        # im = mesh.plotSlice(plotMap*mrec, ax = ax, normal = 'Y')\n",
    "        im = mesh.plotSlice(plotMap*mrecSimple, normal=normal, ax=ax, ind=ind, clim=[0, mrec.max()])\n",
    "        ax.set_xlim(limx)\n",
    "        ax.set_ylim(limy)\n",
    "        plt.colorbar(im[0])\n",
    "        plt.gca().set_aspect('equal', adjustable='box')\n",
    "#         ax.set_title(\"Simple\")\n",
    "        plt.show()\n",
    "        \n",
    "    out = widgets.interactive(\n",
    "        plotIt,ind = widgets.IntSlider(\n",
    "                min=-200, max=0, step=1, value=-6,\n",
    "                description='Slice from top', continuous_update=False\n",
    "                )\n",
    "    )\n",
    "    return out\n",
    "\n",
    "display(plotSection())\n",
    "\n"
   ]
  },
  {
   "cell_type": "markdown",
   "metadata": {},
   "source": [
    "Hopefully you now have an idea of how to create a Problem class in SimPEG, and how this can be used with the other tools available."
   ]
  }
 ],
 "metadata": {
  "anaconda-cloud": {},
  "kernelspec": {
   "display_name": "Python 3",
   "language": "python",
   "name": "python3"
  },
  "language_info": {
   "codemirror_mode": {
    "name": "ipython",
    "version": 3
   },
   "file_extension": ".py",
   "mimetype": "text/x-python",
   "name": "python",
   "nbconvert_exporter": "python",
   "pygments_lexer": "ipython3",
   "version": "3.7.0"
  }
 },
 "nbformat": 4,
 "nbformat_minor": 1
}
