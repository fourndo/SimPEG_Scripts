{
 "cells": [
  {
   "cell_type": "code",
   "execution_count": 1,
   "metadata": {
    "collapsed": false
   },
   "outputs": [
    {
     "name": "stdout",
     "output_type": "stream",
     "text": [
      "Efficiency Warning: Interpolation will be slow, use setup.py!\n",
      "\n",
      "            python setup.py build_ext --inplace\n",
      "    \n"
     ]
    }
   ],
   "source": [
    "from SimPEG import *\n",
    "import simpegDCIP as DC"
   ]
  },
  {
   "cell_type": "code",
   "execution_count": 2,
   "metadata": {
    "collapsed": false
   },
   "outputs": [
    {
     "name": "stdout",
     "output_type": "stream",
     "text": [
      "Populating the interactive namespace from numpy and matplotlib\n"
     ]
    },
    {
     "name": "stderr",
     "output_type": "stream",
     "text": [
      "WARNING: pylab import has clobbered these variables: ['linalg']\n",
      "`%matplotlib` prevents importing * from pylab and numpy\n"
     ]
    }
   ],
   "source": [
    "%pylab inline"
   ]
  },
  {
   "cell_type": "code",
   "execution_count": 3,
   "metadata": {
    "collapsed": false
   },
   "outputs": [],
   "source": [
    "from numpy.polynomial import polynomial"
   ]
  },
  {
   "cell_type": "code",
   "execution_count": 4,
   "metadata": {
    "collapsed": false
   },
   "outputs": [],
   "source": [
    "cs = 0.5\n",
    "mesh = Mesh.TensorMesh([np.ones(100)*cs, np.ones(50)*cs], \"CN\")\n",
    "x = mesh.vectorCCx"
   ]
  },
  {
   "cell_type": "code",
   "execution_count": 5,
   "metadata": {
    "collapsed": false
   },
   "outputs": [
    {
     "ename": "SyntaxError",
     "evalue": "invalid syntax (<ipython-input-5-7373e6c9e935>, line 1)",
     "output_type": "error",
     "traceback": [
      "\u001b[1;36m  File \u001b[1;32m\"<ipython-input-5-7373e6c9e935>\"\u001b[1;36m, line \u001b[1;32m1\u001b[0m\n\u001b[1;33m    problem.\u001b[0m\n\u001b[1;37m            ^\u001b[0m\n\u001b[1;31mSyntaxError\u001b[0m\u001b[1;31m:\u001b[0m invalid syntax\n"
     ]
    }
   ],
   "source": [
    "problem."
   ]
  },
  {
   "cell_type": "code",
   "execution_count": 6,
   "metadata": {
    "collapsed": true
   },
   "outputs": [],
   "source": [
    "actx = (x>-15.)&(x<15.)"
   ]
  },
  {
   "cell_type": "code",
   "execution_count": 7,
   "metadata": {
    "collapsed": false
   },
   "outputs": [],
   "source": [
    "order = 3\n",
    "# c = np.r_[0,1,0.1,0.]\n",
    "Vobs = polynomial.polyvander(x, order)\n",
    "# dobs = V.dot(c)\n",
    "# dobs1 = 1.2*np.sin(0.2*x)\n",
    "# dobs2 = 1.2*np.sin(0.4*x)-4\n",
    "# dobs = dobs1+dobs2\n",
    "dobs = 0.2*x-6\n",
    "# dobs = x*0.25\n",
    "# dobs = Vobs.dot(c)\n",
    "H = np.dot(Vobs.T, Vobs)\n",
    "g = np.dot(Vobs.T, dobs)\n",
    "mest = np.linalg.solve(H, g)"
   ]
  },
  {
   "cell_type": "code",
   "execution_count": 8,
   "metadata": {
    "collapsed": false
   },
   "outputs": [],
   "source": [
    "dpred = Vobs.dot(mest)"
   ]
  },
  {
   "cell_type": "code",
   "execution_count": 9,
   "metadata": {
    "collapsed": false
   },
   "outputs": [
    {
     "data": {
      "text/plain": [
       "[<matplotlib.lines.Line2D at 0x15447780>]"
      ]
     },
     "execution_count": 9,
     "metadata": {},
     "output_type": "execute_result"
    },
    {
     "data": {
      "image/png": "[encoded data removed]",
      "text/plain": [
       "<matplotlib.figure.Figure at 0x15417eb8>"
      ]
     },
     "metadata": {},
     "output_type": "display_data"
    }
   ],
   "source": [
    "# plot(dobs1, 'k-')\n",
    "# plot(dobs2, 'k.')\n",
    "plot(dobs, 'b')\n",
    "plot(dpred, 'k.')"
   ]
  },
  {
   "cell_type": "code",
   "execution_count": 10,
   "metadata": {
    "collapsed": false
   },
   "outputs": [],
   "source": [
    "V = polynomial.polyvander(x, order)\n",
    "\n",
    "m1D = Mesh.TensorMesh([V.shape[1]+2])\n",
    "weight = (1./(V**2).sum(axis=0))**0.5\n",
    "weight = weight / weight.max()\n",
    "weightmap = Maps.Weighting(m1D, weights=np.r_[1., 1., weight])\n",
    "m0 = np.r_[np.log(1e-3), np.log(1e-3), np.r_[-3., np.zeros(V.shape[1]-1)] / weight]\n",
    "mtrue = np.r_[np.log(1e-3), np.log(1e0), mest / weight]\n"
   ]
  },
  {
   "cell_type": "code",
   "execution_count": 11,
   "metadata": {
    "collapsed": false
   },
   "outputs": [],
   "source": [
    "polymap = Maps.PolyMap(mesh, V.shape[1]-1, logSigma=True, normal='Y')\n",
    "mapping = polymap*weightmap"
   ]
  },
  {
   "cell_type": "code",
   "execution_count": 12,
   "metadata": {
    "collapsed": false
   },
   "outputs": [],
   "source": [
    "m1Dreg = Mesh.TensorMesh([V.shape[1]])"
   ]
  },
  {
   "cell_type": "code",
   "execution_count": 13,
   "metadata": {
    "collapsed": false
   },
   "outputs": [],
   "source": [
    "# mtrue = np.r_[np.log(1e-2), np.log(1e0), mest]\n",
    "# m0 = np.r_[np.log(1e-2), np.log(1e0), np.r_[-3., np.zeros(V.shape[1]-1)]]"
   ]
  },
  {
   "cell_type": "code",
   "execution_count": 14,
   "metadata": {
    "collapsed": false
   },
   "outputs": [],
   "source": [
    "sigma = mapping*mtrue"
   ]
  },
  {
   "cell_type": "code",
   "execution_count": 15,
   "metadata": {
    "collapsed": false
   },
   "outputs": [],
   "source": [
    "# actind = (mesh.gridCC[:,0] > -15) & (mesh.gridCC[:,0] < 15)\n",
    "# meshact = Mesh.TensorMesh([mesh.hx, mesh.hy], x0=mesh.x0)\n",
    "# actmap = Maps.ActiveCells(mesh, actind, 2e-3)"
   ]
  },
  {
   "cell_type": "code",
   "execution_count": 16,
   "metadata": {
    "collapsed": false
   },
   "outputs": [],
   "source": [
    "xr = np.linspace(-15, 15, 20)\n",
    "xz_A = Utils.ndgrid(xr, np.r_[-0.25])\n",
    "xz_B = Utils.ndgrid(np.ones_like(xr)*22, np.r_[-0.25])\n",
    "xz_M = Utils.ndgrid(xr, np.r_[-0.25])\n",
    "xz_N = Utils.ndgrid(np.ones_like(xr)*-22, np.r_[-0.25])\n",
    "\n",
    "ntx = xz_A.shape[0]\n",
    "txList = []\n",
    "for i in range(ntx):\n",
    "    offset = abs(xz_A[i,0]-xz_M[:,0])\n",
    "    actrx = offset > 5.\n",
    "    rx = DC.RxDipole(xz_M[actrx,:], xz_N[actrx,:])\n",
    "    src = DC.SrcDipole([rx], xz_A[i,:], xz_B[i,:])\n",
    "    txList.append(src)"
   ]
  },
  {
   "cell_type": "code",
   "execution_count": 17,
   "metadata": {
    "collapsed": false
   },
   "outputs": [
    {
     "data": {
      "text/plain": [
       "[<matplotlib.lines.Line2D at 0x15aa1550>]"
      ]
     },
     "execution_count": 17,
     "metadata": {},
     "output_type": "execute_result"
    },
    {
     "data": {
      "image/png": "[encoded data removed]",
      "text/plain": [
       "<matplotlib.figure.Figure at 0x15430400>"
      ]
     },
     "metadata": {},
     "output_type": "display_data"
    }
   ],
   "source": [
    "dat = mesh.plotImage(np.log10(sigma), clim=(-2, 0))\n",
    "plt.colorbar(dat[0])\n",
    "plot(xz_A[:,0], xz_A[:,1], 'w.')\n",
    "plot(xz_B[:,0], xz_B[:,1], 'y.')\n",
    "plot(xz_N[:,0], xz_N[:,1], 'r.')"
   ]
  },
  {
   "cell_type": "code",
   "execution_count": 18,
   "metadata": {
    "collapsed": false
   },
   "outputs": [
    {
     "data": {
      "text/plain": [
       "[<matplotlib.lines.Line2D at 0x15c40e10>]"
      ]
     },
     "execution_count": 18,
     "metadata": {},
     "output_type": "execute_result"
    },
    {
     "data": {
      "image/png": "[encoded data removed]",
      "text/plain": [
       "<matplotlib.figure.Figure at 0x155222b0>"
      ]
     },
     "metadata": {},
     "output_type": "display_data"
    }
   ],
   "source": [
    "dat = mesh.plotImage(np.log10(mapping*m0), clim=(-2, 0))\n",
    "plt.colorbar(dat[0])\n",
    "plot(xz_A[:,0], xz_A[:,1], 'w.')\n",
    "plot(xz_B[:,0], xz_B[:,1], 'y.')\n",
    "plot(xz_N[:,0], xz_N[:,1], 'r.')"
   ]
  },
  {
   "cell_type": "code",
   "execution_count": 19,
   "metadata": {
    "collapsed": false
   },
   "outputs": [
    {
     "ename": "ImportError",
     "evalue": "No module named pymatsolver",
     "output_type": "error",
     "traceback": [
      "\u001b[1;31m---------------------------------------------------------------------------\u001b[0m",
      "\u001b[1;31mImportError\u001b[0m                               Traceback (most recent call last)",
      "\u001b[1;32m<ipython-input-19-d6799536a06f>\u001b[0m in \u001b[0;36m<module>\u001b[1;34m()\u001b[0m\n\u001b[1;32m----> 1\u001b[1;33m \u001b[1;32mfrom\u001b[0m \u001b[0mpymatsolver\u001b[0m \u001b[1;32mimport\u001b[0m \u001b[0mMumpsSolver\u001b[0m\u001b[1;33m\u001b[0m\u001b[0m\n\u001b[0m",
      "\u001b[1;31mImportError\u001b[0m: No module named pymatsolver"
     ]
    }
   ],
   "source": [
    "from pymatsolver import MumpsSolver"
   ]
  },
  {
   "cell_type": "code",
   "execution_count": 20,
   "metadata": {
    "collapsed": false
   },
   "outputs": [
    {
     "data": {
      "text/plain": [
       "[<matplotlib.lines.Line2D at 0x15522320>]"
      ]
     },
     "execution_count": 20,
     "metadata": {},
     "output_type": "execute_result"
    },
    {
     "data": {
      "image/png": "[encoded data removed]",
      "text/plain": [
       "<matplotlib.figure.Figure at 0x15522dd8>"
      ]
     },
     "metadata": {},
     "output_type": "display_data"
    }
   ],
   "source": [
    "survey = DC.SurveyDC(txList)\n",
    "problem = DC.ProblemDC_CC(mesh, mapping = mapping)\n",
    "problem.pair(survey)\n",
    "dtrue  = survey.dpred(mtrue)\n",
    "d0  = survey.dpred(m0)\n",
    "plot(dtrue)\n",
    "plot(d0)"
   ]
  },
  {
   "cell_type": "code",
   "execution_count": 21,
   "metadata": {
    "collapsed": false
   },
   "outputs": [
    {
     "data": {
      "text/plain": [
       "0.0230637156236142"
      ]
     },
     "execution_count": 21,
     "metadata": {},
     "output_type": "execute_result"
    }
   ],
   "source": [
    "abs(dtrue).min()"
   ]
  },
  {
   "cell_type": "code",
   "execution_count": 22,
   "metadata": {
    "collapsed": false
   },
   "outputs": [
    {
     "data": {
      "text/plain": [
       "(array([  1.,   1.,   1.,   2.,   3.,   4.,   6.,   5.,   8.,  10.,  12.,\n",
       "         14.,  15.,  19.,  30.,  28.,  32.,  37.,  22.,  22.]),\n",
       " array([-1.63707073, -1.43198266, -1.2268946 , -1.02180654, -0.81671847,\n",
       "        -0.61163041, -0.40654234, -0.20145428,  0.00363378,  0.20872185,\n",
       "         0.41380991,  0.61889797,  0.82398604,  1.0290741 ,  1.23416216,\n",
       "         1.43925023,  1.64433829,  1.84942635,  2.05451442,  2.25960248,\n",
       "         2.46469054]),\n",
       " <a list of 20 Patch objects>)"
      ]
     },
     "execution_count": 22,
     "metadata": {},
     "output_type": "execute_result"
    },
    {
     "data": {
      "image/png": "[encoded data removed]",
      "text/plain": [
       "<matplotlib.figure.Figure at 0x15e5cb00>"
      ]
     },
     "metadata": {},
     "output_type": "display_data"
    }
   ],
   "source": [
    "hist(np.log10(abs(dtrue)), bins = 20)"
   ]
  },
  {
   "cell_type": "code",
   "execution_count": 23,
   "metadata": {
    "collapsed": false
   },
   "outputs": [],
   "source": [
    "noise = 0.05*abs(dtrue)*np.random.randn(dtrue.shape[0])"
   ]
  },
  {
   "cell_type": "code",
   "execution_count": 29,
   "metadata": {
    "collapsed": false
   },
   "outputs": [
    {
     "name": "stdout",
     "output_type": "stream",
     "text": [
      "SimPEG.InvProblem is setting bfgsH0 to the inverse of the eval2Deriv.\n",
      "                    ***Done using same solver as the problem***\n",
      "============================ Inexact Gauss Newton ============================\n",
      "  #     beta     phi_d     phi_m       f      |proj(x-g)-x|  LS    Comment   \n",
      "-----------------------------------------------------------------------------\n",
      "   0  0.00e+00  4.61e+07  0.00e+00  4.61e+07    8.24e+07      0              \n",
      "   1  0.00e+00  5.79e+06  6.22e-01  5.79e+06    1.11e+07      0              \n",
      "   2  0.00e+00  7.92e+05  2.32e+00  7.92e+05    1.50e+06      0   Skip BFGS  \n",
      "   3  0.00e+00  1.38e+05  4.98e+00  1.38e+05    2.04e+05      0   Skip BFGS  \n",
      "   4  0.00e+00  5.06e+04  8.55e+00  5.06e+04    2.94e+04      0   Skip BFGS  \n",
      "   5  0.00e+00  3.82e+04  1.27e+01  3.82e+04    4.46e+03      0   Skip BFGS  \n",
      "   6  0.00e+00  3.58e+04  1.59e+01  3.58e+04    1.56e+03      0   Skip BFGS  \n",
      "   7  0.00e+00  3.20e+04  1.80e+01  3.20e+04    1.31e+04      0              \n",
      "   8  0.00e+00  3.17e+04  2.18e+01  3.17e+04    4.58e+04      3              \n",
      "   9  0.00e+00  2.35e+04  2.50e+01  2.35e+04    2.90e+04      0              \n",
      "  10  0.00e+00  9.91e+03  1.76e+01  9.91e+03    2.92e+04      0              \n",
      "  11  0.00e+00  8.40e+03  1.67e+01  8.40e+03    9.94e+03      0              \n",
      "  12  0.00e+00  4.47e+03  1.46e+01  4.47e+03    1.48e+04      0   Skip BFGS  \n",
      "  13  0.00e+00  4.13e+03  1.60e+01  4.13e+03    6.96e+03      2   Skip BFGS  \n",
      "  14  0.00e+00  2.94e+03  1.57e+01  2.94e+03    9.81e+03      2              \n",
      "  15  0.00e+00  1.74e+03  1.55e+01  1.74e+03    9.14e+03      1              \n",
      "  16  0.00e+00  1.57e+03  1.57e+01  1.57e+03    4.57e+03      3              \n",
      "  17  0.00e+00  1.51e+03  1.56e+01  1.51e+03    2.99e+03      6   Skip BFGS  \n",
      "  18  0.00e+00  1.15e+03  1.56e+01  1.15e+03    6.68e+03      1   Skip BFGS  \n",
      "  19  0.00e+00  9.64e+02  1.60e+01  9.64e+02    3.73e+03      3   Skip BFGS  \n",
      "  20  0.00e+00  9.47e+02  1.62e+01  9.47e+02    2.77e+03      2   Skip BFGS  \n",
      "  21  0.00e+00  9.24e+02  1.63e+01  9.24e+02    2.44e+03      6   Skip BFGS  \n",
      "  22  0.00e+00  8.49e+02  1.63e+01  8.49e+02    2.91e+04      3              \n",
      "  23  0.00e+00  8.00e+02  1.62e+01  8.00e+02    3.01e+03      0              \n",
      "  24  0.00e+00  7.69e+02  1.61e+01  7.69e+02    1.51e+04      1              \n",
      "  25  0.00e+00  7.60e+02  1.62e+01  7.60e+02    7.24e+03      3              \n",
      "  26  0.00e+00  7.56e+02  1.62e+01  7.56e+02    7.80e+03      6   Skip BFGS  \n",
      "  27  0.00e+00  7.55e+02  1.63e+01  7.55e+02    3.33e+04      7              \n",
      "  28  0.00e+00  6.48e+02  1.66e+01  6.48e+02    1.37e+03      0              \n",
      "  29  0.00e+00  6.34e+02  1.67e+01  6.34e+02    1.38e+03      2              \n",
      "  30  0.00e+00  6.22e+02  1.74e+01  6.22e+02    2.70e+03      0              \n",
      "------------------------- STOP! -------------------------\n",
      "1 : |fc-fOld| = 1.2232e+01 <= tolF*(1+|f0|) = 4.6077e+06\n",
      "1 : |xc-x_last| = 2.2463e-01 <= tolX*(1+|x0|) = 1.1219e+00\n",
      "0 : |proj(x-g)-x|    = 2.7046e+03 <= tolG          = 1.0000e-01\n",
      "0 : |proj(x-g)-x|    = 2.7046e+03 <= 1e3*eps       = 1.0000e-02\n",
      "1 : maxIter   =      30    <= iter          =     30\n",
      "------------------------- DONE! -------------------------\n"
     ]
    }
   ],
   "source": [
    "survey.dobs = dtrue +noise\n",
    "dmis = DataMisfit.l2_DataMisfit(survey)\n",
    "dmis.Wd = 1./(0.05*abs(dtrue)+ 0.1)\n",
    "reg = Regularization.BaseRegularization(m1D)\n",
    "opt = Optimization.InexactGaussNewton(maxIter=30,maxIterLS=20)\n",
    "opt.remember('xc')\n",
    "invProb = InvProblem.BaseInvProblem(dmis, reg, opt)\n",
    "invProb.beta = 0.\n",
    "betaSched = Directives.BetaSchedule(coolingFactor=1, coolingRate=1)\n",
    "targetmis = Directives.TargetMisfit()\n",
    "savemodel = Directives.SaveModelEveryIteration()\n",
    "inv = Inversion.BaseInversion(invProb, directiveList=[betaSched,targetmis])\n",
    "reg.mref = m0\n",
    "mopt = inv.run(m0)"
   ]
  },
  {
   "cell_type": "code",
   "execution_count": 342,
   "metadata": {
    "collapsed": false
   },
   "outputs": [
    {
     "name": "stdout",
     "output_type": "stream",
     "text": [
      "SimPEG.InvProblem is setting bfgsH0 to the inverse of the eval2Deriv.\n",
      "                    ***Done using same solver as the problem***\n",
      "============================ Inexact Gauss Newton ============================\n",
      "  #     beta     phi_d     phi_m       f      |proj(x-g)-x|  LS    Comment   \n",
      "-----------------------------------------------------------------------------\n",
      "   0  0.00e+00  2.96e+03  2.08e+01  2.96e+03    6.91e+03      0              \n",
      "   1  0.00e+00  1.63e+03  2.26e+01  1.63e+03    1.11e+04      0              \n",
      "   2  0.00e+00  1.09e+03  2.39e+01  1.09e+03    3.34e+03      0   Skip BFGS  \n",
      "   3  0.00e+00  7.29e+02  2.48e+01  7.29e+02    7.49e+03      1   Skip BFGS  \n",
      "   4  0.00e+00  6.44e+02  2.50e+01  6.44e+02    2.56e+03      1              \n",
      "   5  0.00e+00  5.17e+02  3.00e+01  5.17e+02    6.28e+03      0              \n",
      "   6  0.00e+00  4.22e+02  2.85e+01  4.22e+02    1.37e+03      0              \n",
      "   7  0.00e+00  3.96e+02  2.75e+01  3.96e+02    3.19e+03      3   Skip BFGS  \n",
      "   8  0.00e+00  3.52e+02  2.77e+01  3.52e+02    2.98e+03      3              \n",
      "   9  0.00e+00  2.73e+02  2.66e+01  2.73e+02    1.89e+03      2   Skip BFGS  \n",
      "  10  0.00e+00  2.37e+02  2.57e+01  2.37e+02    2.61e+03      1              \n",
      "  11  0.00e+00  2.26e+02  2.61e+01  2.26e+02    2.60e+03      4              \n",
      "  12  0.00e+00  2.24e+02  2.64e+01  2.24e+02    4.39e+03      3   Skip BFGS  \n",
      "  13  0.00e+00  2.01e+02  2.59e+01  2.01e+02    2.81e+03      1              \n",
      "  14  0.00e+00  1.98e+02  2.59e+01  1.98e+02    5.50e+03      4              \n",
      "  15  0.00e+00  1.98e+02  2.60e+01  1.98e+02    6.03e+03      7              \n",
      "  16  0.00e+00  1.97e+02  2.59e+01  1.97e+02    2.14e+03      5              \n",
      "  17  0.00e+00  1.97e+02  2.59e+01  1.97e+02    4.57e+03      4              \n",
      "  18  0.00e+00  1.96e+02  2.60e+01  1.96e+02    6.25e+03      2   Skip BFGS  \n",
      "  19  0.00e+00  1.63e+02  2.65e+01  1.63e+02    1.93e+03      0              \n",
      "  20  0.00e+00  1.49e+02  2.75e+01  1.49e+02    1.22e+03      0   Skip BFGS  \n",
      "  21  0.00e+00  1.45e+02  2.76e+01  1.45e+02    1.07e+03      1              \n",
      "------------------------- STOP! -------------------------\n",
      "1 : |fc-fOld| = 0.0000e+00 <= tolF*(1+|f0|) = 2.9564e+02\n",
      "1 : |xc-x_last| = 3.2693e-01 <= tolX*(1+|x0|) = 1.1092e+00\n",
      "0 : |proj(x-g)-x|    = 1.0747e+03 <= tolG          = 1.0000e-01\n",
      "0 : |proj(x-g)-x|    = 1.0747e+03 <= 1e3*eps       = 1.0000e-02\n",
      "0 : maxIter   =      30    <= iter          =     22\n",
      "------------------------- DONE! -------------------------\n"
     ]
    }
   ],
   "source": [
    "survey.dobs = dtrue +noise\n",
    "dmis = DataMisfit.l2_DataMisfit(survey)\n",
    "dmis.Wd = 1./(0.05*abs(dtrue)+ 0.1)\n",
    "reg = Regularization.BaseRegularization(m1D)\n",
    "opt = Optimization.InexactGaussNewton(maxIter=30,maxIterLS=20)\n",
    "opt.remember('xc')\n",
    "invProb = InvProblem.BaseInvProblem(dmis, reg, opt)\n",
    "invProb.beta = 0.\n",
    "betaSched = Directives.BetaSchedule(coolingFactor=1, coolingRate=1)\n",
    "targetmis = Directives.TargetMisfit()\n",
    "savemodel = Directives.SaveModelEveryIteration()\n",
    "inv = Inversion.BaseInversion(invProb, directiveList=[betaSched,targetmis])\n",
    "reg.mref = m0\n",
    "mopt = inv.run(mopt.copy())"
   ]
  },
  {
   "cell_type": "code",
   "execution_count": 262,
   "metadata": {
    "collapsed": false
   },
   "outputs": [
    {
     "name": "stdout",
     "output_type": "stream",
     "text": [
      "SimPEG.InvProblem is setting bfgsH0 to the inverse of the eval2Deriv.\n",
      "                    ***Done using same solver as the problem***\n",
      "============================ Inexact Gauss Newton ============================\n",
      "  #     beta     phi_d     phi_m       f      |proj(x-g)-x|  LS    Comment   \n",
      "-----------------------------------------------------------------------------\n",
      "   0  0.00e+00  4.32e+03  7.43e+02  4.32e+03    1.08e+04      0              \n",
      "   1  0.00e+00  4.29e+03  7.43e+02  4.29e+03    3.09e+04      3              \n",
      "   2  0.00e+00  4.00e+03  7.43e+02  4.00e+03    1.36e+04      0              \n",
      "   3  0.00e+00  3.84e+03  7.42e+02  3.84e+03    2.61e+04      2   Skip BFGS  \n",
      "   4  0.00e+00  3.78e+03  7.42e+02  3.78e+03    7.52e+03      1   Skip BFGS  \n",
      "   5  0.00e+00  3.72e+03  7.42e+02  3.72e+03    8.63e+03      3              \n",
      "   6  0.00e+00  3.72e+03  7.42e+02  3.72e+03    1.06e+04      9   Skip BFGS  \n",
      "   7  0.00e+00  3.67e+03  7.42e+02  3.67e+03    5.05e+03      1              \n",
      "   8  0.00e+00  3.49e+03  7.43e+02  3.49e+03    1.54e+04      0              \n",
      "   9  0.00e+00  3.35e+03  7.43e+02  3.35e+03    2.35e+05      2              \n",
      "  10  0.00e+00  3.26e+03  7.43e+02  3.26e+03    3.90e+04      0              \n",
      "  11  0.00e+00  3.20e+03  7.44e+02  3.20e+03    1.09e+04      1   Skip BFGS  \n",
      "  12  0.00e+00  2.97e+03  7.43e+02  2.97e+03    5.93e+03      0              \n",
      "  13  0.00e+00  2.76e+03  7.42e+02  2.76e+03    9.61e+03      2   Skip BFGS  \n",
      "  14  0.00e+00  2.62e+03  7.41e+02  2.62e+03    8.93e+03      1   Skip BFGS  \n",
      "  15  0.00e+00  2.61e+03  7.41e+02  2.61e+03    1.05e+04      0              \n",
      "  16  0.00e+00  2.58e+03  7.40e+02  2.58e+03    1.63e+04      1              \n",
      "  17  0.00e+00  2.57e+03  7.40e+02  2.57e+03    1.18e+04      6              \n",
      "  18  0.00e+00  2.56e+03  7.40e+02  2.56e+03    1.58e+04      3   Skip BFGS  \n",
      "  19  0.00e+00  2.52e+03  7.37e+02  2.52e+03    2.16e+04      2   Skip BFGS  \n",
      "  20  0.00e+00  2.47e+03  7.37e+02  2.47e+03    5.62e+03      0              \n",
      "  21  0.00e+00  2.45e+03  7.40e+02  2.45e+03    2.59e+04      0   Skip BFGS  \n",
      "  22  0.00e+00  2.37e+03  7.40e+02  2.37e+03    1.14e+04      0              \n",
      "  23  0.00e+00  2.29e+03  7.39e+02  2.29e+03    5.97e+04      0              \n",
      "  24  0.00e+00  2.25e+03  7.40e+02  2.25e+03    9.67e+03      0              \n",
      "  25  0.00e+00  2.21e+03  7.43e+02  2.21e+03    5.50e+03      2              \n",
      "  26  0.00e+00  2.20e+03  7.44e+02  2.20e+03    4.40e+03      4              \n",
      "  27  0.00e+00  2.19e+03  7.45e+02  2.19e+03    4.49e+03      6              \n",
      "  28  0.00e+00  2.04e+03  7.57e+02  2.04e+03    9.60e+03      2   Skip BFGS  \n",
      "  29  0.00e+00  2.04e+03  7.55e+02  2.04e+03    9.37e+03      6              \n",
      "  30  0.00e+00  2.03e+03  7.53e+02  2.03e+03    9.31e+03      3   Skip BFGS  \n",
      "------------------------- STOP! -------------------------\n",
      "1 : |fc-fOld| = 1.4904e+00 <= tolF*(1+|f0|) = 4.3228e+02\n",
      "1 : |xc-x_last| = 1.6937e-01 <= tolX*(1+|x0|) = 4.0001e+00\n",
      "0 : |proj(x-g)-x|    = 9.3091e+03 <= tolG          = 1.0000e-01\n",
      "0 : |proj(x-g)-x|    = 9.3091e+03 <= 1e3*eps       = 1.0000e-02\n",
      "1 : maxIter   =      30    <= iter          =     30\n",
      "------------------------- DONE! -------------------------\n"
     ]
    }
   ],
   "source": [
    "survey.dobs = dtrue +noise\n",
    "dmis = DataMisfit.l2_DataMisfit(survey)\n",
    "dmis.Wd = 1./(0.05*abs(dtrue)+ 0.1)\n",
    "reg = Regularization.BaseRegularization(m1D)\n",
    "opt = Optimization.InexactGaussNewton(maxIter=30,maxIterLS=20)\n",
    "opt.remember('xc')\n",
    "invProb = InvProblem.BaseInvProblem(dmis, reg, opt)\n",
    "invProb.beta = 0.\n",
    "betaSched = Directives.BetaSchedule(coolingFactor=1, coolingRate=1)\n",
    "targetmis = Directives.TargetMisfit()\n",
    "savemodel = Directives.SaveModelEveryIteration()\n",
    "inv = Inversion.BaseInversion(invProb, directiveList=[betaSched,targetmis])\n",
    "reg.mref = m0\n",
    "mopt = inv.run(mopt.copy())"
   ]
  },
  {
   "cell_type": "code",
   "execution_count": 266,
   "metadata": {
    "collapsed": false
   },
   "outputs": [
    {
     "name": "stdout",
     "output_type": "stream",
     "text": [
      "SimPEG.InvProblem is setting bfgsH0 to the inverse of the eval2Deriv.\n",
      "                    ***Done using same solver as the problem***\n",
      "============================ Inexact Gauss Newton ============================\n",
      "  #     beta     phi_d     phi_m       f      |proj(x-g)-x|  LS    Comment   \n",
      "-----------------------------------------------------------------------------\n",
      "   0  0.00e+00  2.03e+03  7.53e+02  2.03e+03    9.31e+03      0              \n",
      "   1  0.00e+00  2.03e+03  7.53e+02  2.03e+03    7.87e+03      4              \n",
      "   2  0.00e+00  1.59e+03  7.54e+02  1.59e+03    1.27e+04      1              \n",
      "   3  0.00e+00  1.48e+03  7.54e+02  1.48e+03    7.41e+03      1              \n",
      "   4  0.00e+00  1.46e+03  7.54e+02  1.46e+03    9.53e+03      4              \n",
      "   5  0.00e+00  1.44e+03  7.56e+02  1.44e+03    8.32e+03      0              \n",
      "   6  0.00e+00  1.40e+03  7.57e+02  1.40e+03    8.97e+03      3              \n",
      "   7  0.00e+00  1.34e+03  7.55e+02  1.34e+03    7.52e+03      0              \n",
      "   8  0.00e+00  1.31e+03  7.56e+02  1.31e+03    6.52e+03      2   Skip BFGS  \n",
      "   9  0.00e+00  1.30e+03  7.58e+02  1.30e+03    1.39e+04      4   Skip BFGS  \n",
      "  10  0.00e+00  1.29e+03  7.62e+02  1.29e+03    3.20e+04      3   Skip BFGS  \n",
      "  11  0.00e+00  1.23e+03  7.65e+02  1.23e+03    1.21e+04      0              \n",
      "  12  0.00e+00  1.21e+03  7.68e+02  1.21e+03    3.00e+04      1              \n",
      "  13  0.00e+00  1.19e+03  7.66e+02  1.19e+03    1.46e+04      1              \n",
      "  14  0.00e+00  1.15e+03  7.70e+02  1.15e+03    1.06e+04      0              \n",
      "  15  0.00e+00  1.15e+03  7.72e+02  1.15e+03    9.72e+03      6   Skip BFGS  \n",
      "  16  0.00e+00  1.15e+03  7.73e+02  1.15e+03    9.51e+03      6   Skip BFGS  \n",
      "  17  0.00e+00  1.15e+03  7.73e+02  1.15e+03    9.40e+03      9              \n",
      "  18  0.00e+00  1.14e+03  7.79e+02  1.14e+03    1.61e+04      2              \n",
      "  19  0.00e+00  1.12e+03  7.83e+02  1.12e+03    1.50e+04      0              \n",
      "  20  0.00e+00  1.12e+03  7.83e+02  1.12e+03    1.15e+04      2   Skip BFGS  \n",
      "  21  0.00e+00  1.10e+03  7.92e+02  1.10e+03    8.99e+03      0              \n",
      "  22  0.00e+00  1.09e+03  8.01e+02  1.09e+03    1.07e+04      2   Skip BFGS  \n",
      "  23  0.00e+00  1.07e+03  7.91e+02  1.07e+03    8.80e+03      2              \n",
      "  24  0.00e+00  1.06e+03  7.90e+02  1.06e+03    6.91e+03      0              \n",
      "  25  0.00e+00  1.06e+03  7.90e+02  1.06e+03    5.67e+03      0              \n",
      "  26  0.00e+00  1.06e+03  7.90e+02  1.06e+03    9.01e+03      4   Skip BFGS  \n",
      "  27  0.00e+00  1.06e+03  7.90e+02  1.06e+03    5.66e+03      2              \n",
      "  28  0.00e+00  1.06e+03  7.92e+02  1.06e+03    5.15e+03      0   Skip BFGS  \n",
      "  29  0.00e+00  1.06e+03  7.93e+02  1.06e+03    4.86e+03      0              \n",
      "  30  0.00e+00  1.04e+03  7.65e+02  1.04e+03    4.56e+03      0              \n",
      "------------------------- STOP! -------------------------\n",
      "1 : |fc-fOld| = 1.2469e+01 <= tolF*(1+|f0|) = 2.0351e+02\n",
      "1 : |xc-x_last| = 3.9345e+00 <= tolX*(1+|x0|) = 4.0299e+00\n",
      "0 : |proj(x-g)-x|    = 4.5637e+03 <= tolG          = 1.0000e-01\n",
      "0 : |proj(x-g)-x|    = 4.5637e+03 <= 1e3*eps       = 1.0000e-02\n",
      "1 : maxIter   =      30    <= iter          =     30\n",
      "------------------------- DONE! -------------------------\n"
     ]
    }
   ],
   "source": [
    "survey.dobs = dtrue +noise\n",
    "dmis = DataMisfit.l2_DataMisfit(survey)\n",
    "dmis.Wd = 1./(0.05*abs(dtrue)+ 0.1)\n",
    "reg = Regularization.BaseRegularization(m1D)\n",
    "opt = Optimization.InexactGaussNewton(maxIter=30,maxIterLS=20)\n",
    "opt.remember('xc')\n",
    "invProb = InvProblem.BaseInvProblem(dmis, reg, opt)\n",
    "invProb.beta = 0.\n",
    "betaSched = Directives.BetaSchedule(coolingFactor=1, coolingRate=1)\n",
    "targetmis = Directives.TargetMisfit()\n",
    "savemodel = Directives.SaveModelEveryIteration()\n",
    "inv = Inversion.BaseInversion(invProb, directiveList=[betaSched,targetmis])\n",
    "reg.mref = m0\n",
    "mopt = inv.run(mopt.copy())"
   ]
  },
  {
   "cell_type": "code",
   "execution_count": 271,
   "metadata": {
    "collapsed": false
   },
   "outputs": [
    {
     "name": "stdout",
     "output_type": "stream",
     "text": [
      "SimPEG.InvProblem is setting bfgsH0 to the inverse of the eval2Deriv.\n",
      "                    ***Done using same solver as the problem***\n",
      "============================ Inexact Gauss Newton ============================\n",
      "  #     beta     phi_d     phi_m       f      |proj(x-g)-x|  LS    Comment   \n",
      "-----------------------------------------------------------------------------\n",
      "   0  0.00e+00  1.04e+03  7.65e+02  1.04e+03    4.56e+03      0              \n",
      "   1  0.00e+00  1.03e+03  7.65e+02  1.03e+03    1.04e+05      4              \n",
      "   2  0.00e+00  1.01e+03  7.65e+02  1.01e+03    3.70e+04      0              \n",
      "   3  0.00e+00  1.01e+03  7.65e+02  1.01e+03    2.21e+04      1              \n",
      "   4  0.00e+00  9.94e+02  7.66e+02  9.94e+02    9.14e+03      0              \n",
      "   5  0.00e+00  9.93e+02  7.66e+02  9.93e+02    1.55e+04      6              \n",
      "   6  0.00e+00  9.93e+02  7.66e+02  9.93e+02    1.22e+04      2              \n",
      "   7  0.00e+00  9.93e+02  7.66e+02  9.93e+02    8.68e+03      1              \n",
      "   8  0.00e+00  9.93e+02  7.66e+02  9.93e+02    8.67e+03     12              \n",
      "   9  0.00e+00  9.93e+02  7.66e+02  9.93e+02    1.49e+04      0              \n",
      "  10  0.00e+00  9.92e+02  7.66e+02  9.92e+02    1.10e+04      1              \n",
      "  11  0.00e+00  9.92e+02  7.66e+02  9.92e+02    1.11e+04      3              \n",
      "  12  0.00e+00  9.92e+02  7.66e+02  9.92e+02    1.09e+04      3   Skip BFGS  \n",
      "  13  0.00e+00  9.92e+02  7.66e+02  9.92e+02    1.13e+04      4              \n",
      "  14  0.00e+00  9.91e+02  7.65e+02  9.91e+02    5.69e+03      2   Skip BFGS  \n",
      "  15  0.00e+00  9.90e+02  7.66e+02  9.90e+02    9.77e+03      0              \n",
      "  16  0.00e+00  9.89e+02  7.66e+02  9.89e+02    1.15e+04      0   Skip BFGS  \n",
      "  17  0.00e+00  9.89e+02  7.66e+02  9.89e+02    5.75e+03      0              \n",
      "  18  0.00e+00  9.86e+02  7.68e+02  9.86e+02    1.89e+03      0   Skip BFGS  \n",
      "  19  0.00e+00  9.85e+02  7.68e+02  9.85e+02    1.20e+03      0              \n",
      "  20  0.00e+00  9.85e+02  7.80e+02  9.85e+02    2.57e+04      1   Skip BFGS  \n",
      "  21  0.00e+00  9.76e+02  7.78e+02  9.76e+02    1.86e+04      0              \n",
      "  22  0.00e+00  9.74e+02  7.79e+02  9.74e+02    1.42e+04      0              \n",
      "  23  0.00e+00  9.73e+02  7.80e+02  9.73e+02    1.29e+04      4   Skip BFGS  \n",
      "  24  0.00e+00  9.73e+02  7.80e+02  9.73e+02    4.87e+03      5   Skip BFGS  \n",
      "  25  0.00e+00  9.72e+02  7.80e+02  9.72e+02    2.46e+03      0              \n",
      "  26  0.00e+00  9.72e+02  8.00e+02  9.72e+02    3.27e+03      1              \n",
      "  27  0.00e+00  9.69e+02  8.70e+02  9.69e+02    1.79e+03      0   Skip BFGS  \n",
      "  28  0.00e+00  9.52e+02  8.35e+02  9.52e+02    2.87e+03      0              \n",
      "  29  0.00e+00  9.16e+02  9.53e+02  9.16e+02    4.25e+03      0              \n",
      "  30  0.00e+00  9.07e+02  9.28e+02  9.07e+02    1.14e+04      0              \n",
      "------------------------- STOP! -------------------------\n",
      "1 : |fc-fOld| = 9.3147e+00 <= tolF*(1+|f0|) = 1.0436e+02\n",
      "1 : |xc-x_last| = 1.0924e+00 <= tolX*(1+|x0|) = 4.0554e+00\n",
      "0 : |proj(x-g)-x|    = 1.1364e+04 <= tolG          = 1.0000e-01\n",
      "0 : |proj(x-g)-x|    = 1.1364e+04 <= 1e3*eps       = 1.0000e-02\n",
      "1 : maxIter   =      30    <= iter          =     30\n",
      "------------------------- DONE! -------------------------\n"
     ]
    }
   ],
   "source": [
    "survey.dobs = dtrue +noise\n",
    "dmis = DataMisfit.l2_DataMisfit(survey)\n",
    "dmis.Wd = 1./(0.05*abs(dtrue)+ 0.1)\n",
    "reg = Regularization.BaseRegularization(m1D)\n",
    "opt = Optimization.InexactGaussNewton(maxIter=30,maxIterLS=20)\n",
    "opt.remember('xc')\n",
    "invProb = InvProblem.BaseInvProblem(dmis, reg, opt)\n",
    "invProb.beta = 0.\n",
    "betaSched = Directives.BetaSchedule(coolingFactor=1, coolingRate=1)\n",
    "targetmis = Directives.TargetMisfit()\n",
    "savemodel = Directives.SaveModelEveryIteration()\n",
    "inv = Inversion.BaseInversion(invProb, directiveList=[betaSched,targetmis])\n",
    "reg.mref = m0\n",
    "mopt = inv.run(mopt.copy())"
   ]
  },
  {
   "cell_type": "code",
   "execution_count": 346,
   "metadata": {
    "collapsed": true
   },
   "outputs": [],
   "source": [
    "XC = opt.recall('xc')"
   ]
  },
  {
   "cell_type": "code",
   "execution_count": 347,
   "metadata": {
    "collapsed": true
   },
   "outputs": [],
   "source": [
    "from ipywidgets import interact, IntSlider\n",
    "def viewInv(iteration):\n",
    "    fig  = plt.figure(num=0,figsize = (10,5))\n",
    "    ax = plt.subplot(111)\n",
    "    dat = mesh.plotImage(np.log10(mapping*XC[iteration]), grid=True, ax=ax, clim=(-3, 0), gridOpts={'alpha':0.2}, pcolorOpts={'cmap':cm.RdPu})\n",
    "#     ax.set_xlim(mesh.vectorNx.min(), mesh.vectorNx.max())\n",
    "#     ax.set_ylim(mesh.vectorNy.min(), mesh.vectorNy.max())\n",
    "    ax.plot(mesh.vectorCCx, dpred, 'r--')\n",
    "    ax.plot(xz_A[:,0], xz_A[:,1], 'k.')\n",
    "    ax.plot(xz_B[:,0], xz_B[:,1], 'r.')\n",
    "    ax.plot(xz_N[:,0], xz_N[:,1], 'b.')    \n",
    "#     plt.colorbar(dat[0], ax=ax)\n",
    "#     ax.set_ylim (-15, 0.)\n",
    "#     ax.set_xlim (-15, 15.)\n",
    "    plt.show()\n",
    "    return True"
   ]
  },
  {
   "cell_type": "code",
   "execution_count": 348,
   "metadata": {
    "collapsed": false,
    "scrolled": true
   },
   "outputs": [
    {
     "data": {
      "image/png": "[encoded data removed]",
      "text/plain": [
       "<matplotlib.figure.Figure at 0x11867f150>"
      ]
     },
     "metadata": {},
     "output_type": "display_data"
    },
    {
     "data": {
      "text/plain": [
       "True"
      ]
     },
     "metadata": {},
     "output_type": "display_data"
    }
   ],
   "source": [
    "interact(viewInv, iteration = IntSlider(min=0, max=opt.iter-1,step=1, value=0))"
   ]
  },
  {
   "cell_type": "code",
   "execution_count": 270,
   "metadata": {
    "collapsed": false
   },
   "outputs": [
    {
     "data": {
      "text/plain": [
       "[<matplotlib.lines.Line2D at 0x11983dd50>]"
      ]
     },
     "execution_count": 270,
     "metadata": {},
     "output_type": "execute_result"
    },
    {
     "data": {
      "image/png": "[encoded data removed]",
      "text/plain": [
       "<matplotlib.figure.Figure at 0x11832db50>"
      ]
     },
     "metadata": {},
     "output_type": "display_data"
    }
   ],
   "source": [
    "plt.plot(survey.dobs)\n",
    "plt.plot(invProb.dpred)"
   ]
  },
  {
   "cell_type": "code",
   "execution_count": null,
   "metadata": {
    "collapsed": true
   },
   "outputs": [],
   "source": []
  }
 ],
 "metadata": {
  "anaconda-cloud": {},
  "kernelspec": {
   "display_name": "Python [default]",
   "language": "python",
   "name": "python2"
  },
  "language_info": {
   "codemirror_mode": {
    "name": "ipython",
    "version": 2
   },
   "file_extension": ".py",
   "mimetype": "text/x-python",
   "name": "python",
   "nbconvert_exporter": "python",
   "pygments_lexer": "ipython2",
   "version": "2.7.12"
  }
 },
 "nbformat": 4,
 "nbformat_minor": 0
}
