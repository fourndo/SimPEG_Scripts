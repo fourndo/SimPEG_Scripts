{
 "cells": [
  {
   "cell_type": "code",
   "execution_count": 65,
   "metadata": {
    "collapsed": false
   },
   "outputs": [
    {
     "name": "stdout",
     "output_type": "stream",
     "text": [
      "Begin calculation forward calculations... G not stored: \n",
      "Done 0.0 %\n",
      "Done 10.0 %\n",
      "Done 20.0 %\n",
      "Done 30.0 %\n",
      "Done 40.0 %\n",
      "Done 50.0 %\n",
      "Done 60.0 %\n",
      "Done 70.0 %\n",
      "Done 80.0 %\n",
      "Done 90.0 %\n",
      "Done 100% ...forward operator completed!!\n",
      "\n",
      "Begin calculation forward calculations... G not stored: \n",
      "Done 0.0 %\n",
      "Done 10.0 %\n",
      "Done 20.0 %\n",
      "Done 30.0 %\n",
      "Done 40.0 %\n",
      "Done 50.0 %\n",
      "Done 60.0 %\n",
      "Done 70.0 %\n",
      "Done 80.0 %\n",
      "Done 90.0 %\n",
      "Done 100% ...forward operator completed!!\n",
      "\n"
     ]
    }
   ],
   "source": [
    "\n",
    "from SimPEG import*\n",
    "import SimPEG.PF as PF\n",
    "\n",
    "H0 = (50000., 60., 270.)\n",
    "b0 = PF.MagAnalytics.IDTtoxyz(-H0[1], H0[2], H0[0])\n",
    "cs = 0.2\n",
    "rad = 2.\n",
    "hxind = [(cs, 21)]\n",
    "hyind = [(cs, 21)]\n",
    "hzind = [(cs, 21)]\n",
    "mesh = Mesh.TensorMesh([hxind, hyind, hzind], 'CCC')\n",
    "\n",
    "chi = 0.01\n",
    "ndv = -100\n",
    "\n",
    "# Get cells inside the sphere\n",
    "sph_ind = PF.MagAnalytics.spheremodel(mesh, 0., 0., 0., rad)\n",
    "\n",
    "# Adjust susceptibility for volume difference\n",
    "Vratio = (4./3.*np.pi*rad**3.) / (np.sum(sph_ind)*cs**3.)\n",
    "model = np.ones(mesh.nC)*chi*Vratio\n",
    "\n",
    "model = model[sph_ind]\n",
    "\n",
    "actvMap = Maps.InjectActiveCells(mesh, sph_ind, ndv)\n",
    "# Creat reduced identity map\n",
    "idenMap = Maps.IdentityMap(nP=int(sum(sph_ind)))\n",
    "\n",
    "# Create plane of observations\n",
    "xr = np.linspace(-20, 20, 21)\n",
    "yr = np.linspace(-20, 20, 21)\n",
    "X, Y = np.meshgrid(xr, yr)\n",
    "\n",
    "# Move obs plane 2 radius away from sphere\n",
    "Z = np.ones((xr.size, yr.size))*2.*rad\n",
    "locXyz = np.c_[Utils.mkvc(X), Utils.mkvc(Y), Utils.mkvc(Z)]\n",
    "ndata = locXyz.shape[0]\n",
    "rxLoc = PF.BaseMag.RxObs(locXyz)\n",
    "srcField = PF.BaseMag.SrcField([rxLoc], param=H0)\n",
    "survey = PF.BaseMag.LinearSurvey(srcField)\n",
    "\n",
    "\n",
    "prob = PF.Magnetics.MagneticIntegral(mesh, mapping=idenMap,\n",
    "                                     actInd=sph_ind, forwardOnly=True,\n",
    "                                     rtype='xyz')\n",
    "\n",
    "survey.pair(prob)\n",
    "\n",
    "    #def test_ana_forward(self):\n",
    "\n",
    "d = prob.fields(model)\n",
    "\n",
    "dbx = d[0:ndata]\n",
    "dby = d[ndata:2*ndata]\n",
    "dbz = d[2*ndata:]\n",
    "\n",
    "prob = PF.Magnetics.MagneticIntegral(mesh, mapping=idenMap,\n",
    "                                     actInd=sph_ind, forwardOnly=True,\n",
    "                                     rtype='tmi')\n",
    "survey.pair(prob)\n",
    "dtmi = prob.fields(model)\n",
    "\n",
    "bxa, bya, bza = PF.MagAnalytics.MagSphereFreeSpace(locXyz[:, 0], locXyz[:, 1], locXyz[:, 2], rad, 0, 0, 0, chi, b0)\n",
    "\n",
    "# Project data to tmi\n",
    "D = (450.-float(H0[2])) % 360.\n",
    "I = H0[1]\n",
    "\n",
    "# Projection matrix\n",
    "Ptmi = mkvc(b0)/np.sqrt(np.sum(b0**2.))\n",
    "\n",
    "btmi = mkvc(Ptmi.dot(np.vstack((bxa, bya, bza))))\n",
    "\n",
    "\n",
    "#dpred = survey.projectFieldsAsVector(B)\n",
    "#err = np.linalg.norm(dpred-np.r_[bxa, bya, bza])/np.linalg.norm(np.r_[bxa, bya, bza])\n",
    "#self.assertTrue(err < 0.08)"
   ]
  },
  {
   "cell_type": "code",
   "execution_count": 66,
   "metadata": {
    "collapsed": false
   },
   "outputs": [
    {
     "name": "stdout",
     "output_type": "stream",
     "text": [
      "0.00201220840839 0.00207989757317\n"
     ]
    }
   ],
   "source": [
    "err_xyz = np.linalg.norm(d-np.r_[bxa, bya, bza])/np.linalg.norm(np.r_[bxa, bya, bza])\n",
    "err_tmi = np.linalg.norm(dtmi-btmi)/np.linalg.norm(btmi)\n",
    "print err_xyz, err_tmi,"
   ]
  },
  {
   "cell_type": "code",
   "execution_count": null,
   "metadata": {
    "collapsed": true
   },
   "outputs": [],
   "source": []
  }
 ],
 "metadata": {
  "kernelspec": {
   "display_name": "Python 2",
   "language": "python",
   "name": "python2"
  },
  "language_info": {
   "codemirror_mode": {
    "name": "ipython",
    "version": 2
   },
   "file_extension": ".py",
   "mimetype": "text/x-python",
   "name": "python",
   "nbconvert_exporter": "python",
   "pygments_lexer": "ipython2",
   "version": "2.7.12"
  }
 },
 "nbformat": 4,
 "nbformat_minor": 0
}
