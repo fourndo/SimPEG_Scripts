{
 "cells": [
  {
   "cell_type": "markdown",
   "metadata": {},
   "source": [
    "**Where are the diamonds: Using Earth's Potential Fields (Magnetics)** \n",
    "\n",
    "In this tutorial we will run a magnetic inverse problem from an input file.\n",
    "The synthetic example used is based on the TKC kimberlite deposit, Northwest Territories. We are attempting to use the magnetic field to image the various rock units making up the diamond deposit.\n",
    "We will skip the model creation for now, at it is quite involved and out of scope for this notebook. "
   ]
  },
  {
   "cell_type": "code",
   "execution_count": 1,
   "metadata": {
    "collapsed": false
   },
   "outputs": [
    {
     "name": "stdout",
     "output_type": "stream",
     "text": [
      "Populating the interactive namespace from numpy and matplotlib\n",
      "Efficiency Warning: Interpolation will be slow, use setup.py!\n",
      "\n",
      "            python setup.py build_ext --inplace\n",
      "    \n"
     ]
    }
   ],
   "source": [
    "## First we need to load all the libraries and set up the path\n",
    "## for the input files. Same files as used by the online tutorial\n",
    "## Need to be on \\pf\\dev branch !!!\n",
    "%pylab inline \n",
    "import SimPEG.PF as PF\n",
    "from SimPEG import *\n",
    "from SimPEG.Utils import io_utils\n",
    "import matplotlib\n",
    "import matplotlib.colors as colors\n",
    "import scipy as sp\n",
    "import time as tm\n",
    "import os\n",
    "import urllib\n",
    "import shutil\n",
    "from ipywidgets.widgets import interact, IntSlider\n",
    "\n",
    "# URL and files needed for this notebook\n",
    "url='https://storage.googleapis.com/simpeg/tests/potential_fields/'\n",
    "cloudfiles = ['GravData.obs','Gaussian.topo','Mesh_10m.msh','ModelStart.sus','Obs_loc_TMI.obs','PYMAG3D_inv.inp']\n",
    "\n",
    "# Create a temporary directory with all files downloaded from cloud\n",
    "basePath = remoteDownload(url, cloudfiles)"
   ]
  },
  {
   "cell_type": "code",
   "execution_count": 2,
   "metadata": {
    "collapsed": false
   },
   "outputs": [
    {
     "ename": "IOError",
     "evalue": "[Errno socket error] [Errno 11001] getaddrinfo failed",
     "output_type": "error",
     "traceback": [
      "\u001b[1;31m---------------------------------------------------------------------------\u001b[0m",
      "\u001b[1;31mIOError\u001b[0m                                   Traceback (most recent call last)",
      "\u001b[1;32m<ipython-input-2-0bb906a0cf74>\u001b[0m in \u001b[0;36m<module>\u001b[1;34m()\u001b[0m\n\u001b[0;32m     16\u001b[0m \u001b[1;32mfor\u001b[0m \u001b[0mfiles\u001b[0m \u001b[1;32min\u001b[0m \u001b[0mcloudfiles\u001b[0m\u001b[1;33m:\u001b[0m\u001b[1;33m\u001b[0m\u001b[0m\n\u001b[0;32m     17\u001b[0m \u001b[1;33m\u001b[0m\u001b[0m\n\u001b[1;32m---> 18\u001b[1;33m     \u001b[0murllib\u001b[0m\u001b[1;33m.\u001b[0m\u001b[0murlretrieve\u001b[0m\u001b[1;33m(\u001b[0m\u001b[0murl\u001b[0m \u001b[1;33m+\u001b[0m \u001b[0mfiles\u001b[0m\u001b[1;33m,\u001b[0m\u001b[0mbasePath\u001b[0m\u001b[1;33m+\u001b[0m\u001b[1;34m'URLRetrieve.dat'\u001b[0m\u001b[1;33m)\u001b[0m\u001b[1;33m\u001b[0m\u001b[0m\n\u001b[0m\u001b[0;32m     19\u001b[0m \u001b[1;33m\u001b[0m\u001b[0m\n\u001b[0;32m     20\u001b[0m \u001b[1;31m#shutil.copyfileobj(response, basePath + obsfile)\u001b[0m\u001b[1;33m\u001b[0m\u001b[1;33m\u001b[0m\u001b[0m\n",
      "\u001b[1;32mC:\\Users\\dominiquef.MIRAGEOSCIENCE\\AppData\\Local\\Continuum\\Anaconda\\lib\\urllib.pyc\u001b[0m in \u001b[0;36murlretrieve\u001b[1;34m(url, filename, reporthook, data, context)\u001b[0m\n\u001b[0;32m     96\u001b[0m     \u001b[1;32melse\u001b[0m\u001b[1;33m:\u001b[0m\u001b[1;33m\u001b[0m\u001b[0m\n\u001b[0;32m     97\u001b[0m         \u001b[0mopener\u001b[0m \u001b[1;33m=\u001b[0m \u001b[0m_urlopener\u001b[0m\u001b[1;33m\u001b[0m\u001b[0m\n\u001b[1;32m---> 98\u001b[1;33m     \u001b[1;32mreturn\u001b[0m \u001b[0mopener\u001b[0m\u001b[1;33m.\u001b[0m\u001b[0mretrieve\u001b[0m\u001b[1;33m(\u001b[0m\u001b[0murl\u001b[0m\u001b[1;33m,\u001b[0m \u001b[0mfilename\u001b[0m\u001b[1;33m,\u001b[0m \u001b[0mreporthook\u001b[0m\u001b[1;33m,\u001b[0m \u001b[0mdata\u001b[0m\u001b[1;33m)\u001b[0m\u001b[1;33m\u001b[0m\u001b[0m\n\u001b[0m\u001b[0;32m     99\u001b[0m \u001b[1;32mdef\u001b[0m \u001b[0murlcleanup\u001b[0m\u001b[1;33m(\u001b[0m\u001b[1;33m)\u001b[0m\u001b[1;33m:\u001b[0m\u001b[1;33m\u001b[0m\u001b[0m\n\u001b[0;32m    100\u001b[0m     \u001b[1;32mif\u001b[0m \u001b[0m_urlopener\u001b[0m\u001b[1;33m:\u001b[0m\u001b[1;33m\u001b[0m\u001b[0m\n",
      "\u001b[1;32mC:\\Users\\dominiquef.MIRAGEOSCIENCE\\AppData\\Local\\Continuum\\Anaconda\\lib\\urllib.pyc\u001b[0m in \u001b[0;36mretrieve\u001b[1;34m(self, url, filename, reporthook, data)\u001b[0m\n\u001b[0;32m    243\u001b[0m             \u001b[1;32mexcept\u001b[0m \u001b[0mIOError\u001b[0m\u001b[1;33m:\u001b[0m\u001b[1;33m\u001b[0m\u001b[0m\n\u001b[0;32m    244\u001b[0m                 \u001b[1;32mpass\u001b[0m\u001b[1;33m\u001b[0m\u001b[0m\n\u001b[1;32m--> 245\u001b[1;33m         \u001b[0mfp\u001b[0m \u001b[1;33m=\u001b[0m \u001b[0mself\u001b[0m\u001b[1;33m.\u001b[0m\u001b[0mopen\u001b[0m\u001b[1;33m(\u001b[0m\u001b[0murl\u001b[0m\u001b[1;33m,\u001b[0m \u001b[0mdata\u001b[0m\u001b[1;33m)\u001b[0m\u001b[1;33m\u001b[0m\u001b[0m\n\u001b[0m\u001b[0;32m    246\u001b[0m         \u001b[1;32mtry\u001b[0m\u001b[1;33m:\u001b[0m\u001b[1;33m\u001b[0m\u001b[0m\n\u001b[0;32m    247\u001b[0m             \u001b[0mheaders\u001b[0m \u001b[1;33m=\u001b[0m \u001b[0mfp\u001b[0m\u001b[1;33m.\u001b[0m\u001b[0minfo\u001b[0m\u001b[1;33m(\u001b[0m\u001b[1;33m)\u001b[0m\u001b[1;33m\u001b[0m\u001b[0m\n",
      "\u001b[1;32mC:\\Users\\dominiquef.MIRAGEOSCIENCE\\AppData\\Local\\Continuum\\Anaconda\\lib\\urllib.pyc\u001b[0m in \u001b[0;36mopen\u001b[1;34m(self, fullurl, data)\u001b[0m\n\u001b[0;32m    211\u001b[0m         \u001b[1;32mtry\u001b[0m\u001b[1;33m:\u001b[0m\u001b[1;33m\u001b[0m\u001b[0m\n\u001b[0;32m    212\u001b[0m             \u001b[1;32mif\u001b[0m \u001b[0mdata\u001b[0m \u001b[1;32mis\u001b[0m \u001b[0mNone\u001b[0m\u001b[1;33m:\u001b[0m\u001b[1;33m\u001b[0m\u001b[0m\n\u001b[1;32m--> 213\u001b[1;33m                 \u001b[1;32mreturn\u001b[0m \u001b[0mgetattr\u001b[0m\u001b[1;33m(\u001b[0m\u001b[0mself\u001b[0m\u001b[1;33m,\u001b[0m \u001b[0mname\u001b[0m\u001b[1;33m)\u001b[0m\u001b[1;33m(\u001b[0m\u001b[0murl\u001b[0m\u001b[1;33m)\u001b[0m\u001b[1;33m\u001b[0m\u001b[0m\n\u001b[0m\u001b[0;32m    214\u001b[0m             \u001b[1;32melse\u001b[0m\u001b[1;33m:\u001b[0m\u001b[1;33m\u001b[0m\u001b[0m\n\u001b[0;32m    215\u001b[0m                 \u001b[1;32mreturn\u001b[0m \u001b[0mgetattr\u001b[0m\u001b[1;33m(\u001b[0m\u001b[0mself\u001b[0m\u001b[1;33m,\u001b[0m \u001b[0mname\u001b[0m\u001b[1;33m)\u001b[0m\u001b[1;33m(\u001b[0m\u001b[0murl\u001b[0m\u001b[1;33m,\u001b[0m \u001b[0mdata\u001b[0m\u001b[1;33m)\u001b[0m\u001b[1;33m\u001b[0m\u001b[0m\n",
      "\u001b[1;32mC:\\Users\\dominiquef.MIRAGEOSCIENCE\\AppData\\Local\\Continuum\\Anaconda\\lib\\urllib.pyc\u001b[0m in \u001b[0;36mopen_https\u001b[1;34m(self, url, data)\u001b[0m\n\u001b[0;32m    441\u001b[0m             \u001b[1;32mif\u001b[0m \u001b[0mrealhost\u001b[0m\u001b[1;33m:\u001b[0m \u001b[0mh\u001b[0m\u001b[1;33m.\u001b[0m\u001b[0mputheader\u001b[0m\u001b[1;33m(\u001b[0m\u001b[1;34m'Host'\u001b[0m\u001b[1;33m,\u001b[0m \u001b[0mrealhost\u001b[0m\u001b[1;33m)\u001b[0m\u001b[1;33m\u001b[0m\u001b[0m\n\u001b[0;32m    442\u001b[0m             \u001b[1;32mfor\u001b[0m \u001b[0margs\u001b[0m \u001b[1;32min\u001b[0m \u001b[0mself\u001b[0m\u001b[1;33m.\u001b[0m\u001b[0maddheaders\u001b[0m\u001b[1;33m:\u001b[0m \u001b[0mh\u001b[0m\u001b[1;33m.\u001b[0m\u001b[0mputheader\u001b[0m\u001b[1;33m(\u001b[0m\u001b[1;33m*\u001b[0m\u001b[0margs\u001b[0m\u001b[1;33m)\u001b[0m\u001b[1;33m\u001b[0m\u001b[0m\n\u001b[1;32m--> 443\u001b[1;33m             \u001b[0mh\u001b[0m\u001b[1;33m.\u001b[0m\u001b[0mendheaders\u001b[0m\u001b[1;33m(\u001b[0m\u001b[0mdata\u001b[0m\u001b[1;33m)\u001b[0m\u001b[1;33m\u001b[0m\u001b[0m\n\u001b[0m\u001b[0;32m    444\u001b[0m             \u001b[0merrcode\u001b[0m\u001b[1;33m,\u001b[0m \u001b[0merrmsg\u001b[0m\u001b[1;33m,\u001b[0m \u001b[0mheaders\u001b[0m \u001b[1;33m=\u001b[0m \u001b[0mh\u001b[0m\u001b[1;33m.\u001b[0m\u001b[0mgetreply\u001b[0m\u001b[1;33m(\u001b[0m\u001b[1;33m)\u001b[0m\u001b[1;33m\u001b[0m\u001b[0m\n\u001b[0;32m    445\u001b[0m             \u001b[0mfp\u001b[0m \u001b[1;33m=\u001b[0m \u001b[0mh\u001b[0m\u001b[1;33m.\u001b[0m\u001b[0mgetfile\u001b[0m\u001b[1;33m(\u001b[0m\u001b[1;33m)\u001b[0m\u001b[1;33m\u001b[0m\u001b[0m\n",
      "\u001b[1;32mC:\\Users\\dominiquef.MIRAGEOSCIENCE\\AppData\\Local\\Continuum\\Anaconda\\lib\\httplib.pyc\u001b[0m in \u001b[0;36mendheaders\u001b[1;34m(self, message_body)\u001b[0m\n\u001b[0;32m   1051\u001b[0m         \u001b[1;32melse\u001b[0m\u001b[1;33m:\u001b[0m\u001b[1;33m\u001b[0m\u001b[0m\n\u001b[0;32m   1052\u001b[0m             \u001b[1;32mraise\u001b[0m \u001b[0mCannotSendHeader\u001b[0m\u001b[1;33m(\u001b[0m\u001b[1;33m)\u001b[0m\u001b[1;33m\u001b[0m\u001b[0m\n\u001b[1;32m-> 1053\u001b[1;33m         \u001b[0mself\u001b[0m\u001b[1;33m.\u001b[0m\u001b[0m_send_output\u001b[0m\u001b[1;33m(\u001b[0m\u001b[0mmessage_body\u001b[0m\u001b[1;33m)\u001b[0m\u001b[1;33m\u001b[0m\u001b[0m\n\u001b[0m\u001b[0;32m   1054\u001b[0m \u001b[1;33m\u001b[0m\u001b[0m\n\u001b[0;32m   1055\u001b[0m     \u001b[1;32mdef\u001b[0m \u001b[0mrequest\u001b[0m\u001b[1;33m(\u001b[0m\u001b[0mself\u001b[0m\u001b[1;33m,\u001b[0m \u001b[0mmethod\u001b[0m\u001b[1;33m,\u001b[0m \u001b[0murl\u001b[0m\u001b[1;33m,\u001b[0m \u001b[0mbody\u001b[0m\u001b[1;33m=\u001b[0m\u001b[0mNone\u001b[0m\u001b[1;33m,\u001b[0m \u001b[0mheaders\u001b[0m\u001b[1;33m=\u001b[0m\u001b[1;33m{\u001b[0m\u001b[1;33m}\u001b[0m\u001b[1;33m)\u001b[0m\u001b[1;33m:\u001b[0m\u001b[1;33m\u001b[0m\u001b[0m\n",
      "\u001b[1;32mC:\\Users\\dominiquef.MIRAGEOSCIENCE\\AppData\\Local\\Continuum\\Anaconda\\lib\\httplib.pyc\u001b[0m in \u001b[0;36m_send_output\u001b[1;34m(self, message_body)\u001b[0m\n\u001b[0;32m    895\u001b[0m             \u001b[0mmsg\u001b[0m \u001b[1;33m+=\u001b[0m \u001b[0mmessage_body\u001b[0m\u001b[1;33m\u001b[0m\u001b[0m\n\u001b[0;32m    896\u001b[0m             \u001b[0mmessage_body\u001b[0m \u001b[1;33m=\u001b[0m \u001b[0mNone\u001b[0m\u001b[1;33m\u001b[0m\u001b[0m\n\u001b[1;32m--> 897\u001b[1;33m         \u001b[0mself\u001b[0m\u001b[1;33m.\u001b[0m\u001b[0msend\u001b[0m\u001b[1;33m(\u001b[0m\u001b[0mmsg\u001b[0m\u001b[1;33m)\u001b[0m\u001b[1;33m\u001b[0m\u001b[0m\n\u001b[0m\u001b[0;32m    898\u001b[0m         \u001b[1;32mif\u001b[0m \u001b[0mmessage_body\u001b[0m \u001b[1;32mis\u001b[0m \u001b[1;32mnot\u001b[0m \u001b[0mNone\u001b[0m\u001b[1;33m:\u001b[0m\u001b[1;33m\u001b[0m\u001b[0m\n\u001b[0;32m    899\u001b[0m             \u001b[1;31m#message_body was not a string (i.e. it is a file) and\u001b[0m\u001b[1;33m\u001b[0m\u001b[1;33m\u001b[0m\u001b[0m\n",
      "\u001b[1;32mC:\\Users\\dominiquef.MIRAGEOSCIENCE\\AppData\\Local\\Continuum\\Anaconda\\lib\\httplib.pyc\u001b[0m in \u001b[0;36msend\u001b[1;34m(self, data)\u001b[0m\n\u001b[0;32m    857\u001b[0m         \u001b[1;32mif\u001b[0m \u001b[0mself\u001b[0m\u001b[1;33m.\u001b[0m\u001b[0msock\u001b[0m \u001b[1;32mis\u001b[0m \u001b[0mNone\u001b[0m\u001b[1;33m:\u001b[0m\u001b[1;33m\u001b[0m\u001b[0m\n\u001b[0;32m    858\u001b[0m             \u001b[1;32mif\u001b[0m \u001b[0mself\u001b[0m\u001b[1;33m.\u001b[0m\u001b[0mauto_open\u001b[0m\u001b[1;33m:\u001b[0m\u001b[1;33m\u001b[0m\u001b[0m\n\u001b[1;32m--> 859\u001b[1;33m                 \u001b[0mself\u001b[0m\u001b[1;33m.\u001b[0m\u001b[0mconnect\u001b[0m\u001b[1;33m(\u001b[0m\u001b[1;33m)\u001b[0m\u001b[1;33m\u001b[0m\u001b[0m\n\u001b[0m\u001b[0;32m    860\u001b[0m             \u001b[1;32melse\u001b[0m\u001b[1;33m:\u001b[0m\u001b[1;33m\u001b[0m\u001b[0m\n\u001b[0;32m    861\u001b[0m                 \u001b[1;32mraise\u001b[0m \u001b[0mNotConnected\u001b[0m\u001b[1;33m(\u001b[0m\u001b[1;33m)\u001b[0m\u001b[1;33m\u001b[0m\u001b[0m\n",
      "\u001b[1;32mC:\\Users\\dominiquef.MIRAGEOSCIENCE\\AppData\\Local\\Continuum\\Anaconda\\lib\\httplib.pyc\u001b[0m in \u001b[0;36mconnect\u001b[1;34m(self)\u001b[0m\n\u001b[0;32m   1268\u001b[0m             \u001b[1;34m\"Connect to a host on a given (SSL) port.\"\u001b[0m\u001b[1;33m\u001b[0m\u001b[0m\n\u001b[0;32m   1269\u001b[0m \u001b[1;33m\u001b[0m\u001b[0m\n\u001b[1;32m-> 1270\u001b[1;33m             \u001b[0mHTTPConnection\u001b[0m\u001b[1;33m.\u001b[0m\u001b[0mconnect\u001b[0m\u001b[1;33m(\u001b[0m\u001b[0mself\u001b[0m\u001b[1;33m)\u001b[0m\u001b[1;33m\u001b[0m\u001b[0m\n\u001b[0m\u001b[0;32m   1271\u001b[0m \u001b[1;33m\u001b[0m\u001b[0m\n\u001b[0;32m   1272\u001b[0m             \u001b[1;32mif\u001b[0m \u001b[0mself\u001b[0m\u001b[1;33m.\u001b[0m\u001b[0m_tunnel_host\u001b[0m\u001b[1;33m:\u001b[0m\u001b[1;33m\u001b[0m\u001b[0m\n",
      "\u001b[1;32mC:\\Users\\dominiquef.MIRAGEOSCIENCE\\AppData\\Local\\Continuum\\Anaconda\\lib\\httplib.pyc\u001b[0m in \u001b[0;36mconnect\u001b[1;34m(self)\u001b[0m\n\u001b[0;32m    834\u001b[0m         \u001b[1;34m\"\"\"Connect to the host and port specified in __init__.\"\"\"\u001b[0m\u001b[1;33m\u001b[0m\u001b[0m\n\u001b[0;32m    835\u001b[0m         self.sock = self._create_connection((self.host,self.port),\n\u001b[1;32m--> 836\u001b[1;33m                                            self.timeout, self.source_address)\n\u001b[0m\u001b[0;32m    837\u001b[0m \u001b[1;33m\u001b[0m\u001b[0m\n\u001b[0;32m    838\u001b[0m         \u001b[1;32mif\u001b[0m \u001b[0mself\u001b[0m\u001b[1;33m.\u001b[0m\u001b[0m_tunnel_host\u001b[0m\u001b[1;33m:\u001b[0m\u001b[1;33m\u001b[0m\u001b[0m\n",
      "\u001b[1;32mC:\\Users\\dominiquef.MIRAGEOSCIENCE\\AppData\\Local\\Continuum\\Anaconda\\lib\\socket.pyc\u001b[0m in \u001b[0;36mcreate_connection\u001b[1;34m(address, timeout, source_address)\u001b[0m\n\u001b[0;32m    555\u001b[0m     \u001b[0mhost\u001b[0m\u001b[1;33m,\u001b[0m \u001b[0mport\u001b[0m \u001b[1;33m=\u001b[0m \u001b[0maddress\u001b[0m\u001b[1;33m\u001b[0m\u001b[0m\n\u001b[0;32m    556\u001b[0m     \u001b[0merr\u001b[0m \u001b[1;33m=\u001b[0m \u001b[0mNone\u001b[0m\u001b[1;33m\u001b[0m\u001b[0m\n\u001b[1;32m--> 557\u001b[1;33m     \u001b[1;32mfor\u001b[0m \u001b[0mres\u001b[0m \u001b[1;32min\u001b[0m \u001b[0mgetaddrinfo\u001b[0m\u001b[1;33m(\u001b[0m\u001b[0mhost\u001b[0m\u001b[1;33m,\u001b[0m \u001b[0mport\u001b[0m\u001b[1;33m,\u001b[0m \u001b[1;36m0\u001b[0m\u001b[1;33m,\u001b[0m \u001b[0mSOCK_STREAM\u001b[0m\u001b[1;33m)\u001b[0m\u001b[1;33m:\u001b[0m\u001b[1;33m\u001b[0m\u001b[0m\n\u001b[0m\u001b[0;32m    558\u001b[0m         \u001b[0maf\u001b[0m\u001b[1;33m,\u001b[0m \u001b[0msocktype\u001b[0m\u001b[1;33m,\u001b[0m \u001b[0mproto\u001b[0m\u001b[1;33m,\u001b[0m \u001b[0mcanonname\u001b[0m\u001b[1;33m,\u001b[0m \u001b[0msa\u001b[0m \u001b[1;33m=\u001b[0m \u001b[0mres\u001b[0m\u001b[1;33m\u001b[0m\u001b[0m\n\u001b[0;32m    559\u001b[0m         \u001b[0msock\u001b[0m \u001b[1;33m=\u001b[0m \u001b[0mNone\u001b[0m\u001b[1;33m\u001b[0m\u001b[0m\n",
      "\u001b[1;31mIOError\u001b[0m: [Errno socket error] [Errno 11001] getaddrinfo failed"
     ]
    }
   ],
   "source": [
    "\n",
    "              "
   ]
  },
  {
   "cell_type": "code",
   "execution_count": null,
   "metadata": {
    "collapsed": false
   },
   "outputs": [],
   "source": [
    "# Input file\n",
    "inputFile = basePath + 'PYMAG3D_inv.inp'\n",
    "\n",
    "# Read in the input file which included all parameters at once (mesh, topo, model, survey, inv param, etc.)\n",
    "driver = PF.MagneticsDriver.MagneticsDriver_Inv(inputFile)"
   ]
  },
  {
   "cell_type": "code",
   "execution_count": null,
   "metadata": {
    "collapsed": false
   },
   "outputs": [],
   "source": [
    "# We already have created a mesh, model and survey for this example.\n",
    "# All the elements are stored in the driver, and can be accessed like this:\n",
    "mesh = driver.mesh\n",
    "survey = driver.survey"
   ]
  },
  {
   "cell_type": "markdown",
   "metadata": {},
   "source": [
    "**Setup**\n",
    "\n",
    "We are using the integral form of the magnetostatic problem. In the absence of free-currents or changing magnetic field, magnetic material can give rise to a secondary magnetic field according to:\n",
    "\n",
    "$$\\vec b = \\frac{\\mu_0}{4\\pi}  \\int_{V}   \\vec M \\cdot \\nabla \\nabla \\left(\\frac{1}{r}\\right) \\; dV $$\n",
    "\n",
    "Where $\\mu_0$ is the magnetic permealitity of free-space, $\\vec M$ is the magnetization per unit volume and $r$  defines the distance between the observed field $\\vec b$ and the magnetized object. Assuming a purely induced response, the strenght of magnetization can be written as:\n",
    "\n",
    "$$ \\vec M = \\mu_0 \\kappa \\vec H_0 $$\n",
    "\n",
    "where $\\vec H$ is an external inducing magnetic field, and $\\kappa$ the magnetic susceptibility of matter.\n",
    "As derived by Sharma 1966, the integral can be evaluated for rectangular prisms such that:\n",
    "\n",
    "$$ \\vec b(P) =  \\mathbf{T} \\cdot \\vec H_0 \\; \\kappa $$\n",
    "\n",
    "Where the tensor matrix $\\bf{T}$ relates the three components of magnetization $\\vec M$ to the components of the field $\\vec b$:\n",
    "\n",
    "$$\\mathbf{T} =\n",
    "\t \\begin{pmatrix}\n",
    "       \t\tT_{xx} & T_{xy} & T_{xz}    \\\\\n",
    "\t\tT_{yx} & T_{yy} & T_{yz}    \\\\\n",
    "\t\tT_{zx} & T_{zy} & T_{zz}           \n",
    "\t\\end{pmatrix} $$\n",
    "    \n",
    "In general, we discretize the earth into a collection of cells, each contributing to the magnetic data such that:\n",
    "\n",
    "$$\\vec b(P) = \\sum_{j=1}^{nc} \\mathbf{T}_j \\cdot \\vec H_0 \\; \\kappa_j$$\n",
    "\n",
    "giving rise to a linear problem.\n"
   ]
  },
  {
   "cell_type": "code",
   "execution_count": null,
   "metadata": {
    "collapsed": false
   },
   "outputs": [],
   "source": [
    "# We did not include a topography file in this example as the information\n",
    "# about inactive cells is already captured in our starting model.\n",
    "# Line 6 of the input file specifies a VALUE to be used as inactive flag.\n",
    "\n",
    "# Get the active cells\n",
    "actv = driver.activeCells\n",
    "nC = len(actv) # Number of active cells\n",
    "ndv = -100\n",
    "\n",
    "# Create active map to return to full space after the inversion \n",
    "actvMap = Maps.InjectActiveCells(mesh, actv, ndv)\n",
    "\n",
    "# Create a reduced identity map for the inverse problem\n",
    "idenMap = Maps.IdentityMap(nP=nC)\n"
   ]
  },
  {
   "cell_type": "markdown",
   "metadata": {},
   "source": [
    "**Forward system:**\n",
    "\n",
    "Now that we have all our spatial components, we can create our linear system. For a single location and single component of the data, the system would looks like this:\n",
    "\n",
    "$$ b_x =\n",
    "\t\\begin{bmatrix}\n",
    "\tT_{xx}^1 &... &T_{xx}^{nc} & T_{xy}^1 & ... & T_{xy}^{nc} & T_{xz}^1 & ... & T_{xz}^{nc}\\\\\n",
    "\t \\end{bmatrix}\n",
    "\t \\begin{bmatrix}\n",
    "\t\t\\mathbf{M}_x \\\\ \\mathbf{M}_y \\\\ \\mathbf{M}_z\n",
    "\t\\end{bmatrix} \\\\ $$\n",
    "\n",
    "where each of $T_{xx},\\;T_{xy},\\;T_{xz}$ are [nc x 1] long. For the $y$ and $z$ component, we need the two other rows of the tensor $\\mathbf{T}$.\n",
    "In our simple induced case, the magnetization direction $\\mathbf{M_x,\\;M_y\\;,Mz}$ are known and assumed to be constant everywhere, so we can reduce the size of the system such that: \n",
    "\n",
    "$$ \\vec{\\mathbf{d}}_{\\text{pred}} = (\\mathbf{T\\cdot M})\\; \\kappa$$\n",
    "\n",
    "\n",
    "\n",
    "In most geophysical surveys, we are not collecting all three components, but rather the magnitude of the field, or $Total\\;Magnetic\\;Intensity$ (TMI) data.\n",
    "Because the inducing field is really large, we will assume that the anomalous fields are parallel to $H_0$:\n",
    "\n",
    "$$ d^{TMI}  = \\hat H_0 \\cdot \\vec d$$\n",
    "\n",
    "We then end up with a much smaller system:\n",
    "\n",
    "$$ d^{TMI} = \\mathbf{F\\; \\kappa}$$\n",
    "\n",
    "where $\\mathbf{F} \\in \\mathbb{R}^{nd \\times nc}$ is our $forward$ operator."
   ]
  },
  {
   "cell_type": "code",
   "execution_count": null,
   "metadata": {
    "collapsed": false
   },
   "outputs": [],
   "source": [
    "# Now that we have a model and a survey we can build the linear system ...\n",
    "# Create the forward model operator (the argument forwardOnly=False store the forward matrix to memory)\n",
    "prob = PF.Magnetics.MagneticIntegral(mesh, mapping=idenMap, actInd=actv, forwardOnly=False, rtype = 'tmi')\n",
    "\n",
    "# Pair the survey and problem\n",
    "survey.pair(prob)"
   ]
  },
  {
   "cell_type": "code",
   "execution_count": null,
   "metadata": {
    "collapsed": false,
    "scrolled": true
   },
   "outputs": [],
   "source": [
    "# Fist time that we ask for predicted data,\n",
    "# the dense matrix T is calculated.\n",
    "# This is generally the bottleneck of the integral formulation in terms of cost\n",
    "d = prob.fields(driver.m0)\n",
    "\n",
    "# Add noise to the data and assign uncertainties\n",
    "data = d + randn(len(d)) # We add some random Gaussian noise (1nT)\n",
    "wd = np.ones(len(data))*1. # Assign flat uncertainties\n",
    "\n",
    "survey.dobs = data\n",
    "survey.std = wd\n",
    "\n",
    "# [OPTIONAL] You can write the observations to UBC format here\n",
    "#PF.Magnetics.writeUBCobs('MAG_Synthetic_data.obs',survey,data)\n",
    "PF.Magnetics.plot_obs_2D(survey.srcField.rxList[0].locs,d=data ,varstr='Mag Obs')"
   ]
  },
  {
   "cell_type": "markdown",
   "metadata": {},
   "source": [
    "**Inverse problem**\n",
    "\n",
    "We have generated synthetic data, we now what to see if we can solve the inverse. Using the usual formulation, we seek a model that can reproduce the data, let’s say a least-squares measure of the form:\n",
    "\n",
    "\\begin{equation}\n",
    "\\phi_d =   \\|\\mathbf{W}_d \\left( \\mathbb{F}[\\mathbf{m}] - \\mathbf{d}^{obs} \\right)\\|_2^2\n",
    "\\end{equation}\n",
    "\n",
    "The inverse problem is hard because we don’t have great data coverage, and the Earth is big, and there is usually noise in the data. So we need to add something to regularize it.\n",
    "The simplest way to do it is to penalize solutions that won’t make sense geologically, for example to assume that the model is small.\n",
    "The usual smooth inversion function use an l2-norm measure:\n",
    "\n",
    "\\begin{equation}\n",
    "\\phi_d =   \\|\\mathbf{W}_d \\left( \\mathbb{F}[\\mathbf{m}] - \\mathbf{d}^{obs} \\right)\\|_2^2 \\\\\n",
    "\\phi_m = \\beta \\Big [ {\\| \\mathbf{W}_s \\;( \\mathbf{m - m^{ref}})\\|}^2_2  + \\sum_{i = x,y,z}  {\\|   \\mathbf{W}_i  \\; \\mathbf{G}_i \\; \\mathbf{m}\\|}^2_2  \\Big ]\\;,\n",
    "\\end{equation}\n",
    "\n",
    "The full objective function to be minimized can be written as:\n",
    "\\begin{equation}\n",
    "\\phi(m) =  \\phi_d + \\beta \\phi_m\\;,\n",
    "\\end{equation}\n",
    "which will yield our usual *small* and *smooth* models. \n",
    "\n",
    "We propose a fancier regularization function that can allow to recover *sparse* and *blocky* solutions.\n",
    "Starting with the well known Ekblom norm:\n",
    "\\begin{equation}\n",
    "\\phi_m =  \\sum_{i=1}^{nc} {(x_i^2 + \\epsilon^2)}^{p/2} \\;,\n",
    "\\end{equation}\n",
    "where $x_i$ denotes some function of the model parameter, and $\\epsilon$ is a small value to avoid singularity as $m\\rightarrow0$.\n",
    "For p=2, we get the usual least-squares measure and we recover the regularization presented above. For $p \\leq 1$, the function becomes non-linear which requires some tweaking.\n",
    "\n",
    "We can linearize the function by updating the penality function iteratively, commonly known as an Iterative Re-weighted Least-Squares (IRLS) method:\n",
    "\\begin{equation} \n",
    "\\phi_m^{(k)} =  \\frac{1}{2}\\sum_{i=1}^{nc} r_i \\; x_i^2\n",
    "\\end{equation}\n",
    "where we added the superscript $\\square^{(k)}$ to denote the IRLS iterations. The weights $r(x)$ are computed from model values obtained at a previous iteration such that:\n",
    "\\begin{equation}\n",
    "\t{r}_i  ={\\Big( {({x_i}^{(k-1)})}^{2} + \\epsilon^2 \\Big)}^{p/2 - 1} \\;,\n",
    "\\end{equation}\n",
    "where ${r}(x) \\in \\mathbb{R}^{nc}$.\n",
    "\n",
    "In matrix form, our objective function simply becomes:\n",
    "\\begin{equation}\n",
    "\\phi(m) =   \\|\\mathbf{W}_d \\left( \\mathbb{F}[\\mathbf{m}] - \\mathbf{d}^{obs} \\right)\\|_2^2 + \\beta \\Big [ {\\| \\mathbf{W}_s \\;\\mathbf{R}_s\\;( \\mathbf{m - m^{ref}})\\|}^2_2  + \\sum_{i = x,y,z}  {\\|   \\mathbf{W}_i\\; \\mathbf{R}_i  \\; \\mathbf{G}_i \\; \\mathbf{m}\\|}^2_2  \\Big ]\\;,\n",
    "\\end{equation}\n",
    "where the IRLS weights $\\mathbf{R}_s$ and $\\mathbf{R}_i$ are diagonal matrices defined as:\n",
    "\\begin{equation}\n",
    "\\begin{split}\n",
    "\t{R}_{s_{jj}}  &=  \\sqrt{\\eta_p}{\\Big[ {({m_j}^{(k-1)})}^{2} + \\epsilon_p^2 \\Big]}^{(p/2 - 1)/2} \\\\\n",
    "\t{R}_{i_{jj}}  &=  \\sqrt{\\eta_q}{\\Big[ {\\left ({{(G_i\\;m^{(k-1)})}_j }\\right)}^{2} + \\epsilon_q^2 \\Big]}^{(q/2 - 1)/2} \\\\\n",
    "\\eta_p &=  {\\epsilon_p}^{(1-p/2)} \\\\\n",
    "\\eta_q &=   {\\epsilon_q}^{(1-q/2)}  \\;, \n",
    "\\end{split}\n",
    "\\end{equation}\n",
    "\n",
    "we added two scaling parameters $\\eta_p$ and $\\eta_q$ for reasons that we won't dicuss here, but turn out to be important to get stable solves.\n",
    "\n",
    "In order to initialize the IRLS and get an estimate for the stabilizing parameters $\\epsilon_p$ and $\\epsilon_q$, we first invert with the smooth $l_2$-norm. \n",
    "The whole IRLS process is implemented with a directive added to the inversion workflow (see below).\n"
   ]
  },
  {
   "cell_type": "code",
   "execution_count": null,
   "metadata": {
    "collapsed": false
   },
   "outputs": [],
   "source": [
    "# It is potential fields, so we will need to push the inverison down\n",
    "# Create distance weights from our linera forward operator\n",
    "wr = np.sum(prob.G**2.,axis=0)**0.5\n",
    "wr = ( wr/np.max(wr) )\n",
    "    \n",
    "reg = Regularization.Sparse(mesh, indActive=actv, mapping=idenMap)\n",
    "reg.cell_weights = wr\n",
    "\n",
    "dmis = DataMisfit.l2_DataMisfit(survey)\n",
    "dmis.Wd = 1/wd\n",
    "\n",
    "# Add directives to the inversion\n",
    "opt = Optimization.ProjectedGNCG(maxIter=100 ,lower=0.,upper=1., maxIterLS = 20, maxIterCG= 10, tolCG = 1e-3)\n",
    "invProb = InvProblem.BaseInvProblem(dmis, reg, opt)\n",
    "betaest = Directives.BetaEstimate_ByEig()\n",
    "\n",
    "# Here is where the norms are applied\n",
    "# Use pick a treshold parameter empirically based on the distribution of model\n",
    "# parameters (run last cell to see the histogram before and after IRLS)\n",
    "IRLS = Directives.Update_IRLS( norms=driver.lpnorms,  eps=[3e-4,3e-4], f_min_change = 1e-4, minGNiter=3)\n",
    "update_Jacobi = Directives.Update_lin_PreCond()\n",
    "inv = Inversion.BaseInversion(invProb, directiveList=[IRLS,betaest,update_Jacobi])\n",
    "\n",
    "m0 = np.ones(idenMap.nP)*1e-4\n"
   ]
  },
  {
   "cell_type": "code",
   "execution_count": null,
   "metadata": {
    "collapsed": false
   },
   "outputs": [],
   "source": [
    "# Run inversion...\n",
    "mrec = inv.run(m0)"
   ]
  },
  {
   "cell_type": "code",
   "execution_count": null,
   "metadata": {
    "collapsed": false
   },
   "outputs": [],
   "source": [
    "# Get the final model back to full space and plot!!\n",
    "m_lp = actvMap*mrec\n",
    "m_lp[m_lp==ndv] = np.nan\n",
    "\n",
    "# Get the smooth model aslo\n",
    "m_l2 = actvMap*reg.l2model\n",
    "m_l2[m_l2==ndv] = np.nan\n",
    "\n",
    "m_true = actvMap*driver.m0\n",
    "m_true[m_true==ndv] = np.nan\n",
    "#[OPTIONAL] Save both models to file\n",
    "#Mesh.TensorMesh.writeModelUBC(mesh,'SimPEG_MAG_l2l2.sus',m_l2)\n",
    "#Mesh.TensorMesh.writeModelUBC(mesh,'SimPEG_MAG_lplq.sus',m_lp)\n",
    "\n",
    "# Plot the recoverd models \n",
    "vmin, vmax = 0., 0.015\n",
    "\n",
    "mesh = Mesh.TensorMesh([mesh.hx, mesh.hy, mesh.hz],x0=\"CCN\")\n",
    "\n",
    "def slide(s,normal):\n",
    "    \n",
    "    if normal == \"Z\":\n",
    "        fig = plt.figure(figsize(10*1.2, 8))\n",
    "    else:\n",
    "        fig = plt.figure(figsize(10*1.2, 4))\n",
    "        \n",
    "    ax1 = plt.subplot(2,2,3)\n",
    "    dat = mesh.plotSlice(m_lp, ax = ax1, normal=normal, ind=s, clim=np.r_[vmin, vmax],pcolorOpts={'cmap':'viridis'})\n",
    "#     plt.colorbar(dat[0])\n",
    "    plt.gca().set_aspect('equal')\n",
    "    plt.title('Compact model')\n",
    "    \n",
    "    if normal == \"Z\":\n",
    "        xlim(-600, 600)\n",
    "        ylim(-600, 600.)    \n",
    "    else:\n",
    "        xlim(-600, 600)\n",
    "        ylim(-500, 0.) \n",
    "        \n",
    "    ax2 = plt.subplot(2,2,1)\n",
    "    dat = mesh.plotSlice(m_l2, ax = ax2, normal=normal, ind=s, clim=np.r_[vmin, vmax],pcolorOpts={'cmap':'viridis'})\n",
    "#     plt.colorbar(dat[0])\n",
    "    plt.gca().set_aspect('equal')\n",
    "    plt.title('Smooth model')\n",
    "    \n",
    "    if normal == \"Z\":\n",
    "        xlim(-600, 600)\n",
    "        ylim(-600, 600.)    \n",
    "    else:\n",
    "        xlim(-600, 600)\n",
    "        ylim(-500, 0.) \n",
    "        \n",
    "    ax2.set_xticklabels([])\n",
    "        \n",
    "    ax2 = plt.subplot(1,2,2)\n",
    "    dat = mesh.plotSlice(m_true, ax = ax2, normal=normal, ind=s, clim=np.r_[vmin, vmax],pcolorOpts={'cmap':'viridis'})\n",
    "#     plt.colorbar(dat[0])\n",
    "    plt.gca().set_aspect('equal')\n",
    "    plt.title('True model')\n",
    "    \n",
    "    pos =  ax2.get_position()\n",
    "\n",
    "    ax2.yaxis.set_visible(False)\n",
    "    if normal == \"Z\":\n",
    "        xlim(-600, 600)\n",
    "        ylim(-600, 600.) \n",
    "        ax2.set_position([pos.x0 -0.04 , pos.y0,  pos.width, pos.height])\n",
    "    else:\n",
    "        xlim(-600, 600)\n",
    "        ylim(-500, 0.) \n",
    "\n",
    "    pos =  ax2.get_position()\n",
    "    cbarax = fig.add_axes([pos.x0 + 0.375 , pos.y0 + 0.05,  pos.width*0.1, pos.height*0.75])  ## the parameters are the specified position you set\n",
    "    cb = fig.colorbar(dat[0],cax=cbarax, orientation=\"vertical\", ax = ax2, ticks=np.linspace(vmin,vmax, 4))\n",
    "    cb.set_label(\"Susceptibility (SI)\",size=12)\n",
    "    \n",
    "    #{OPTIONAL} Save the figure to png\n",
    "    #fig.savefig('PF_Compact.png',dpi = 150)\n",
    "    \n",
    "interact(slide, s=(0,34), normal=['Y','Z','X'])\n",
    "\n",
    "# interact(lambda ind: viz(m_l2, ind, normal=\"Z\"), ind=IntSlider(min=0, max=32,step=1, value=28))\n"
   ]
  },
  {
   "cell_type": "code",
   "execution_count": null,
   "metadata": {
    "collapsed": false
   },
   "outputs": [],
   "source": [
    "# Lets compare the distribution of model parameters and model gradients\n",
    "plt.figure(figsize=[15,5])\n",
    "ax = plt.subplot(121)\n",
    "plt.hist(reg.l2model,100)\n",
    "plt.plot((reg.eps_p,reg.eps_p),(0,mesh.nC),'r--')\n",
    "plt.yscale('log', nonposy='clip')\n",
    "plt.title('Hist model - l2-norm')\n",
    "plt.legend(['$\\epsilon_p$'])\n",
    "\n",
    "ax = plt.subplot(122)\n",
    "plt.hist(reg.regmesh.cellDiffxStencil*reg.l2model,100)\n",
    "plt.plot((reg.eps_q,reg.eps_q),(0,mesh.nC),'r--')\n",
    "plt.yscale('log', nonposy='clip')\n",
    "plt.title('Hist model gradient - l2-norm')\n",
    "plt.legend(['$\\epsilon_q$'])\n",
    "\n",
    "# Lets look at the distribution of model parameters and model gradients\n",
    "plt.figure(figsize=[15,5])\n",
    "ax = plt.subplot(121)\n",
    "plt.hist(mrec,100)\n",
    "plt.plot((reg.eps_p,reg.eps_p),(0,mesh.nC),'r--')\n",
    "plt.yscale('log', nonposy='clip')\n",
    "plt.title('Hist model - lp-norm')\n",
    "plt.legend(['$\\epsilon_p$'])\n",
    "\n",
    "ax = plt.subplot(122)\n",
    "plt.hist(reg.regmesh.cellDiffxStencil*mrec,100)\n",
    "plt.plot((reg.eps_q,reg.eps_q),(0,mesh.nC),'r--')\n",
    "plt.yscale('log', nonposy='clip')\n",
    "plt.title('Hist model gradient - lp-norm')\n",
    "plt.legend(['$\\epsilon_q$'])"
   ]
  },
  {
   "cell_type": "code",
   "execution_count": null,
   "metadata": {
    "collapsed": true
   },
   "outputs": [],
   "source": []
  }
 ],
 "metadata": {
  "kernelspec": {
   "display_name": "Python 2",
   "language": "python",
   "name": "python2"
  },
  "language_info": {
   "codemirror_mode": {
    "name": "ipython",
    "version": 2
   },
   "file_extension": ".py",
   "mimetype": "text/x-python",
   "name": "python",
   "nbconvert_exporter": "python",
   "pygments_lexer": "ipython2",
   "version": "2.7.12"
  }
 },
 "nbformat": 4,
 "nbformat_minor": 0
}
