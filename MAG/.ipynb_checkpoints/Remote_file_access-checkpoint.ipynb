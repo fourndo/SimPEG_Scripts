{
 "cells": [
  {
   "cell_type": "code",
   "execution_count": 5,
   "metadata": {
    "collapsed": true
   },
   "outputs": [],
   "source": [
    "import urllib\n",
    "import shutil\n",
    "import os\n",
    "\n",
    "url='https://storage.googleapis.com/simpeg/tkc_synthetic/potential_fields/'\n",
    "# cloudfiles = ['GravData.obs','Gaussian.topo','Mesh_10m.msh','ModelStart.sus','Obs_loc_TMI.obs','PYMAG3D_inv.inp']\n",
    "cloudfiles = ['GravData.obs']\n",
    "\n",
    "basePath = os.curdir+os.path.sep+'SimPEGtemp'+os.path.sep\n",
    "    \n",
    "if os.path.exists(basePath):\n",
    "    shutil.rmtree(basePath)\n",
    "    \n",
    "os.makedirs(basePath)\n",
    "\n",
    "for files in cloudfiles:\n",
    "              \n",
    "    data = urllib.urlopen(url + files).read()\n",
    "    out_file = open(basePath+files, 'wb')\n",
    "    out_file.write(data)\n",
    "    out_file.close()"
   ]
  },
  {
   "cell_type": "code",
   "execution_count": 6,
   "metadata": {
    "collapsed": false
   },
   "outputs": [
    {
     "name": "stdout",
     "output_type": "stream",
     "text": [
      "X-GUploader-UploadID: AEnB2UpCApOA8fljjE5Tqb5th6j1fWVRF6cIcHew1z28KIAU1_U-H9ocE2V5LNmY9ybWgNZbnsZsrG-Hpi17VvbobhTgiAvyL54ELXtevHg2fbDGC6ZBF_c\r\n",
      "Expires: Wed, 10 Aug 2016 23:32:26 GMT\r\n",
      "Date: Wed, 10 Aug 2016 22:32:26 GMT\r\n",
      "Last-Modified: Wed, 10 Aug 2016 16:07:12 GMT\r\n",
      "ETag: \"0bdf793c7c998a9b554e8c0cb3cf4c71\"\r\n",
      "x-goog-generation: 1470845232082000\r\n",
      "x-goog-metageneration: 2\r\n",
      "x-goog-stored-content-encoding: identity\r\n",
      "x-goog-stored-content-length: 11158\r\n",
      "Content-Type: binary/octet-stream\r\n",
      "x-goog-hash: crc32c=TK0Qyw==\r\n",
      "x-goog-hash: md5=C995PHyZiptVTowMs89McQ==\r\n",
      "x-goog-storage-class: STANDARD\r\n",
      "Accept-Ranges: bytes\r\n",
      "Content-Length: 11158\r\n",
      "Server: UploadServer\r\n",
      "Cache-Control: public, max-age=3600\r\n",
      "Age: 1409\r\n",
      "Alternate-Protocol: 443:quic\r\n",
      "Alt-Svc: quic=\":443\"; ma=2592000; v=\"36,35,34,33,32,31,30\"\r\n",
      " GravData.obs\n"
     ]
    }
   ],
   "source": [
    "aa = urllib.urlopen(url + files)\n",
    "print aa.headers, files"
   ]
  },
  {
   "cell_type": "code",
   "execution_count": null,
   "metadata": {
    "collapsed": true
   },
   "outputs": [],
   "source": []
  }
 ],
 "metadata": {
  "kernelspec": {
   "display_name": "Python 2",
   "language": "python",
   "name": "python2"
  },
  "language_info": {
   "codemirror_mode": {
    "name": "ipython",
    "version": 2
   },
   "file_extension": ".py",
   "mimetype": "text/x-python",
   "name": "python",
   "nbconvert_exporter": "python",
   "pygments_lexer": "ipython2",
   "version": "2.7.12"
  }
 },
 "nbformat": 4,
 "nbformat_minor": 0
}
