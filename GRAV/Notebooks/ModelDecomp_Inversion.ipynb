{
 "cells": [
  {
   "cell_type": "code",
   "execution_count": 1,
   "metadata": {},
   "outputs": [
    {
     "ename": "ModuleNotFoundError",
     "evalue": "No module named 'SimPEG'",
     "output_type": "error",
     "traceback": [
      "\u001b[1;31m---------------------------------------------------------------------------\u001b[0m",
      "\u001b[1;31mModuleNotFoundError\u001b[0m                       Traceback (most recent call last)",
      "\u001b[1;32m<ipython-input-1-21097ffcbdbd>\u001b[0m in \u001b[0;36m<module>\u001b[1;34m()\u001b[0m\n\u001b[1;32m----> 1\u001b[1;33m \u001b[1;32mfrom\u001b[0m \u001b[0mSimPEG\u001b[0m \u001b[1;32mimport\u001b[0m \u001b[0mMesh\u001b[0m\u001b[1;33m,\u001b[0m \u001b[0mDirectives\u001b[0m\u001b[1;33m,\u001b[0m \u001b[0mMaps\u001b[0m\u001b[1;33m,\u001b[0m \u001b[0mInvProblem\u001b[0m\u001b[1;33m,\u001b[0m \u001b[0mOptimization\u001b[0m\u001b[1;33m,\u001b[0m \u001b[0mUtils\u001b[0m\u001b[1;33m\u001b[0m\u001b[0m\n\u001b[0m\u001b[0;32m      2\u001b[0m \u001b[1;32mfrom\u001b[0m \u001b[0mSimPEG\u001b[0m \u001b[1;32mimport\u001b[0m \u001b[0mDataMisfit\u001b[0m\u001b[1;33m,\u001b[0m \u001b[0mInversion\u001b[0m\u001b[1;33m,\u001b[0m \u001b[0mRegularization\u001b[0m\u001b[1;33m\u001b[0m\u001b[0m\n\u001b[0;32m      3\u001b[0m \u001b[1;32mimport\u001b[0m \u001b[0mSimPEG\u001b[0m\u001b[1;33m.\u001b[0m\u001b[0mPF\u001b[0m \u001b[1;32mas\u001b[0m \u001b[0mPF\u001b[0m\u001b[1;33m\u001b[0m\u001b[0m\n\u001b[0;32m      4\u001b[0m \u001b[1;32mimport\u001b[0m \u001b[0mpylab\u001b[0m \u001b[1;32mas\u001b[0m \u001b[0mplt\u001b[0m\u001b[1;33m\u001b[0m\u001b[0m\n\u001b[0;32m      5\u001b[0m \u001b[1;32mimport\u001b[0m \u001b[0mos\u001b[0m\u001b[1;33m\u001b[0m\u001b[0m\n",
      "\u001b[1;31mModuleNotFoundError\u001b[0m: No module named 'SimPEG'"
     ]
    }
   ],
   "source": [
    "from SimPEG import Mesh, Directives, Maps, InvProblem, Optimization, Utils\n",
    "from SimPEG import DataMisfit, Inversion, Regularization\n",
    "import SimPEG.PF as PF\n",
    "import pylab as plt\n",
    "import os\n",
    "import numpy as np"
   ]
  },
  {
   "cell_type": "code",
   "execution_count": null,
   "metadata": {},
   "outputs": [],
   "source": []
  }
 ],
 "metadata": {
  "kernelspec": {
   "display_name": "Python 3",
   "language": "python",
   "name": "python3"
  },
  "language_info": {
   "codemirror_mode": {
    "name": "ipython",
    "version": 3
   },
   "file_extension": ".py",
   "mimetype": "text/x-python",
   "name": "python",
   "nbconvert_exporter": "python",
   "pygments_lexer": "ipython3",
   "version": "3.7.0"
  }
 },
 "nbformat": 4,
 "nbformat_minor": 2
}
