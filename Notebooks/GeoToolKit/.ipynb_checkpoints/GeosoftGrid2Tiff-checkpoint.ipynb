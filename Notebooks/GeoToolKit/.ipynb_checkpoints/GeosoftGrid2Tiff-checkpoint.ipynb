{
 "cells": [
  {
   "cell_type": "code",
   "execution_count": 1,
   "metadata": {},
   "outputs": [],
   "source": [
    "from library.Mag import Mag, ProblemSetter, MathUtils, Simulator, DataIO"
   ]
  },
  {
   "cell_type": "code",
   "execution_count": 2,
   "metadata": {},
   "outputs": [],
   "source": [
    "# Load data in grid format\n",
    "workDir = '../assets/Search/' \n",
    "fName = 'MAG_UTM09.grd'\n",
    "\n",
    "dataGrid = DataIO.loadGRDFile(workDir + fName, plotIt=False)\n",
    "\n"
   ]
  },
  {
   "cell_type": "code",
   "execution_count": 8,
   "metadata": {},
   "outputs": [
    {
     "name": "stdout",
     "output_type": "stream",
     "text": [
      "571025.0 50.01020408163265 0 6152775.0 0 -50.0092013249908\n",
      "Image saved as: ../assets/Search/MAG_UTM09.tiff Click box again to continue...\n"
     ]
    }
   ],
   "source": [
    "EPSGCode=26909\n",
    "DataIO.arrayToRaster(dataGrid.values, workDir+'MAG_UTM09.tiff', EPSGCode, dataGrid.limits[0], dataGrid.limits[1], dataGrid.limits[2], dataGrid.limits[3], 1, dataType='data')\n",
    "\n",
    "    "
   ]
  },
  {
   "cell_type": "code",
   "execution_count": 10,
   "metadata": {},
   "outputs": [
    {
     "data": {
      "application/vnd.jupyter.widget-view+json": {
       "model_id": "6c5455896f0d4b64a2e1d36d0833678b",
       "version_major": 2,
       "version_minor": 0
      },
      "text/plain": [
       "interactive(children=(FloatSlider(value=693525.0, continuous_update=False, description='East', max=938525.0, m…"
      ]
     },
     "metadata": {},
     "output_type": "display_data"
    }
   ],
   "source": [
    "dataGrid = DataIO.loadGeoTiffFile(workDir+'MAG_UTM09.tiff', plotIt=False)\n",
    "param = Simulator.ViewMagSurveyWidget(dataGrid)\n",
    "display(param)"
   ]
  },
  {
   "cell_type": "code",
   "execution_count": null,
   "metadata": {},
   "outputs": [],
   "source": []
  }
 ],
 "metadata": {
  "kernelspec": {
   "display_name": "Python 3",
   "language": "python",
   "name": "python3"
  },
  "language_info": {
   "codemirror_mode": {
    "name": "ipython",
    "version": 3
   },
   "file_extension": ".py",
   "mimetype": "text/x-python",
   "name": "python",
   "nbconvert_exporter": "python",
   "pygments_lexer": "ipython3",
   "version": "3.6.5"
  }
 },
 "nbformat": 4,
 "nbformat_minor": 2
}
