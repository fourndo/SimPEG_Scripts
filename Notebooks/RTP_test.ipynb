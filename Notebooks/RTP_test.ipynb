{
 "cells": [
  {
   "cell_type": "code",
   "execution_count": 1,
   "metadata": {},
   "outputs": [],
   "source": [
    "from GeoToolkit.Mag import Mag, ProblemSetter, MathUtils, Simulator, DataIO\n",
    "import numpy as np\n",
    "import matplotlib.pyplot as plt"
   ]
  },
  {
   "cell_type": "code",
   "execution_count": 2,
   "metadata": {},
   "outputs": [],
   "source": [
    "# Create a grid of locations\n",
    "X, Y = np.meshgrid(np.linspace(-15, 15, 41),np.linspace(-15, 15, 41))\n",
    "Z = np.ones_like(X) * 5\n",
    "\n",
    "survey, mesh, model = ProblemSetter.setSyntheticProblem(np.c_[X.flatten(), Y.flatten(), Z.flatten()], EarthField=[50000, 90, 0])"
   ]
  },
  {
   "cell_type": "code",
   "execution_count": 5,
   "metadata": {},
   "outputs": [],
   "source": [
    "inc, dec = 45, 0\n",
    "\n",
    "survey = Mag.createMagSurvey(np.c_[X.flatten(), Y.flatten(), Z.flatten()], EarthField=[50000, inc, dec])\n",
    "prism = Simulator.definePrism()\n",
    "prob = Mag.Problem(prism=prism, survey=survey)\n",
    "\n",
    "survey._dobs=prob.fields()[0]\n",
    "\n",
    "grid = DataIO.dataGrid()\n",
    "\n",
    "grid._values = survey.dobs.reshape(X.shape)\n",
    "grid.nx, grid.ny = grid.values.shape[1], grid.values.shape[0]\n",
    "\n",
    "grid.dx = (X.max() - X.min()) / (grid.values.shape[1] - 1)\n",
    "grid.dy = (Y.max() - Y.min()) / (grid.values.shape[0] - 1)\n",
    "\n",
    "grid.x0, grid.y0 = X.min()-grid.dx/2., Y.min()-grid.dy/2.\n",
    "\n",
    "grid.limits = np.r_[grid.x0, grid.x0+grid.nx*grid.dx, grid.y0, grid.y0+grid.ny*grid.dy]\n",
    "        \n",
    "grid.inc, grid.dec = inc, dec\n",
    "\n",
    "grid.setRTP(True)"
   ]
  },
  {
   "cell_type": "code",
   "execution_count": 6,
   "metadata": {},
   "outputs": [
    {
     "data": {
      "image/png": "[encoded data removed]",
      "text/plain": [
       "<Figure size 864x432 with 2 Axes>"
      ]
     },
     "metadata": {
      "needs_background": "light"
     },
     "output_type": "display_data"
    }
   ],
   "source": [
    "fig = plt.figure(figsize=(12,6))\n",
    "\n",
    "axs = plt.subplot(1,2,1)\n",
    "out = Simulator.plotDataHillside(\n",
    "        grid.hx, grid.hy, survey.dobs.reshape(X.shape), axs=axs, alpha=1, alphaHS=0, equalizeHist=True, cmap=\"Spectral_r\")\n",
    "\n",
    "axs.set_aspect('equal')\n",
    "\n",
    "axs = plt.subplot(1,2,2)\n",
    "out = Simulator.plotDataHillside(\n",
    "        grid.hx, grid.hy, grid.values, axs=axs, alpha=1, alphaHS=0, equalizeHist=True, cmap=\"Spectral_r\")\n",
    "\n",
    "axs.set_aspect('equal')\n"
   ]
  },
  {
   "cell_type": "code",
   "execution_count": null,
   "metadata": {},
   "outputs": [],
   "source": []
  }
 ],
 "metadata": {
  "kernelspec": {
   "display_name": "Python 3",
   "language": "python",
   "name": "python3"
  },
  "language_info": {
   "codemirror_mode": {
    "name": "ipython",
    "version": 3
   },
   "file_extension": ".py",
   "mimetype": "text/x-python",
   "name": "python",
   "nbconvert_exporter": "python",
   "pygments_lexer": "ipython3",
   "version": "3.7.3"
  }
 },
 "nbformat": 4,
 "nbformat_minor": 2
}
