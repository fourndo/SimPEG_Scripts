{
 "cells": [
  {
   "cell_type": "code",
   "execution_count": 1,
   "metadata": {},
   "outputs": [],
   "source": [
    "import numpy as np\n",
    "import scipy as sp\n",
    "import unittest\n",
    "from SimPEG import Mesh, Maps, Models, Utils\n",
    "import inspect\n",
    "import matplotlib.pyplot as plt\n",
    "from SimPEG.Utils import mkvc\n",
    "from ipywidgets import interact, interactive, fixed, interact_manual\n",
    "import ipywidgets as widgets\n",
    "\n"
   ]
  },
  {
   "cell_type": "code",
   "execution_count": 99,
   "metadata": {
    "scrolled": true
   },
   "outputs": [
    {
     "name": "stdout",
     "output_type": "stream",
     "text": [
      "[2 4 1 5 -1 7]\n"
     ]
    },
    {
     "data": {
      "text/plain": [
       "(<matplotlib.cm.ScalarMappable at 0x260ec699be0>,)"
      ]
     },
     "execution_count": 99,
     "metadata": {},
     "output_type": "execute_result"
    },
    {
     "data": {
      "image/png": "[encoded data removed]",
      "text/plain": [
       "<Figure size 432x288 with 1 Axes>"
      ]
     },
     "metadata": {
      "needs_background": "light"
     },
     "output_type": "display_data"
    }
   ],
   "source": [
    "mesh_L = Mesh.TreeMesh([16, 16, 16])\n",
    "mesh_L.refine(3, finalize=False)\n",
    "mesh_L.insert_cells(np.c_[0.2,0.2,0.1], 4, finalize=True)\n",
    "\n",
    "mesh_G = Mesh.TreeMesh([16, 16, 16])\n",
    "mesh_G.refine(3, finalize=True)\n",
    "\n",
    "actv_b = np.ones(mesh_G.nC, dtype='bool')\n",
    "actv_b[mesh_G.gridCC[:,2]>0.5] = False\n",
    "\n",
    "actvIndGlobal = np.where(actv_b)[0].tolist()\n",
    "\n",
    "indL = mesh_L._get_containing_cell_indexes(mesh_G.gridCC)\n",
    "\n",
    "full = np.c_[indL, np.arange(mesh_G.nC)]\n",
    "# Create new index based on unique active\n",
    "# [ua, ind] = np.unique(indL, return_index=True)\n",
    "\n",
    "check = np.where(mesh_L.vol[indL] < mesh_G.vol)[0].tolist()\n",
    "\n",
    "# Reverse inside global to local\n",
    "indG = mesh_G._get_containing_cell_indexes(mesh_L.gridCC)\n",
    "\n",
    "model = np.zeros(mesh_L.nC)\n",
    "\n",
    "# model[ua] = 1\n",
    "# ind = 1\n",
    "# model[ind] = 1\n",
    "\n",
    "print(mesh_L[ind].neighbors)\n",
    "# append index\n",
    "rows = []\n",
    "for ind in check:\n",
    "\n",
    "    if ind in actvInd:\n",
    "        indAdd = np.where(ind == indG)[0]\n",
    "        rows += [np.c_[indAdd, np.ones_like(indAdd)*ind]]\n",
    "        model[indAdd] = 0.5\n",
    "    \n",
    "# indL = indL[actv]\n",
    "full = np.r_[full[actvIndGlobal,:], np.vstack(rows)]\n",
    "\n",
    "model[full[:,0]]=0.5\n",
    "\n",
    "actvIndLocal = np.unique(full[:,0])\n",
    "\n",
    "full = np.c_[np.searchsorted(actvIndLocal, full[:, 0]), np.searchsorted(actvIndGlobal, full[:, 1])]\n",
    "mesh_L.plotSlice(model, ind=2, normal='Y', grid=True)"
   ]
  },
  {
   "cell_type": "code",
   "execution_count": 100,
   "metadata": {},
   "outputs": [
    {
     "data": {
      "text/plain": [
       "array([[  0,   0],\n",
       "       [  1,   1],\n",
       "       [  2,   2],\n",
       "       [  3,   3],\n",
       "       [ 11,   4],\n",
       "       [ 12,   5],\n",
       "       [ 13,   6],\n",
       "       [ 14,   7],\n",
       "       [ 15,   8],\n",
       "       [ 16,   9],\n",
       "       [ 17,  10],\n",
       "       [ 18,  11],\n",
       "       [ 19,  12],\n",
       "       [ 20,  13],\n",
       "       [ 21,  14],\n",
       "       [ 22,  15],\n",
       "       [ 23,  16],\n",
       "       [ 24,  17],\n",
       "       [ 25,  18],\n",
       "       [ 26,  19],\n",
       "       [ 27,  20],\n",
       "       [ 28,  21],\n",
       "       [ 29,  22],\n",
       "       [ 30,  23],\n",
       "       [ 31,  24],\n",
       "       [ 32,  25],\n",
       "       [ 33,  26],\n",
       "       [ 34,  27],\n",
       "       [ 35,  28],\n",
       "       [ 36,  29],\n",
       "       [ 37,  30],\n",
       "       [ 38,  31],\n",
       "       [ 39,  32],\n",
       "       [ 40,  33],\n",
       "       [ 41,  34],\n",
       "       [ 42,  35],\n",
       "       [ 43,  36],\n",
       "       [ 44,  37],\n",
       "       [ 45,  38],\n",
       "       [ 46,  39],\n",
       "       [ 47,  40],\n",
       "       [ 48,  41],\n",
       "       [ 49,  42],\n",
       "       [ 50,  43],\n",
       "       [ 51,  44],\n",
       "       [ 52,  45],\n",
       "       [ 53,  46],\n",
       "       [ 54,  47],\n",
       "       [ 55,  48],\n",
       "       [ 56,  49],\n",
       "       [ 57,  50],\n",
       "       [ 58,  51],\n",
       "       [ 59,  52],\n",
       "       [ 60,  53],\n",
       "       [ 61,  54],\n",
       "       [ 62,  55],\n",
       "       [ 63,  56],\n",
       "       [ 64,  57],\n",
       "       [ 65,  58],\n",
       "       [ 66,  59],\n",
       "       [ 67,  60],\n",
       "       [ 68,  61],\n",
       "       [ 69,  62],\n",
       "       [ 70,  63],\n",
       "       [ 71,  64],\n",
       "       [ 72,  65],\n",
       "       [ 73,  66],\n",
       "       [ 74,  67],\n",
       "       [ 75,  68],\n",
       "       [ 76,  69],\n",
       "       [ 77,  70],\n",
       "       [ 78,  71],\n",
       "       [ 79,  72],\n",
       "       [ 80,  73],\n",
       "       [ 81,  74],\n",
       "       [ 82,  75],\n",
       "       [ 83,  76],\n",
       "       [ 84,  77],\n",
       "       [ 85,  78],\n",
       "       [ 86,  79],\n",
       "       [ 87,  80],\n",
       "       [ 88,  81],\n",
       "       [ 89,  82],\n",
       "       [ 90,  83],\n",
       "       [ 91,  84],\n",
       "       [ 92,  85],\n",
       "       [ 93,  86],\n",
       "       [ 94,  87],\n",
       "       [ 95,  88],\n",
       "       [ 96,  89],\n",
       "       [ 97,  90],\n",
       "       [ 98,  91],\n",
       "       [ 99,  92],\n",
       "       [100,  93],\n",
       "       [101,  94],\n",
       "       [102,  95],\n",
       "       [103,  96],\n",
       "       [104,  97],\n",
       "       [105,  98],\n",
       "       [106,  99],\n",
       "       [107, 100],\n",
       "       [108, 101],\n",
       "       [109, 102],\n",
       "       [110, 103],\n",
       "       [111, 104],\n",
       "       [112, 105],\n",
       "       [113, 106],\n",
       "       [114, 107],\n",
       "       [115, 108],\n",
       "       [116, 109],\n",
       "       [117, 110],\n",
       "       [118, 111],\n",
       "       [119, 112],\n",
       "       [120, 113],\n",
       "       [121, 114],\n",
       "       [122, 115],\n",
       "       [123, 116],\n",
       "       [124, 117],\n",
       "       [125, 118],\n",
       "       [126, 119],\n",
       "       [127, 120],\n",
       "       [128, 121],\n",
       "       [129, 122],\n",
       "       [130, 123],\n",
       "       [131, 124],\n",
       "       [132, 125],\n",
       "       [133, 126],\n",
       "       [134, 127],\n",
       "       [135, 128],\n",
       "       [136, 129],\n",
       "       [137, 130],\n",
       "       [138, 131],\n",
       "       [139, 132],\n",
       "       [140, 133],\n",
       "       [141, 134],\n",
       "       [142, 135],\n",
       "       [143, 136],\n",
       "       [144, 137],\n",
       "       [145, 138],\n",
       "       [146, 139],\n",
       "       [147, 140],\n",
       "       [148, 141],\n",
       "       [149, 142],\n",
       "       [150, 143],\n",
       "       [151, 144],\n",
       "       [152, 145],\n",
       "       [153, 146],\n",
       "       [154, 147],\n",
       "       [155, 148],\n",
       "       [156, 149],\n",
       "       [157, 150],\n",
       "       [158, 151],\n",
       "       [159, 152],\n",
       "       [160, 153],\n",
       "       [161, 154],\n",
       "       [162, 155],\n",
       "       [163, 156],\n",
       "       [164, 157],\n",
       "       [165, 158],\n",
       "       [166, 159],\n",
       "       [167, 160],\n",
       "       [168, 161],\n",
       "       [169, 162],\n",
       "       [170, 163],\n",
       "       [171, 164],\n",
       "       [172, 165],\n",
       "       [173, 166],\n",
       "       [174, 167],\n",
       "       [175, 168],\n",
       "       [176, 169],\n",
       "       [177, 170],\n",
       "       [178, 171],\n",
       "       [179, 172],\n",
       "       [180, 173],\n",
       "       [181, 174],\n",
       "       [182, 175],\n",
       "       [183, 176],\n",
       "       [184, 177],\n",
       "       [185, 178],\n",
       "       [186, 179],\n",
       "       [187, 180],\n",
       "       [188, 181],\n",
       "       [189, 182],\n",
       "       [190, 183],\n",
       "       [191, 184],\n",
       "       [192, 185],\n",
       "       [193, 186],\n",
       "       [194, 187],\n",
       "       [195, 188],\n",
       "       [196, 189],\n",
       "       [197, 190],\n",
       "       [198, 191],\n",
       "       [199, 192],\n",
       "       [200, 193],\n",
       "       [201, 194],\n",
       "       [202, 195],\n",
       "       [203, 196],\n",
       "       [204, 197],\n",
       "       [205, 198],\n",
       "       [206, 199],\n",
       "       [207, 200],\n",
       "       [208, 201],\n",
       "       [209, 202],\n",
       "       [210, 203],\n",
       "       [211, 204],\n",
       "       [212, 205],\n",
       "       [213, 206],\n",
       "       [214, 207],\n",
       "       [215, 208],\n",
       "       [216, 209],\n",
       "       [217, 210],\n",
       "       [218, 211],\n",
       "       [219, 212],\n",
       "       [220, 213],\n",
       "       [221, 214],\n",
       "       [222, 215],\n",
       "       [223, 216],\n",
       "       [224, 217],\n",
       "       [225, 218],\n",
       "       [226, 219],\n",
       "       [227, 220],\n",
       "       [228, 221],\n",
       "       [229, 222],\n",
       "       [230, 223],\n",
       "       [231, 224],\n",
       "       [232, 225],\n",
       "       [233, 226],\n",
       "       [234, 227],\n",
       "       [235, 228],\n",
       "       [236, 229],\n",
       "       [237, 230],\n",
       "       [238, 231],\n",
       "       [239, 232],\n",
       "       [240, 233],\n",
       "       [241, 234],\n",
       "       [242, 235],\n",
       "       [243, 236],\n",
       "       [244, 237],\n",
       "       [245, 238],\n",
       "       [246, 239],\n",
       "       [247, 240],\n",
       "       [248, 241],\n",
       "       [249, 242],\n",
       "       [250, 243],\n",
       "       [251, 244],\n",
       "       [252, 245],\n",
       "       [253, 246],\n",
       "       [254, 247],\n",
       "       [255, 248],\n",
       "       [256, 249],\n",
       "       [257, 250],\n",
       "       [258, 251],\n",
       "       [259, 252],\n",
       "       [260, 253],\n",
       "       [261, 254],\n",
       "       [262, 255],\n",
       "       [  3,   3],\n",
       "       [  4,   3],\n",
       "       [  5,   3],\n",
       "       [  6,   3],\n",
       "       [  7,   3],\n",
       "       [  8,   3],\n",
       "       [  9,   3],\n",
       "       [ 10,   3]], dtype=int64)"
      ]
     },
     "execution_count": 100,
     "metadata": {},
     "output_type": "execute_result"
    }
   ],
   "source": [
    "full\n",
    "\n"
   ]
  },
  {
   "cell_type": "code",
   "execution_count": 101,
   "metadata": {},
   "outputs": [],
   "source": [
    "a = np.array(np.ones(8))\n",
    "b = np.array(np.ones(8))\n",
    "\n",
    "mesh_a = Mesh.TreeMesh([16, 16], x0=np.array([3, 5]))\n",
    "mesh_a.refine(2, finalize=True)\n",
    "\n",
    "# Create sub meshes offseted\n",
    "mesh_b = Mesh.TreeMesh([8,8])\n",
    "mesh_b.x0 = mesh_a.x0-0.1\n",
    "\n",
    "\n",
    "mesh_b.refine(1, finalize=True)\n",
    "\n",
    "\n",
    "\n",
    "actv_a = np.ones(mesh_a.nC, dtype='bool')\n",
    "actv_b = np.ones(mesh_b.nC, dtype='bool')\n",
    "\n",
    "# Create model\n",
    "m = np.zeros(mesh_a.nC)\n",
    "m[8:10] = 2\n",
    "\n",
    "M = Maps.Tile((mesh_a, actv_a), (mesh_b, actv_b))\n",
    "mout = M*m\n",
    "mDeriv = M.deriv(m).T*(mout)\n"
   ]
  },
  {
   "cell_type": "code",
   "execution_count": 102,
   "metadata": {},
   "outputs": [
    {
     "data": {
      "text/plain": [
       "[3]"
      ]
     },
     "execution_count": 102,
     "metadata": {},
     "output_type": "execute_result"
    }
   ],
   "source": [
    "check\n"
   ]
  },
  {
   "cell_type": "code",
   "execution_count": 103,
   "metadata": {},
   "outputs": [
    {
     "ename": "IndexError",
     "evalue": "index 16 is out of bounds for axis 1 with size 16",
     "output_type": "error",
     "traceback": [
      "\u001b[1;31m---------------------------------------------------------------------------\u001b[0m",
      "\u001b[1;31mIndexError\u001b[0m                                Traceback (most recent call last)",
      "\u001b[1;32m<ipython-input-103-070a8001def5>\u001b[0m in \u001b[0;36m<module>\u001b[1;34m\u001b[0m\n\u001b[0;32m      1\u001b[0m \u001b[1;31m# Check where the cells in local are smaller than global\u001b[0m\u001b[1;33m\u001b[0m\u001b[1;33m\u001b[0m\u001b[1;33m\u001b[0m\u001b[0m\n\u001b[1;32m----> 2\u001b[1;33m \u001b[0mcheck\u001b[0m \u001b[1;33m=\u001b[0m \u001b[0mnp\u001b[0m\u001b[1;33m.\u001b[0m\u001b[0mwhere\u001b[0m\u001b[1;33m(\u001b[0m\u001b[0mmesh_a\u001b[0m\u001b[1;33m.\u001b[0m\u001b[0mvol\u001b[0m\u001b[1;33m[\u001b[0m\u001b[0mua\u001b[0m\u001b[1;33m]\u001b[0m \u001b[1;33m<\u001b[0m \u001b[0mmesh_b\u001b[0m\u001b[1;33m.\u001b[0m\u001b[0mvol\u001b[0m\u001b[1;33m[\u001b[0m\u001b[0mactv_b\u001b[0m\u001b[1;33m]\u001b[0m\u001b[1;33m)\u001b[0m\u001b[1;33m[\u001b[0m\u001b[1;36m0\u001b[0m\u001b[1;33m]\u001b[0m\u001b[1;33m.\u001b[0m\u001b[0mtolist\u001b[0m\u001b[1;33m(\u001b[0m\u001b[1;33m)\u001b[0m\u001b[1;33m\u001b[0m\u001b[1;33m\u001b[0m\u001b[0m\n\u001b[0m\u001b[0;32m      3\u001b[0m \u001b[1;33m\u001b[0m\u001b[0m\n\u001b[0;32m      4\u001b[0m \u001b[1;33m\u001b[0m\u001b[0m\n\u001b[0;32m      5\u001b[0m \u001b[1;33m\u001b[0m\u001b[0m\n",
      "\u001b[1;31mIndexError\u001b[0m: index 16 is out of bounds for axis 1 with size 16"
     ]
    }
   ],
   "source": [
    "# Check where the cells in local are smaller than global\n",
    "check = np.where(mesh_a.vol[ua] < mesh_b.vol[actv_b])[0].tolist()\n",
    "\n",
    "\n",
    "\n",
    "\n",
    "\n",
    "# ind = mesh_b._get_containing_cell_indexes(mesh_a.gridCC[ind])\n",
    "\n",
    "# print(ind)\n",
    "\n",
    "for ii in check:\n",
    "    ind = mesh_a[ii].neighbors\n",
    "    print(ind[ind!=-1])\n",
    "    \n",
    "    \n",
    "\n",
    "\n",
    "\n",
    "\n",
    "\n",
    "\n"
   ]
  },
  {
   "cell_type": "code",
   "execution_count": 43,
   "metadata": {},
   "outputs": [
    {
     "data": {
      "text/plain": [
       "array([0, 1, 2, 3], dtype=int64)"
      ]
     },
     "execution_count": 43,
     "metadata": {},
     "output_type": "execute_result"
    }
   ],
   "source": [
    "check\n"
   ]
  },
  {
   "cell_type": "code",
   "execution_count": 104,
   "metadata": {},
   "outputs": [],
   "source": [
    "indL = mesh_a._get_containing_cell_indexes(mesh_b.gridCC[actv_b])\n",
    "\n",
    "# indG = mesh_b._get_containing_cell_indexes(mesh_a.gridCC)\n",
    "#\n",
    "\n",
    "# Create new index based on unique active\n",
    "[ua, ind] = np.unique(indL, return_index=True)\n",
    "newCellInd = np.arange(ua.shape[0])\n",
    "\n",
    "activeLocal = np.zeros(mesh_a.nC, dtype='bool')\n",
    "activeLocal[ua] = True\n",
    "\n",
    "# activeLocal = activeLocal\n",
    "\n",
    "# Transfer old index to new\n",
    "indL = np.searchsorted(ua, indL)\n",
    "\n",
    "full = np.c_[indL, np.arange(actv_b.sum())]\n",
    "\n"
   ]
  },
  {
   "cell_type": "code",
   "execution_count": 105,
   "metadata": {
    "scrolled": false
   },
   "outputs": [
    {
     "ename": "TypeError",
     "evalue": "'set' object is not subscriptable",
     "output_type": "error",
     "traceback": [
      "\u001b[1;31m---------------------------------------------------------------------------\u001b[0m",
      "\u001b[1;31mTypeError\u001b[0m                                 Traceback (most recent call last)",
      "\u001b[1;32m<ipython-input-105-613a7783b955>\u001b[0m in \u001b[0;36m<module>\u001b[1;34m\u001b[0m\n\u001b[0;32m      1\u001b[0m \u001b[0maxs\u001b[0m \u001b[1;33m=\u001b[0m \u001b[0mplt\u001b[0m\u001b[1;33m.\u001b[0m\u001b[0msubplot\u001b[0m\u001b[1;33m(\u001b[0m\u001b[1;36m3\u001b[0m\u001b[1;33m,\u001b[0m\u001b[1;36m1\u001b[0m\u001b[1;33m,\u001b[0m\u001b[1;36m1\u001b[0m\u001b[1;33m)\u001b[0m\u001b[1;33m\u001b[0m\u001b[1;33m\u001b[0m\u001b[0m\n\u001b[1;32m----> 2\u001b[1;33m \u001b[0mmesh_a\u001b[0m\u001b[1;33m.\u001b[0m\u001b[0mplotImage\u001b[0m\u001b[1;33m(\u001b[0m\u001b[0mm\u001b[0m\u001b[1;33m,\u001b[0m \u001b[0mgrid\u001b[0m\u001b[1;33m=\u001b[0m\u001b[1;34m'on'\u001b[0m\u001b[1;33m,\u001b[0m \u001b[0max\u001b[0m\u001b[1;33m=\u001b[0m\u001b[0maxs\u001b[0m\u001b[1;33m,\u001b[0m \u001b[0mclim\u001b[0m\u001b[1;33m=\u001b[0m\u001b[1;33m[\u001b[0m\u001b[1;36m0\u001b[0m\u001b[1;33m,\u001b[0m\u001b[1;36m2\u001b[0m\u001b[1;33m]\u001b[0m\u001b[1;33m)\u001b[0m\u001b[1;33m\u001b[0m\u001b[1;33m\u001b[0m\u001b[0m\n\u001b[0m\u001b[0;32m      3\u001b[0m \u001b[0maxs\u001b[0m\u001b[1;33m.\u001b[0m\u001b[0mset_xlim\u001b[0m\u001b[1;33m(\u001b[0m\u001b[1;33m[\u001b[0m\u001b[1;36m3\u001b[0m\u001b[1;33m,\u001b[0m\u001b[1;36m4\u001b[0m\u001b[1;33m]\u001b[0m\u001b[1;33m)\u001b[0m\u001b[1;33m\u001b[0m\u001b[1;33m\u001b[0m\u001b[0m\n\u001b[0;32m      4\u001b[0m \u001b[0maxs\u001b[0m\u001b[1;33m.\u001b[0m\u001b[0mset_ylim\u001b[0m\u001b[1;33m(\u001b[0m\u001b[1;33m[\u001b[0m\u001b[1;36m5\u001b[0m\u001b[1;33m,\u001b[0m\u001b[1;36m6\u001b[0m\u001b[1;33m]\u001b[0m\u001b[1;33m)\u001b[0m\u001b[1;33m\u001b[0m\u001b[1;33m\u001b[0m\u001b[0m\n\u001b[0;32m      5\u001b[0m \u001b[0maxs\u001b[0m\u001b[1;33m.\u001b[0m\u001b[0mset_aspect\u001b[0m\u001b[1;33m(\u001b[0m\u001b[1;34m'equal'\u001b[0m\u001b[1;33m)\u001b[0m\u001b[1;33m\u001b[0m\u001b[1;33m\u001b[0m\u001b[0m\n",
      "\u001b[1;32m~\\Documents\\GIT\\discretize\\discretize\\tree_ext.pyx\u001b[0m in \u001b[0;36mdiscretize.tree_ext._TreeMesh.plotImage\u001b[1;34m()\u001b[0m\n",
      "\u001b[1;31mTypeError\u001b[0m: 'set' object is not subscriptable"
     ]
    },
    {
     "data": {
      "image/png": "[encoded data removed]",
      "text/plain": [
       "<Figure size 432x288 with 1 Axes>"
      ]
     },
     "metadata": {
      "needs_background": "light"
     },
     "output_type": "display_data"
    }
   ],
   "source": [
    "axs = plt.subplot(3,1,1)\n",
    "mesh_a.plotImage(m, grid='on', ax=axs, clim=[0,2])\n",
    "axs.set_xlim([3,4])\n",
    "axs.set_ylim([5,6])\n",
    "axs.set_aspect('equal')\n",
    "\n",
    "\n",
    "axs = plt.subplot(3,1,2)\n",
    "mesh_b.plotImage(mout, grid='on', ax=axs, clim=[0,2])\n",
    "axs.set_xlim([3,4])\n",
    "axs.set_ylim([5,6])\n",
    "axs.set_aspect('equal')\n",
    "\n",
    "axs = plt.subplot(3,1,3)\n",
    "mesh_a.plotImage(mDeriv, grid='on', ax=axs)\n",
    "\n",
    "\n",
    "axs.set_xlim([3,4])\n",
    "axs.set_ylim([5,6])\n",
    "\n",
    "axs.set_aspect('equal')\n",
    "\n",
    "plt.show()"
   ]
  },
  {
   "cell_type": "code",
   "execution_count": 50,
   "metadata": {},
   "outputs": [
    {
     "data": {
      "text/plain": [
       "(array([0., 0., 0., 0., 0., 0., 0., 0., 2., 2., 0., 0., 0., 0., 0., 0.]),\n",
       " array([0.        , 0.        , 0.99999992, 0.49999998]),\n",
       " 2.499999460000082)"
      ]
     },
     "execution_count": 50,
     "metadata": {},
     "output_type": "execute_result"
    }
   ],
   "source": [
    "m, mout, mDeriv.sum()\n",
    "\n",
    "\n",
    "\n",
    "\n",
    "\n",
    "\n",
    "\n",
    "\n",
    "\n",
    "\n",
    "\n",
    "\n",
    "\n"
   ]
  },
  {
   "cell_type": "code",
   "execution_count": 6,
   "metadata": {},
   "outputs": [
    {
     "data": {
      "text/plain": [
       "False"
      ]
     },
     "execution_count": 6,
     "metadata": {},
     "output_type": "execute_result"
    }
   ],
   "source": [
    "tol = 1e-7\n",
    "\n",
    "# Check that max and min model values are preserved\n",
    "np.linalg.norm(mout[mout>0].min()-m.min()) < tol\n",
    "np.linalg.norm(mout[mout>0].max()-m.max()) < tol"
   ]
  },
  {
   "cell_type": "code",
   "execution_count": 7,
   "metadata": {},
   "outputs": [
    {
     "ename": "AttributeError",
     "evalue": "'Tile' object has no attribute 'Paverage'",
     "output_type": "error",
     "traceback": [
      "\u001b[1;31m---------------------------------------------------------------------------\u001b[0m",
      "\u001b[1;31mAttributeError\u001b[0m                            Traceback (most recent call last)",
      "\u001b[1;32m<ipython-input-7-e53fe154ff7e>\u001b[0m in \u001b[0;36m<module>\u001b[1;34m\u001b[0m\n\u001b[0;32m      9\u001b[0m \u001b[0mm\u001b[0m \u001b[1;33m=\u001b[0m \u001b[0mnp\u001b[0m\u001b[1;33m.\u001b[0m\u001b[0mzeros\u001b[0m\u001b[1;33m(\u001b[0m\u001b[0mmeshGlobal\u001b[0m\u001b[1;33m.\u001b[0m\u001b[0mnC\u001b[0m\u001b[1;33m)\u001b[0m\u001b[1;33m\u001b[0m\u001b[1;33m\u001b[0m\u001b[0m\n\u001b[0;32m     10\u001b[0m \u001b[0mm\u001b[0m\u001b[1;33m[\u001b[0m\u001b[1;36m10\u001b[0m\u001b[1;33m*\u001b[0m\u001b[1;36m10\u001b[0m\u001b[1;33m*\u001b[0m\u001b[1;36m5\u001b[0m \u001b[1;33m+\u001b[0m \u001b[1;36m5\u001b[0m\u001b[1;33m*\u001b[0m\u001b[1;36m11\u001b[0m\u001b[1;33m]\u001b[0m \u001b[1;33m=\u001b[0m \u001b[1;36m1\u001b[0m\u001b[1;33m\u001b[0m\u001b[1;33m\u001b[0m\u001b[0m\n\u001b[1;32m---> 11\u001b[1;33m \u001b[0mmout\u001b[0m \u001b[1;33m=\u001b[0m \u001b[0mM\u001b[0m\u001b[1;33m.\u001b[0m\u001b[0mPaverage\u001b[0m\u001b[1;33m*\u001b[0m\u001b[0mm\u001b[0m\u001b[1;33m\u001b[0m\u001b[1;33m\u001b[0m\u001b[0m\n\u001b[0m\u001b[0;32m     12\u001b[0m \u001b[1;33m\u001b[0m\u001b[0m\n\u001b[0;32m     13\u001b[0m \u001b[1;31m# meshGlobal.writeModelUBC('InterpModel.dat',m)\u001b[0m\u001b[1;33m\u001b[0m\u001b[1;33m\u001b[0m\u001b[1;33m\u001b[0m\u001b[0m\n",
      "\u001b[1;31mAttributeError\u001b[0m: 'Tile' object has no attribute 'Paverage'"
     ]
    }
   ],
   "source": [
    "meshGlobal = Mesh.TensorMesh([np.ones(10),np.ones(10),np.ones(10)], x0='CCC')\n",
    "meshLocal = Mesh.TensorMesh([np.ones(3)*3,np.ones(3)*3,np.ones(3)*3], x0='CCC')\n",
    "actvGlobal = np.ones(meshGlobal.nC, dtype='bool')\n",
    "actvLocal = np.ones(meshLocal.nC, dtype='bool')\n",
    "\n",
    "M = Maps.Tile((meshGlobal, actvGlobal), (meshLocal, actvLocal))\n",
    "M.nCell=100\n",
    "\n",
    "m = np.zeros(meshGlobal.nC)\n",
    "m[10*10*5 + 5*11] = 1\n",
    "mout = M.Paverage*m\n",
    "\n",
    "# meshGlobal.writeModelUBC('InterpModel.dat',m)\n",
    "# meshGlobal.writeUBC('MeshGlobal.msh')\n",
    "\n",
    "# meshLocal.writeModelUBC('InterpModelLocal.dat',mout)\n",
    "# meshLocal.writeUBC('MeshLocal.msh')\n",
    "\n",
    "m = np.ones(meshLocal.nC)\n",
    "mout2 = M.Pvolume.T*m\n",
    "\n",
    "# meshGlobal.writeModelUBC('InterpModel.dat',mout2)\n",
    "# meshGlobal.writeUBC('MeshGlobal.msh')\n",
    "\n",
    "# meshLocal.writeModelUBC('InterpModelLocal.dat',m)\n",
    "# meshLocal.writeUBC('MeshLocal.msh')"
   ]
  },
  {
   "cell_type": "code",
   "execution_count": null,
   "metadata": {},
   "outputs": [],
   "source": [
    "M.Pvolume.T.sum()\n",
    "1/27"
   ]
  },
  {
   "cell_type": "code",
   "execution_count": null,
   "metadata": {},
   "outputs": [],
   "source": [
    "meshGlobal.plotGrid()\n",
    "plt.show()\n",
    "\n",
    "meshLocal.plotGrid()\n",
    "plt.show()\n"
   ]
  },
  {
   "cell_type": "code",
   "execution_count": null,
   "metadata": {},
   "outputs": [],
   "source": [
    "\n"
   ]
  },
  {
   "cell_type": "code",
   "execution_count": null,
   "metadata": {},
   "outputs": [],
   "source": [
    "M.writeUBC('OctreeTest.msh')"
   ]
  },
  {
   "cell_type": "code",
   "execution_count": null,
   "metadata": {},
   "outputs": [],
   "source": [
    "np.savetxt('OctreeBswCorn.dat',bsw,fmt='%f')\n",
    "np.savetxt('OctreeTneCorn.dat',tne,fmt='%f')\n",
    "np.savetxt('OctreeCenter.dat',M.gridCC,fmt='%f')\n",
    "np.savetxt('OctreeNodes.dat',M.gridN,fmt='%f')\n"
   ]
  },
  {
   "cell_type": "code",
   "execution_count": null,
   "metadata": {},
   "outputs": [],
   "source": [
    "# Create a global octree\n",
    "mesh = Mesh.TreeMesh([16,16,16])\n",
    "\n",
    "# Create an array of points \n",
    "X, Y = np.meshgrid(np.arange(.25,1.,0.1), np.arange(.25,1.,0.1))\n",
    "Z = np.ones_like(X) *0.5\n",
    "\n",
    "Utils.modelutils.refineTree(mesh, np.c_[mkvc(X),mkvc(Y),mkvc(Z)], dtype='point', nCpad=[1,0,0])\n",
    "mesh.finalize()"
   ]
  },
  {
   "cell_type": "code",
   "execution_count": null,
   "metadata": {},
   "outputs": [],
   "source": [
    "model = np.zeros(mesh.nC)\n",
    "ind = Utils.ModelBuilder.getIndicesBlock(np.r_[.35,.35,.35], np.r_[.55,.55,.55], mesh.gridCC)\n",
    "model[ind] = 1\n",
    "\n",
    "ind = Utils.ModelBuilder.getIndicesBlock(np.r_[.55,.55,.35], np.r_[.75,.75,.55], mesh.gridCC)\n",
    "model[ind] = 0.5\n",
    "\n",
    "actv = np.ones(mesh.nC, dtype='bool')\n",
    "actv[mesh.gridCC[:,2]>0.5] = False\n",
    "\n",
    "model[actv==False] = np.nan\n",
    "def f(ind):\n",
    "    mesh.plotSlice(model, ind=ind, normal='Z')\n",
    "    \n",
    "\n",
    "interactive_plot = interactive(f, ind=(0, 10))\n",
    "\n",
    "interactive_plot\n"
   ]
  },
  {
   "cell_type": "code",
   "execution_count": null,
   "metadata": {},
   "outputs": [],
   "source": [
    "mesh2 = Mesh.TreeMesh([16,16,16])\n",
    "X, Y = np.meshgrid(np.arange(.25,.5,0.1), np.arange(.25,1.,0.1))\n",
    "Z = np.ones_like(X) *0.5\n",
    "\n",
    "Utils.modelutils.refineTree(mesh2, np.c_[mkvc(X),mkvc(Y),mkvc(Z)], dtype='point', nCpad=[1,0,0], finalize=True)\n",
    "actv2 = np.ones(mesh2.nC, dtype='bool')\n",
    "\n",
    "actv2[mesh2.gridCC[:,2]>0.5] = False\n",
    "tileMap = Maps.Tile((mesh, actv), (mesh2, actv2))\n",
    "\n",
    "activeCellsMap = Maps.InjectActiveCells(mesh2, actv2, np.nan)\n",
    "\n",
    "m2 = activeCellsMap*tileMap*model[actv]\n",
    "\n"
   ]
  },
  {
   "cell_type": "code",
   "execution_count": null,
   "metadata": {},
   "outputs": [],
   "source": [
    "m2.shape\n"
   ]
  },
  {
   "cell_type": "code",
   "execution_count": null,
   "metadata": {},
   "outputs": [],
   "source": [
    "def f(ind):\n",
    "    mesh2.plotSlice(m2, ind=ind, clim=[0,1.], normal='Z'\n",
    "                   )\n",
    "    \n",
    "\n",
    "interactive_plot = interactive(f, ind=(0, 15))\n",
    "\n",
    "interactive_plot"
   ]
  },
  {
   "cell_type": "code",
   "execution_count": null,
   "metadata": {},
   "outputs": [],
   "source": [
    "m2.min(), m2.max()\n",
    "\n",
    "\n"
   ]
  },
  {
   "cell_type": "code",
   "execution_count": null,
   "metadata": {},
   "outputs": [],
   "source": []
  }
 ],
 "metadata": {
  "kernelspec": {
   "display_name": "Python 3",
   "language": "python",
   "name": "python3"
  },
  "language_info": {
   "codemirror_mode": {
    "name": "ipython",
    "version": 3
   },
   "file_extension": ".py",
   "mimetype": "text/x-python",
   "name": "python",
   "nbconvert_exporter": "python",
   "pygments_lexer": "ipython3",
   "version": "3.7.1"
  }
 },
 "nbformat": 4,
 "nbformat_minor": 2
}
