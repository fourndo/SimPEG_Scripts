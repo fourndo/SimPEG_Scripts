{
 "cells": [
  {
   "cell_type": "code",
   "execution_count": 1,
   "metadata": {},
   "outputs": [],
   "source": [
    "from pymatsolver import Pardiso\n",
    "import numpy as np\n",
    "import scipy as sp\n",
    "import dask\n",
    "import dask.array as da"
   ]
  },
  {
   "cell_type": "code",
   "execution_count": 2,
   "metadata": {},
   "outputs": [],
   "source": [
    "# Create a simple sparse banded system\n",
    "nC = 100000\n",
    "A = sp.sparse.diags([-np.ones(nC), 2*np.ones(nC), -np.ones(nC)], [-1,0,1], shape=(nC,nC))\n",
    "\n",
    "# Create Pardiso solver for Ainv\n",
    "Ainv = Pardiso(A)\n",
    "\n",
    "# Solve it for a random RHS\n",
    "b = np.random.randn(nC,100)\n",
    "\n"
   ]
  },
  {
   "cell_type": "code",
   "execution_count": 3,
   "metadata": {},
   "outputs": [
    {
     "data": {
      "text/plain": [
       "array([[ -23.83315843,  194.02058934,  -76.67440679, ...,  128.00983571,\n",
       "         -19.07211464, -312.9730096 ],\n",
       "       [ -48.06786034,  385.61050047, -152.57187283, ...,  255.96749588,\n",
       "         -37.02378928, -625.63994802],\n",
       "       [ -72.17821251,  576.07908493, -228.9395117 , ...,  384.71469504,\n",
       "         -56.15634123, -939.93603779],\n",
       "       ...,\n",
       "       [-267.74925839,  233.35010731,  110.40689906, ...,  122.54691174,\n",
       "         201.82825759, -217.47401107],\n",
       "       [-176.88819199,  155.78057395,   74.58208403, ...,   81.81474714,\n",
       "         132.84248617, -144.8863017 ],\n",
       "       [ -87.74261011,   77.62650622,   37.48977625, ...,   41.02276335,\n",
       "          65.63889072,  -72.51581147]])"
      ]
     },
     "execution_count": 3,
     "metadata": {},
     "output_type": "execute_result"
    }
   ],
   "source": [
    "# Solve the RHS in a loop\n",
    "y = Ainv*b\n",
    "y"
   ]
  },
  {
   "cell_type": "code",
   "execution_count": 4,
   "metadata": {},
   "outputs": [],
   "source": [
    "# Try to do the same solves inside a delayed function\n",
    "@dask.delayed\n",
    "def solveRHD(rhs):\n",
    "\n",
    "    return Ainv*rhs\n",
    "\n",
    "# Split the solves in dask delays\n",
    "columns = [solveRHD(b[:, ii]).reshape((nC,1)) for ii in range(b.shape[1])]\n",
    "solves = [da.from_delayed(column, dtype='float', shape=(nC, 1)).reshape((nC,1)) for column in columns]\n",
    "\n",
    "# Stack the result\n",
    "yDask = da.hstack(solves)"
   ]
  },
  {
   "cell_type": "code",
   "execution_count": 5,
   "metadata": {},
   "outputs": [
    {
     "data": {
      "text/plain": [
       "array([[ -23.83315843],\n",
       "       [ -48.06786034],\n",
       "       [ -72.17821251],\n",
       "       ...,\n",
       "       [-267.74925839],\n",
       "       [-176.88819199],\n",
       "       [ -87.74261011]])"
      ]
     },
     "execution_count": 5,
     "metadata": {},
     "output_type": "execute_result"
    }
   ],
   "source": [
    "# Compute only one of them \n",
    "# First is the same ... good\n",
    "solves[0].compute()\n",
    "\n",
    "\n"
   ]
  },
  {
   "cell_type": "code",
   "execution_count": 6,
   "metadata": {},
   "outputs": [
    {
     "data": {
      "text/plain": [
       "array([[ -76.67440679,   24.72412378,   24.72412378, ...,  128.00983571,\n",
       "         -19.07211464, -312.9730096 ],\n",
       "       [-152.57187283,   49.37725788,   49.37725788, ...,  255.96749588,\n",
       "         -37.02378928, -625.63994802],\n",
       "       [-228.9395117 ,   72.86412572,   72.86412572, ...,  384.71469504,\n",
       "         -56.15634123, -939.93603779],\n",
       "       ...,\n",
       "       [ 233.35010731,  161.80812718,  161.80812718, ...,  122.54691174,\n",
       "         201.82825759, -217.47401107],\n",
       "       [ 155.78057395,  107.94883099,  107.94883099, ...,   81.81474714,\n",
       "         132.84248617, -144.8863017 ],\n",
       "       [  77.62650622,   54.14696415,   54.14696415, ...,   41.02276335,\n",
       "          65.63889072,  -72.51581147]])"
      ]
     },
     "execution_count": 6,
     "metadata": {},
     "output_type": "execute_result"
    }
   ],
   "source": [
    "# Run all with dask ... not good, run again different\n",
    "yDask.compute()\n",
    "\n"
   ]
  },
  {
   "cell_type": "code",
   "execution_count": null,
   "metadata": {},
   "outputs": [],
   "source": []
  }
 ],
 "metadata": {
  "kernelspec": {
   "display_name": "Python 3",
   "language": "python",
   "name": "python3"
  },
  "language_info": {
   "codemirror_mode": {
    "name": "ipython",
    "version": 3
   },
   "file_extension": ".py",
   "mimetype": "text/x-python",
   "name": "python",
   "nbconvert_exporter": "python",
   "pygments_lexer": "ipython3",
   "version": "3.7.3"
  }
 },
 "nbformat": 4,
 "nbformat_minor": 2
}
