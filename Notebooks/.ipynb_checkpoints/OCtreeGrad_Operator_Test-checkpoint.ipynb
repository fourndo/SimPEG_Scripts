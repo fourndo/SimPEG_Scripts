{
 "cells": [
  {
   "cell_type": "code",
   "execution_count": 1,
   "metadata": {
    "collapsed": true
   },
   "outputs": [],
   "source": [
    "import numpy as np\n",
    "import scipy.sparse as sp\n",
    "import unittest\n",
    "from SimPEG import Mesh, Maps, Models, Utils, PF, Regularization, Directives\n",
    "from SimPEG import InvProblem, Optimization, Inversion, DataMisfit\n",
    "import inspect\n",
    "import matplotlib.pyplot as plt\n",
    "from scipy.interpolate import griddata\n",
    "from SimPEG.Utils import mkvc\n",
    "\n",
    "from __future__ import print_function\n",
    "from ipywidgets import interact, interactive, fixed, interact_manual\n",
    "import ipywidgets as widgets\n",
    "\n"
   ]
  },
  {
   "cell_type": "code",
   "execution_count": null,
   "metadata": {
    "collapsed": true
   },
   "outputs": [],
   "source": []
  },
  {
   "cell_type": "code",
   "execution_count": 2,
   "metadata": {},
   "outputs": [
    {
     "name": "stdout",
     "output_type": "stream",
     "text": [
      "(278, 204)\n",
      "(281, 204)\n"
     ]
    }
   ],
   "source": [
    "hx = np.ones(32)*5\n",
    "hz = np.ones(32)*4\n",
    "mesh = Mesh.TreeMesh([hx,hx,hz], )\n",
    "\n",
    "\n",
    "xLoc = np.c_[45.,20.,80.]\n",
    "xLoc = np.r_[xLoc,np.c_[65,30.,80.]]\n",
    "\n",
    "mesh.x0 = [-10.,-25.,25.]\n",
    "mesh.insert_cells(xLoc, np.r_[5,5])\n",
    "\n",
    "print(mesh._cellGradxStencil().shape)\n",
    "print(mesh._cellGradyStencil().shape)\n",
    "\n",
    "Mesh.TreeMesh.writeUBC(mesh, 'OctreeTest.msh',\n",
    "                       models={'Actv.mod': np.ones(mesh.nC)})"
   ]
  },
  {
   "cell_type": "code",
   "execution_count": 3,
   "metadata": {},
   "outputs": [
    {
     "data": {
      "text/plain": [
       "(275, 197)"
      ]
     },
     "execution_count": 3,
     "metadata": {},
     "output_type": "execute_result"
    }
   ],
   "source": [
    "# h= np.r_[5,5,5]\n",
    "# padDist = np.ones((3,3))*100\n",
    "\n",
    "# X,Y = np.meshgrid(np.linspace(-20,20,10),np.linspace(-20,20,10))\n",
    "# xyzLocs = np.c_[mkvc(X), mkvc(Y), mkvc(X)*0] \n",
    "\n",
    "# mesh = Utils.modelutils.meshBuilder(np.c_[0.,15.,0.], h, padDist,\n",
    "#                                         meshGlobal=None,\n",
    "#                                         meshType='TREE',padCore=np.r_[3, 3, 3],\n",
    "#                                         gridLoc = 'CC')\n",
    "\n",
    "mesh = Mesh.TreeMesh.readUBC('OctreeTest.msh')\n",
    "# print(mesh._cellGradxStencil().shape)\n",
    "mesh._cellGradyStencil().shape\n",
    "\n",
    "# print(mesh._cellGradyStencil().shape)"
   ]
  },
  {
   "cell_type": "code",
   "execution_count": 4,
   "metadata": {
    "collapsed": true
   },
   "outputs": [],
   "source": [
    "topo = xyzLocs.copy()\n",
    "actv = Utils.surface2ind_topo(mesh, topo)\n",
    "\n",
    "Mesh.TreeMesh.writeUBC(mesh, 'OctreeTest.msh',\n",
    "                       models={'Actv.mod': actv})"
   ]
  },
  {
   "cell_type": "code",
   "execution_count": 5,
   "metadata": {
    "collapsed": true
   },
   "outputs": [],
   "source": [
    "nC = int(actv.sum())\n",
    "idenMap = Maps.IdentityMap(nP=nC)\n",
    "reg = Regularization.Sparse(mesh, indActive=actv, mapping=idenMap)\n"
   ]
  },
  {
   "cell_type": "code",
   "execution_count": null,
   "metadata": {
    "collapsed": true
   },
   "outputs": [],
   "source": [
    "print(nC, mesh.nC)\n",
    "print(mesh.aveFx2CC.shape)\n",
    "print(reg.regmesh.Pafy.T.shape)\n",
    "print(mesh._cellGradxStencil().shape)\n",
    "# print(mesh._aveCC2FxStencil().shape)\n",
    "print(mesh._cellGradyStencil().shape)\n",
    "# print(mesh._aveCC2FyStencil().shape)"
   ]
  },
  {
   "cell_type": "code",
   "execution_count": null,
   "metadata": {
    "collapsed": true
   },
   "outputs": [],
   "source": [
    "h = np.ones([16])*5\n",
    "mesh = Mesh.TreeMesh([h,h,h])\n",
    "\n",
    "\n",
    "xLoc = np.c_[10.,20.,10.]\n",
    "\n",
    "mesh.x0 = [-25,-25,-25]\n",
    "\n",
    "mesh.insert_cells(xLoc, np.r_[4])\n",
    "# mesh.x0 = [-25.,-25.,25.]\n"
   ]
  },
  {
   "cell_type": "code",
   "execution_count": null,
   "metadata": {
    "collapsed": true
   },
   "outputs": [],
   "source": [
    "# Mesh.TreeMesh.writeUBC(mesh,'TreeTest.msh',\n",
    "#                       np.ones(mesh.nC))\n",
    "mesh.writeUBC('TreeTest.msh',{'model.dat':np.ones(mesh.nC)})\n",
    "mesh.plotGrid()\n",
    "plt.show()"
   ]
  },
  {
   "cell_type": "code",
   "execution_count": null,
   "metadata": {
    "collapsed": true
   },
   "outputs": [],
   "source": [
    "Fx = lambda x: 2*np.pi*np.cos(2*np.pi*x)\n",
    "Fy = lambda y: 2*np.pi*np.cos(2*np.pi*y)\n",
    "Fz = lambda z: 2*np.pi*np.cos(2*np.pi*z)\n",
    "\n",
    "F = lambda xyz: np.sin(2*np.pi*xyz[:,0])+np.sin(2*np.pi*xyz[:,1])\n",
    "\n",
    "mesh.area\n",
    "# area = Utils.sdiag(1./(np.r_[mesh._areaFxFull, mesh._areaFyFull]))\n",
    "# vol = Utils.sdiag(1./mesh.vol**0.5)\n",
    "\n",
    "\n",
    "# Fc = cartF2(mesh, solFx, solFy)\n",
    "# F = mesh.M.projectFaceVector(Fc)\n",
    "dx = mesh._cellGradxStencil() * mesh.gridCC[:,0]\n",
    "dy = mesh._cellGradyStencil() * mesh.gridCC[:,1]\n",
    "\n",
    "dx[dx>0] = 1./dx[dx>0]\n",
    "dy[dy>0] = 1./dy[dy>0]\n",
    "print(dx.min(), dx.max(),np.median(dx))\n",
    "h = Utils.sdiag((np.r_[dx, dy]))\n",
    "\n",
    "gradV = h * mesh.cellGradStencil\n",
    "\n",
    "BC = Utils.mkvc(np.abs(gradV).sum(1) == 0)\n",
    "gradF = gradV*(F(mesh.gridCC))\n",
    "\n",
    "gradF_ana = np.r_[Fx(mesh._gridFx[:,0]), Fy(mesh._gridFy[:,1])]\n",
    "gradF_ana[BC] = 0\n",
    "err = np.linalg.norm((gradF-gradF_ana), np.inf)"
   ]
  },
  {
   "cell_type": "code",
   "execution_count": null,
   "metadata": {
    "collapsed": true
   },
   "outputs": [],
   "source": [
    "err\n",
    "mesh._gridFx.shape[0]\n",
    "mesh.nFx"
   ]
  },
  {
   "cell_type": "code",
   "execution_count": null,
   "metadata": {
    "collapsed": true,
    "scrolled": false
   },
   "outputs": [],
   "source": [
    "plt.figure()\n",
    "mesh.plotGrid()\n",
    "plt.scatter(mesh._gridFx[:,0],mesh._gridFx[:,1], c=gradF[:mesh._gridFx.shape[0]],vmax=0.5)\n",
    "plt.colorbar()\n",
    "plt.show()"
   ]
  },
  {
   "cell_type": "code",
   "execution_count": null,
   "metadata": {
    "collapsed": true
   },
   "outputs": [],
   "source": [
    "gradF[28]"
   ]
  },
  {
   "cell_type": "code",
   "execution_count": null,
   "metadata": {
    "collapsed": true
   },
   "outputs": [],
   "source": [
    "# p = mesh._pointer(mesh._sortedCells[13])\n",
    "# w = mesh._levelWidth(p[-1])\n",
    "# mesh._index(mesh._pointer(mesh._sortedCells[11]))\n",
    "# mesh._cc2i[]\n",
    "# cellx = mesh._getNextCell(mesh._index([p[0], p[1], p[2]]), direction=0)\n",
    "# mesh._fx2i[]\n",
    "# Loop through the hangings and flag the overlaping element\n",
    "# faceParentx = dict()\n",
    "# theHang = mesh._hangingFx\n",
    "# for key in theHang.keys():\n",
    "#     if not theHang[key][0][0] in faceParentx.keys():\n",
    "#         faceParentx[theHang[key][0][0]] = [key]\n",
    "#     else:\n",
    "#         faceParentx[theHang[key][0][0]] += [key]\n",
    "        \n",
    "# faceParenty = dict()\n",
    "# theHang = mesh._hangingFy\n",
    "# for key in theHang.keys():\n",
    "#     if not theHang[key][0][0] in faceParenty.keys():\n",
    "#         faceParenty[theHang[key][0][0]] = [key]\n",
    "#     else:\n",
    "#         faceParenty[theHang[key][0][0]] += [key]\n",
    "        \n",
    "# faceParentz = dict()\n",
    "# theHang = mesh._hangingFz\n",
    "# for key in theHang.keys():\n",
    "#     if not theHang[key][0][0] in faceParentz.keys():\n",
    "#         faceParentz[theHang[key][0][0]] = [key]\n",
    "#     else:\n",
    "#         faceParentz[theHang[key][0][0]] += [key]"
   ]
  },
  {
   "cell_type": "code",
   "execution_count": null,
   "metadata": {
    "collapsed": true
   },
   "outputs": [],
   "source": [
    "mesh.number()\n",
    "\n",
    "# TODO: Preallocate!\n",
    "I, J, V = [], [], []\n",
    "PM = [-1, 1]#*mesh.dim  # plus / minus\n",
    "\n",
    "# TODO total number of faces?\n",
    "offset = [0] + [mesh.ntFx] + [mesh.ntFx+mesh.ntFy]\n",
    "\n",
    "for ii, ind in enumerate(mesh._sortedCells):\n",
    "\n",
    "    p = mesh._pointer(ind)\n",
    "#     w = mesh._levelWidth(p[-1])\n",
    "    \n",
    "    if mesh.dim == 2:\n",
    "        cellx = mesh._getNextCell(mesh._index([p[0], p[1], p[2]]), direction=0)\n",
    "    elif mesh.dim == 3:\n",
    "        cellx = mesh._getNextCell(mesh._index([p[0], p[1], p[2], p[3]]), direction=0)\n",
    "    \n",
    "    if cellx:\n",
    "        if isinstance(cellx, int):\n",
    "            cellx = [cellx]\n",
    "\n",
    "        for cell in cellx:\n",
    "\n",
    "            px = mesh._pointer(cell)\n",
    "            \n",
    "            if px[-1] < p[-1]:\n",
    "                if mesh.dim == 2:\n",
    "                    hangs = faceParentx[mesh._fx2i[mesh._index([px[0], px[1], px[2]])]]\n",
    "                    count = int(np.abs(p[1] - px[1]) / (mesh.maxLevel-p[2]+ 1))\n",
    "\n",
    "                elif mesh.dim == 3:\n",
    "                    hangs = faceParentx[mesh._fx2i[mesh._index([px[0], px[1], px[2], px[3]])]]                    \n",
    "                    count = int(np.abs(p[1] - px[1]) / (mesh.maxLevel-p[3]+ 1))\n",
    "                    count += int(2*np.abs(p[2] - px[2]) / (mesh.maxLevel-p[3]+ 1))\n",
    "                face = hangs[count] \n",
    "            else:\n",
    "                if mesh.dim == 2:\n",
    "                    face = mesh._fx2i[mesh._index([px[0], px[1], px[2]])]\n",
    "                elif mesh.dim == 3:\n",
    "                    face = mesh._fx2i[mesh._index([px[0], px[1], px[2], px[3]])]\n",
    "                \n",
    "\n",
    "            I += [face]*2\n",
    "            J += [mesh._cc2i[ind], mesh._cc2i[cell]]\n",
    "            V += PM\n",
    "\n",
    "Gx = sp.csr_matrix((V, (I, J)), shape=(mesh.ntFx, mesh.nC))\n",
    "\n",
    "I, J, V = [], [], []\n",
    "PM = [-1, 1]#*mesh.dim  # plus / minus\n",
    "for ii, ind in enumerate(mesh._sortedCells):\n",
    "\n",
    "    p = mesh._pointer(ind)   \n",
    "    celly = mesh._getNextCell(mesh._index([p[0], p[1], p[2]]), direction=1)\n",
    "    if celly:\n",
    "        if isinstance(celly, int):\n",
    "            celly = [celly]\n",
    "\n",
    "        for cell in celly:\n",
    "\n",
    "            py = mesh._pointer(cell)\n",
    "            \n",
    "            if py[-1] < p[-1]:\n",
    "                hangs = faceParenty[mesh._fy2i[mesh._index([py[0], py[1], py[2]])]]\n",
    "                count = int((p[1] - py[1]) / (mesh.maxLevel-p[2]+ 1))\n",
    "                face = hangs[count] \n",
    "            else:\n",
    "                face = mesh._fy2i[mesh._index([py[0], py[1], py[2]])]\n",
    "            I += [face]*2\n",
    "            J += [mesh._cc2i[ind], mesh._cc2i[cell]]\n",
    "            V += PM\n",
    "    \n",
    "\n",
    "Gy = sp.csr_matrix((V, (I, J)), shape=(mesh.ntFy, mesh.nC))\n",
    "\n",
    "\n",
    "I, J, V = [], [], []\n",
    "PM = [0.5, 0.5]#*mesh.dim  # plus / minus\n",
    "\n",
    "for ii, ind in enumerate(mesh._sortedCells):\n",
    "\n",
    "    p = mesh._pointer(ind)\n",
    "#     w = mesh._levelWidth(p[-1])\n",
    "    \n",
    "    cellx = mesh._getNextCell(mesh._index([p[0], p[1], p[2]]), direction=0)\n",
    "    \n",
    "    if cellx:\n",
    "        if isinstance(cellx, int):\n",
    "            cellx = [cellx]\n",
    "\n",
    "        for cell in cellx:\n",
    "\n",
    "            px = mesh._pointer(cell)\n",
    "            \n",
    "            if px[-1] < p[-1]:\n",
    "                hangs = faceParentx[mesh._fx2i[mesh._index([px[0], px[1], px[2]])]]\n",
    "                count = int((px[1] - p[1]) / (mesh.maxLevel-p[2]+ 1))\n",
    "                \n",
    "                face = hangs[count] \n",
    "            else:\n",
    "                face = mesh._fx2i[mesh._index([px[0], px[1], px[2]])]\n",
    "\n",
    "            I += [face]*2\n",
    "            J += [mesh._cc2i[ind], mesh._cc2i[cell]]\n",
    "            V += PM\n",
    "\n",
    "aveCC2Fx = sp.csr_matrix((V, (I, J)), shape=(mesh.ntFx, mesh.nC))\n",
    "aveCC2Fx = aveCC2Fx * Utils.sdiag(1./aveCC2Fx.sum(0))\n",
    "# R = mesh._deflationMatrix('Fx', large=True)\n",
    "# Sx = sp.hstack([sp.identity(mesh.ntFx),\n",
    "#                            sp.csr_matrix((mesh.ntFx, mesh.ntFy))])\n",
    "# Sy = sp.hstack([sp.csr_matrix((mesh.ntFy, mesh.ntFx)),\n",
    "#                            sp.identity(mesh.ntFy)])\n",
    "# Gx = ((D*R).T)\n",
    "\n",
    "# bc = Utils.mkvc(Gx.sum(1) == 0)\n",
    "# Gx=Sx * G\n",
    "# Gy=Sy * G\n",
    "# Gx_hang = []\n",
    "# for ii in range(Gx.shape[0]):\n",
    "#     if Gx[ii,:].count_nonzero() > 2:\n",
    "#         row = Gx[ii,:].copy()\n",
    "        \n",
    "#         ind = np.where(row.todense()!=0)[1]\n",
    "        \n",
    "#         # The largest absolute value is the cell\n",
    "#         ind1 = np.argmax(np.abs(row))\n",
    "#         ind = ind[ind!=ind1]\n",
    "        \n",
    "        \n",
    "#         for jj in range(len(ind)):\n",
    "            \n",
    "#             if jj == 0:\n",
    "#                 Gx[ii,ind1] = np.sign(row[0,ind1])*1\n",
    "#                 Gx[ii,ind] = 0\n",
    "#                 Gx[ii,ind[jj]] = np.sign(row[0,ind[jj]])*1\n",
    "\n",
    "#             else:\n",
    "#                 temp = row.copy()\n",
    "#                 temp[0,ind1] = np.sign(row[0,ind1])*1\n",
    "#                 temp[0,ind] = 0\n",
    "#                 temp[0,ind[jj]] = np.sign(row[0,ind[jj]])*1\n",
    "        \n",
    "#                 Gx_hang += [temp]\n",
    "        \n",
    "# Gx = sp.vstack([Gx,sp.vstack(Gx_hang)])\n",
    "# scale = Utils.mkvc(np.abs(Gx).max(1).todense())\n",
    "# scale[scale>1] /= 2\n",
    "# Gx = Utils.sdiag(1./scale) * Gx  \n",
    "# Gx[np.abs(Gx) ==0.5] *= 2\n",
    "# V = np.ones((bc == 0).sum())\n",
    "# I = range((bc == 0).sum())\n",
    "# J = np.where(bc==0)[0]\n",
    "# S = sp.csr_matrix((V, (I, J)), shape=((bc == 0).sum(), Gx.shape[0]))\n",
    "# Gx = S * Gx \n",
    "# VOL = mesh.vol\n",
    "# if mesh.dim == 2:\n",
    "#     S = np.r_[mesh._areaFxFull, mesh._areaFyFull]\n",
    "# elif mesh.dim == 3:\n",
    "#     S = np.r_[mesh._areaFxFull, mesh._areaFyFull, mesh._areaFzFull]\n",
    "# mesh._cellGradStencil = (D*R).T"
   ]
  },
  {
   "cell_type": "code",
   "execution_count": null,
   "metadata": {
    "collapsed": true
   },
   "outputs": [],
   "source": [
    "mesh.maxLevel\n",
    "Gx=mesh._cellGradxStencil()\n",
    "Gy=mesh._cellGradyStencil()\n",
    "# Gz =mesh._cellGradzStencil()\n",
    "\n",
    "avx = mesh.aveCC2Fx()\n",
    "avy = mesh.aveCC2Fy()\n",
    "# avz = mesh.aveCC2Fz()\n"
   ]
  },
  {
   "cell_type": "code",
   "execution_count": null,
   "metadata": {
    "collapsed": true
   },
   "outputs": [],
   "source": [
    "\n",
    "# G = mesh._cellGradxStencil()\n",
    "# ind = np.sign(G.sum(0))\n",
    "\n",
    "# ind = G.sum(1) < -1.5\n",
    "# G[ind,>1]=G[np.abs(G)>1]/1.5\n",
    "# aveFx2CC = mesh.aveFx2CC\n",
    "# aveCC2Fx = Utils.sdiag(1./(mesh.aveFx2CC.T).sum(1)) * mesh.aveFx2CC.T\n",
    "def f(ind):\n",
    "    vx = np.zeros(Gx.shape[1])\n",
    "    vx[ind] = 1\n",
    "    \n",
    "    vy = np.zeros(Gy.shape[1])\n",
    "    vy[ind] = 1\n",
    "    \n",
    "    ggx = Gx.T*Gx*vx\n",
    "    ggy = Gy.T*Gy*vy\n",
    "#     ggz = Gz.T*Gz*vy\n",
    "#     print(np.unique(avg))\n",
    "#     avg = mesh._cellGradxStencil().T*mesh._cellGradxStencil() * vec\n",
    "#     print(mesh.nC,avg.shape)\n",
    "    ax1 = plt.subplot(1,3,1)\n",
    "    mesh.plotSlice(ggx, clim=[-2,2],grid=True, ax=ax1)\n",
    "    \n",
    "    ax2 = plt.subplot(1,3,2)\n",
    "    mesh.plotSlice(ggy, clim=[-2,2],grid=True, ax= ax2)\n",
    "    \n",
    "#     ax3 = plt.subplot(1,3,3)\n",
    "#     mesh.plotSlice(ggz, clim=[-2,2],grid=True, ax= ax3,normal='Y', ind=10)\n",
    "    \n",
    "    plt.show()\n",
    "\n",
    "interactive_plot = interactive(f, ind=(0, mesh.nC))\n",
    "\n",
    "interactive_plot"
   ]
  }
 ],
 "metadata": {
  "kernelspec": {
   "display_name": "Python 3",
   "language": "python",
   "name": "python3"
  },
  "language_info": {
   "codemirror_mode": {
    "name": "ipython",
    "version": 3
   },
   "file_extension": ".py",
   "mimetype": "text/x-python",
   "name": "python",
   "nbconvert_exporter": "python",
   "pygments_lexer": "ipython3",
   "version": "3.6.2"
  }
 },
 "nbformat": 4,
 "nbformat_minor": 2
}
