{
 "cells": [
  {
   "cell_type": "code",
   "execution_count": 1,
   "metadata": {},
   "outputs": [],
   "source": [
    "import numpy as np"
   ]
  },
  {
   "cell_type": "code",
   "execution_count": 19,
   "metadata": {},
   "outputs": [
    {
     "name": "stdout",
     "output_type": "stream",
     "text": [
      "found one [5.447640e+05 5.511614e+06 5.455280e+05 5.510325e+06 3.900000e+01]\n",
      "receiver [ 5.446910e+05  5.511614e+06  5.447260e+05  5.511637e+06 -1.060900e+00\n",
      "  1.201200e-01]\n",
      "found one [5.447640e+05 5.511614e+06 5.438940e+05 5.513125e+06 3.900000e+01]\n",
      "receiver [ 5.446910e+05  5.511614e+06  5.447260e+05  5.511637e+06 -1.148400e+00\n",
      "  1.302500e-01]\n"
     ]
    }
   ],
   "source": [
    "tx = []\n",
    "rx = []\n",
    "with open(\"v3d1a_forDom.dc\") as fp:\n",
    "    line = fp.readline()\n",
    "    cnt = 1\n",
    "    while line:\n",
    "#         print(np.fromstring(line, dtype='float', sep=' '))\n",
    "        values = np.fromstring(line, dtype='float', sep=' ')\n",
    "        if values.shape[0] == 5:\n",
    "            tx.append(values)\n",
    "        \n",
    "        elif values.shape[0] == 6:\n",
    "            \n",
    "            \n",
    "            for ele in tx[-1].tolist():\n",
    "                if any(ele == values):\n",
    "                    print(\"found one\", tx[-1])\n",
    "                    print(\"receiver\", values)\n",
    "                    \n",
    "            # Check for delta\n",
    "            \n",
    "            rx.append(values)\n",
    "    \n",
    "        line = fp.readline()\n",
    "        cnt += 1"
   ]
  },
  {
   "cell_type": "code",
   "execution_count": 16,
   "metadata": {},
   "outputs": [
    {
     "data": {
      "text/plain": [
       "[array([5.450300e+05, 5.510997e+06, 5.455280e+05, 5.510325e+06,\n",
       "        3.800000e+01])]"
      ]
     },
     "execution_count": 16,
     "metadata": {},
     "output_type": "execute_result"
    }
   ],
   "source": []
  }
 ],
 "metadata": {
  "kernelspec": {
   "display_name": "Python 3",
   "language": "python",
   "name": "python3"
  },
  "language_info": {
   "codemirror_mode": {
    "name": "ipython",
    "version": 3
   },
   "file_extension": ".py",
   "mimetype": "text/x-python",
   "name": "python",
   "nbconvert_exporter": "python",
   "pygments_lexer": "ipython3",
   "version": "3.7.4"
  }
 },
 "nbformat": 4,
 "nbformat_minor": 2
}
