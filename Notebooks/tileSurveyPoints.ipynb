{
 "cells": [
  {
   "cell_type": "code",
   "execution_count": 72,
   "metadata": {},
   "outputs": [
    {
     "data": {
      "text/plain": [
       "<matplotlib.collections.PathCollection at 0x26ad1d1bef0>"
      ]
     },
     "execution_count": 72,
     "metadata": {},
     "output_type": "execute_result"
    },
    {
     "data": {
      "image/png": "[encoded data removed]",
      "text/plain": [
       "<Figure size 432x288 with 1 Axes>"
      ]
     },
     "metadata": {
      "needs_background": "light"
     },
     "output_type": "display_data"
    }
   ],
   "source": [
    "import numpy as np\n",
    "import matplotlib.pyplot as plt\n",
    "from matplotlib.patches import Rectangle\n",
    "from SimPEG.Utils import mkvc\n",
    "xx = np.random.randn(100)\n",
    "yy = np.random.randn(100)\n",
    "\n",
    "plt.scatter(xx, yy, 10)\n"
   ]
  },
  {
   "cell_type": "code",
   "execution_count": 87,
   "metadata": {},
   "outputs": [
    {
     "data": {
      "text/plain": [
       "array([], dtype=float64)"
      ]
     },
     "execution_count": 87,
     "metadata": {},
     "output_type": "execute_result"
    }
   ],
   "source": [
    "dy"
   ]
  },
  {
   "cell_type": "code",
   "execution_count": 95,
   "metadata": {},
   "outputs": [
    {
     "data": {
      "image/png": "[encoded data removed]",
      "text/plain": [
       "<Figure size 432x288 with 1 Axes>"
      ]
     },
     "metadata": {
      "needs_background": "light"
     },
     "output_type": "display_data"
    }
   ],
   "source": [
    "nRefine = 3\n",
    "\n",
    "# Test each refinement level for maximum space coverage\n",
    "nTx = 0\n",
    "nTy = 0\n",
    "for ii in range(nRefine+1):\n",
    "    \n",
    "    nTx += 1\n",
    "    nTy += 1\n",
    "    \n",
    "    tilex = np.percentile(xx, np.arange(0, 100, 100/nTx))\n",
    "    tiley = np.percentile(yy, np.arange(0, 100, 100/nTy))\n",
    "\n",
    "    if ii > 0:\n",
    "        dx = tilex[:-1] - tilex[1:]\n",
    "        dy = tiley[:-1] - tiley[1:]\n",
    "\n",
    "        if np.mean(dx) > np.mean(dy):\n",
    "            nTx -= 1\n",
    "        else:\n",
    "            nTy -= 1\n",
    "        \n",
    "\n",
    "tilex = np.percentile(xx, np.arange(0, 100, 100/nTx))\n",
    "tiley = np.percentile(yy, np.arange(0, 100, 100/nTy))\n",
    "    \n",
    "X1, Y1 = np.meshgrid(tilex, tiley)\n",
    "X2, Y2 = np.meshgrid(np.r_[tilex[1:],xx.max()] , np.r_[tiley[1:],yy.max()])\n",
    "\n",
    "# Plot data and tiles\n",
    "\n",
    "X1, Y1, X2, Y2 = mkvc(X1), mkvc(Y1), mkvc(X2), mkvc(Y2)\n",
    "binCount = []\n",
    "tile = []\n",
    "for ii in range(X1.shape[0]):\n",
    "\n",
    "    mask = (\n",
    "        (xx >= X1[ii]) * (xx <= X2[ii]) *\n",
    "         (yy >= Y1[ii]) * (yy <= Y2[ii])\n",
    "    ) == 1\n",
    "    \n",
    "    X1[ii], X2[ii] = xx[mask].min(), xx[mask].max()   \n",
    "    Y1[ii], Y2[ii] = yy[mask].min(), yy[mask].max() \n",
    "    binCount+=[mask.sum()]\n",
    "\n",
    "    \n",
    "fig, ax1 = plt.figure(), plt.subplot()\n",
    "\n",
    "plt.scatter(xx, yy, 10)\n",
    "\n",
    "for ii in range(X1.shape[0]):\n",
    "    \n",
    "    \n",
    "    ax1.add_patch(Rectangle((X1[ii], Y1[ii]),\n",
    "                            X2[ii]-X1[ii],\n",
    "                            Y2[ii]-Y1[ii],\n",
    "                            facecolor='none', edgecolor='k'))\n",
    "# ax1.set_xlim([X1.min()-20, X2.max()+20])\n",
    "# ax1.set_ylim([Y1.min()-20, Y2.max()+20])\n",
    "ax1.set_aspect('equal')\n",
    "plt.show()\n"
   ]
  },
  {
   "cell_type": "code",
   "execution_count": 59,
   "metadata": {},
   "outputs": [
    {
     "data": {
      "text/plain": [
       "(array([-2.0801748 , -2.0801748 , -2.0801748 , -0.55970596, -0.55970596,\n",
       "        -0.55970596, -0.0805174 , -0.0805174 , -0.0805174 ]),\n",
       " array([-0.55970596, -0.55970596, -0.55970596, -0.0805174 , -0.0805174 ,\n",
       "        -0.0805174 ,  1.20107625,  1.20107625,  1.20107625]))"
      ]
     },
     "execution_count": 59,
     "metadata": {},
     "output_type": "execute_result"
    }
   ],
   "source": [
    "X1, X2"
   ]
  },
  {
   "cell_type": "code",
   "execution_count": 60,
   "metadata": {},
   "outputs": [
    {
     "data": {
      "text/plain": [
       "[3, 4, 3, 3, 3, 4, 4, 3, 3]"
      ]
     },
     "execution_count": 60,
     "metadata": {},
     "output_type": "execute_result"
    }
   ],
   "source": [
    "binCount"
   ]
  },
  {
   "cell_type": "code",
   "execution_count": 102,
   "metadata": {},
   "outputs": [
    {
     "data": {
      "text/plain": [
       "array([2, 1, 0])"
      ]
     },
     "execution_count": 102,
     "metadata": {},
     "output_type": "execute_result"
    }
   ],
   "source": [
    "np.arange(3-1,-1,-1)"
   ]
  },
  {
   "cell_type": "code",
   "execution_count": 103,
   "metadata": {},
   "outputs": [
    {
     "data": {
      "text/plain": [
       "array([], shape=(1, 2, 0), dtype=float64)"
      ]
     },
     "execution_count": 103,
     "metadata": {},
     "output_type": "execute_result"
    }
   ],
   "source": [
    "nCpad = [1,2,0]\n",
    "np.ones(nCpad)"
   ]
  },
  {
   "cell_type": "code",
   "execution_count": 109,
   "metadata": {},
   "outputs": [
    {
     "data": {
      "text/plain": [
       "array([1, 2, 2], dtype=int32)"
      ]
     },
     "execution_count": 109,
     "metadata": {},
     "output_type": "execute_result"
    }
   ],
   "source": [
    "np.repeat(1 * 2**np.arange(len(nCpad)), nCpad)"
   ]
  },
  {
   "cell_type": "code",
   "execution_count": null,
   "metadata": {},
   "outputs": [],
   "source": []
  }
 ],
 "metadata": {
  "kernelspec": {
   "display_name": "Python 3",
   "language": "python",
   "name": "python3"
  },
  "language_info": {
   "codemirror_mode": {
    "name": "ipython",
    "version": 3
   },
   "file_extension": ".py",
   "mimetype": "text/x-python",
   "name": "python",
   "nbconvert_exporter": "python",
   "pygments_lexer": "ipython3",
   "version": "3.7.0"
  }
 },
 "nbformat": 4,
 "nbformat_minor": 2
}
