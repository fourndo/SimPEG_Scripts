{
 "cells": [
  {
   "cell_type": "code",
   "execution_count": 1,
   "metadata": {},
   "outputs": [],
   "source": [
    "from pymatsolver import Pardiso\n",
    "import numpy as np\n",
    "import scipy as sp\n",
    "import dask\n",
    "import dask.array as da"
   ]
  },
  {
   "cell_type": "code",
   "execution_count": 4,
   "metadata": {},
   "outputs": [],
   "source": [
    "nC = 100000\n",
    "\n",
    "# Solve it for a random RHS\n",
    "b = np.random.randn(nC,100)\n",
    "\n",
    "# Create a simple sparse banded system\n",
    "\n",
    "A = sp.sparse.diags([-np.ones(nC), 2*np.ones(nC), -np.ones(nC)], [-1,0,1], shape=(nC,nC))\n",
    "\n",
    "# Create Pardiso solver for Ainv\n",
    "Ainv = Pardiso(A)"
   ]
  },
  {
   "cell_type": "code",
   "execution_count": 5,
   "metadata": {},
   "outputs": [],
   "source": [
    "# Solve the RHS in a loop using Solver\n",
    "y = Ainv*b"
   ]
  },
  {
   "cell_type": "code",
   "execution_count": 7,
   "metadata": {},
   "outputs": [
    {
     "data": {
      "text/plain": [
       "array([[  -83.04469337,   125.29141463,   141.31561004, ...,\n",
       "           50.86037676,    57.20597834,  -181.63176232],\n",
       "       [ -165.58224538,   249.78937907,   282.52041176, ...,\n",
       "          101.24368887,   114.77295993,  -363.46322324],\n",
       "       [ -249.02643549,   376.6886822 ,   423.68469328, ...,\n",
       "          150.97582329,   172.11243426,  -546.54214202],\n",
       "       ...,\n",
       "       [ 1059.38066037,   420.15659659,   409.37113333, ...,\n",
       "           99.02414581,   512.33856505, -1218.57767749],\n",
       "       [  706.00555312,   280.84104283,   272.35951447, ...,\n",
       "           65.32718546,   341.56716421,  -810.4666193 ],\n",
       "       [  353.35739267,   141.33042513,   135.85085976, ...,\n",
       "           32.47032283,   171.78616999,  -404.76936579]])"
      ]
     },
     "execution_count": 7,
     "metadata": {},
     "output_type": "execute_result"
    }
   ],
   "source": [
    "y"
   ]
  },
  {
   "cell_type": "code",
   "execution_count": 6,
   "metadata": {},
   "outputs": [],
   "source": [
    "# Try to do the same solves inside a delayed function\n",
    "from pyMKL import mkl_set_num_threads\n",
    "\n",
    "@dask.delayed\n",
    "def solveRHD(rhs):\n",
    "    \n",
    "    # Create a simple sparse banded system\n",
    "    nC = 100000\n",
    "    A = sp.sparse.diags([-np.ones(nC), 2*np.ones(nC), -np.ones(nC)], [-1,0,1], shape=(nC,nC))\n",
    "\n",
    "    # Create Pardiso solver for Ainv\n",
    "    Ainv = Pardiso(A)    \n",
    "    mkl_set_num_threads(1)\n",
    "    return Ainv*rhs\n",
    "\n",
    "# Split the solves in dask delays\n",
    "columns = [solveRHD(b[:, ii]).reshape((nC,1)) for ii in range(b.shape[1])]\n",
    "solves = [da.from_delayed(column, dtype='float', shape=(nC, 1)).reshape((nC,1)) for column in columns]\n",
    "\n",
    "# Stack the result\n",
    "yDask = da.hstack(solves)"
   ]
  },
  {
   "cell_type": "code",
   "execution_count": 15,
   "metadata": {},
   "outputs": [],
   "source": [
    "# Compute only one of them \n",
    "# First is the same ... good\n",
    "# solves[0].compute()"
   ]
  },
  {
   "cell_type": "code",
   "execution_count": 8,
   "metadata": {},
   "outputs": [],
   "source": [
    "# Run all with dask ... not good, run again different\n",
    "y_dask = yDask.compute()"
   ]
  },
  {
   "cell_type": "code",
   "execution_count": 9,
   "metadata": {},
   "outputs": [
    {
     "data": {
      "text/plain": [
       "array([[ 2.63137505e-11,  1.91653029e-10,  1.18829847e-10, ...,\n",
       "         2.79247094e-11,  2.09756131e-10,  1.10961108e-10],\n",
       "       [ 2.63943436e-11,  1.92261810e-10,  1.18876453e-10, ...,\n",
       "         2.80562919e-11,  2.09096370e-10,  1.10900142e-10],\n",
       "       [ 2.63251820e-11,  1.91238656e-10,  1.18903368e-10, ...,\n",
       "         2.82216294e-11,  2.09153477e-10,  1.10626757e-10],\n",
       "       ...,\n",
       "       [-1.87371005e-13,  6.72382892e-11,  4.91033190e-11, ...,\n",
       "         2.48514510e-12,  2.34450635e-11,  1.72787380e-11],\n",
       "       [-1.87436881e-13,  6.70619908e-11,  4.92031634e-11, ...,\n",
       "         2.51142486e-12,  2.34445061e-11,  1.73196862e-11],\n",
       "       [-1.87248777e-13,  6.66302370e-11,  4.93222851e-11, ...,\n",
       "         2.52637337e-12,  2.33076780e-11,  1.73395379e-11]])"
      ]
     },
     "execution_count": 9,
     "metadata": {},
     "output_type": "execute_result"
    }
   ],
   "source": [
    "(y_dask - y) / y\n"
   ]
  }
 ],
 "metadata": {
  "kernelspec": {
   "display_name": "Python 3",
   "language": "python",
   "name": "python3"
  },
  "language_info": {
   "codemirror_mode": {
    "name": "ipython",
    "version": 3
   },
   "file_extension": ".py",
   "mimetype": "text/x-python",
   "name": "python",
   "nbconvert_exporter": "python",
   "pygments_lexer": "ipython3",
   "version": "3.7.3"
  }
 },
 "nbformat": 4,
 "nbformat_minor": 2
}
