{
 "cells": [
  {
   "cell_type": "code",
   "execution_count": 1,
   "metadata": {},
   "outputs": [],
   "source": [
    "import numpy as np\n",
    "import re\n",
    "import h5py\n",
    "import matplotlib.pyplot as plt\n",
    "import pandas as pd\n",
    "import xarray as xr\n",
    "from geosoft.gxpy import gdb as gxdb\n",
    "import geosoft.gxpy.utility as gxu\n",
    "import geosoft.gxpy.gx as gx\n",
    "import dask.array as da"
   ]
  },
  {
   "cell_type": "markdown",
   "metadata": {},
   "source": [
    "# Load a geosoft database directly and export to zarr"
   ]
  },
  {
   "cell_type": "code",
   "execution_count": 2,
   "metadata": {},
   "outputs": [],
   "source": [
    "\n",
    "data_matrix = []\n",
    "channels = []\n",
    "with gx.GXpy() as gxp:\n",
    "\n",
    "    # open a database\n",
    "#     gdb = gxdb.Geosoft_gdb.open(gxp,'test.gdb')\n",
    "    file = gxdb.Geosoft_gdb.open(\"C:\\\\Users\\\\DominiqueFournier\\\\Downloads\\\\7042-Main_A\\\\7042-Main_A.gdb\")\n",
    "    \n",
    "    lines = file.list_lines()\n",
    "    \n",
    "    for line in lines:\n",
    "\n",
    "        npd,ch,fid = file.read_line(line)\n",
    "        data_matrix += [npd]\n",
    "        channels += [ch]"
   ]
  },
  {
   "cell_type": "code",
   "execution_count": 3,
   "metadata": {},
   "outputs": [],
   "source": [
    "data = pd.DataFrame(np.vstack(data_matrix), columns=channels[0]).to_xarray().to_zarr(\"7042-Main_A.zarr\")"
   ]
  },
  {
   "cell_type": "code",
   "execution_count": 7,
   "metadata": {},
   "outputs": [],
   "source": [
    "data = xr.open_zarr(\"7042-Main_A.zarr\")\n",
    "\n"
   ]
  },
  {
   "cell_type": "code",
   "execution_count": null,
   "metadata": {},
   "outputs": [],
   "source": [
    "# loc_type = np.dtype([\n",
    "#     ('x', np.float64),\n",
    "#     ('y', np.float64),\n",
    "#     ('z', np.float64),\n",
    "# ])\n",
    "# vrtx = obj.create_dataset(\"Vertices\", (nD,), dtype=loc_type)\n",
    "# vrtx['x'] = xyz[:,0]"
   ]
  },
  {
   "cell_type": "code",
   "execution_count": 2,
   "metadata": {},
   "outputs": [],
   "source": [
    "data_file = \"Gravity\\Grav.xyz\"\n",
    "\n",
    "fid = open(data_file, 'r')\n",
    "line = fid.readline().split()\n",
    "data = {}\n",
    "block = []\n",
    "while line:\n",
    "    \n",
    "    if \"/\" in str(line[0]):\n",
    "        header = line[1:]\n",
    "\n",
    "\n",
    "    elif \"line\" not in str(line[0]).lower():\n",
    "\n",
    "        block += [np.asarray(line, dtype=\"float\")]\n",
    "        \n",
    "    line = fid.readline().split()\n",
    "fid.close()"
   ]
  },
  {
   "cell_type": "code",
   "execution_count": 3,
   "metadata": {},
   "outputs": [],
   "source": [
    "data = pd.DataFrame(np.vstack(block), columns=header).to_xarray().to_zarr(\"Gravity.zarr\")"
   ]
  },
  {
   "cell_type": "code",
   "execution_count": 95,
   "metadata": {},
   "outputs": [],
   "source": [
    "grav = xr.open_zarr(\"Gravity.zarr\")"
   ]
  },
  {
   "cell_type": "code",
   "execution_count": 99,
   "metadata": {},
   "outputs": [],
   "source": [
    "data_fa = grav[\"GRVFRAL100\"]\n",
    "\n"
   ]
  },
  {
   "cell_type": "code",
   "execution_count": null,
   "metadata": {},
   "outputs": [],
   "source": []
  }
 ],
 "metadata": {
  "kernelspec": {
   "display_name": "Python 3",
   "language": "python",
   "name": "python3"
  },
  "language_info": {
   "codemirror_mode": {
    "name": "ipython",
    "version": 3
   },
   "file_extension": ".py",
   "mimetype": "text/x-python",
   "name": "python",
   "nbconvert_exporter": "python",
   "pygments_lexer": "ipython3",
   "version": "3.7.4"
  }
 },
 "nbformat": 4,
 "nbformat_minor": 2
}
