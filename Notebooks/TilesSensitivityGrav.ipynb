{
 "cells": [
  {
   "cell_type": "code",
   "execution_count": 1,
   "metadata": {},
   "outputs": [],
   "source": [
    "import numpy as np\n",
    "import scipy.sparse as sp\n",
    "import matplotlib.pyplot as plt\n",
    "\n",
    "from SimPEG import Mesh\n",
    "from SimPEG import Utils\n",
    "from SimPEG import Maps\n",
    "from SimPEG import Regularization\n",
    "from SimPEG import DataMisfit\n",
    "from SimPEG import Optimization\n",
    "from SimPEG import InvProblem\n",
    "from SimPEG import Directives\n",
    "from SimPEG import Inversion\n",
    "from SimPEG import PF\n",
    "from SimPEG.Utils import mkvc\n"
   ]
  },
  {
   "cell_type": "code",
   "execution_count": 7,
   "metadata": {},
   "outputs": [
    {
     "data": {
      "text/plain": [
       "512"
      ]
     },
     "execution_count": 7,
     "metadata": {},
     "output_type": "execute_result"
    }
   ],
   "source": [
    "mesh.nC"
   ]
  },
  {
   "cell_type": "code",
   "execution_count": 6,
   "metadata": {},
   "outputs": [],
   "source": [
    "dx = 5\n",
    "\n",
    "mesh = Mesh.TreeMesh([np.ones(10)*dx,np.ones(10)*dx,np.ones(10)*dx])\n",
    "mesh.refine(9)\n",
    "mesh.writeUBC('OctreeMesh.msh')\n"
   ]
  },
  {
   "cell_type": "code",
   "execution_count": 47,
   "metadata": {
    "collapsed": true
   },
   "outputs": [],
   "source": [
    "# Create a mesh\n",
    "dx = 5.\n",
    "\n",
    "hxind = [(dx, 5, -1.3), (dx, 15), (dx, 5, 1.3)]\n",
    "hyind = [(dx, 5, -1.3), (dx, 15), (dx, 5, 1.3)]\n",
    "hzind = [(dx, 5, -1.3), (dx, 7), (3.5, 1), (2, 5)]\n",
    "\n",
    "mesh = Mesh.TensorMesh([hxind, hyind, hzind], 'CCC')\n",
    "\n",
    "# Get index of the center\n",
    "midx = int(mesh.nCx/2)\n",
    "midy = int(mesh.nCy/2)"
   ]
  },
  {
   "cell_type": "code",
   "execution_count": 48,
   "metadata": {
    "collapsed": true
   },
   "outputs": [],
   "source": [
    "# # Lets create a simple Gaussian topo and set the active cells\n",
    "# [xx, yy] = np.meshgrid(mesh.vectorNx, mesh.vectorNy)\n",
    "# zz = -np.exp((xx**2 + yy**2) / 75**2) + mesh.vectorNz[-1]\n",
    "\n",
    "# # We would usually load a topofile\n",
    "# topo = np.c_[Utils.mkvc(xx), Utils.mkvc(yy), Utils.mkvc(zz)]\n",
    "\n",
    "# Go from topo to actv cells\n",
    "actv = np.ones(mesh.nC, dtype='bool')#Utils.surface2ind_topo(mesh, topo, 'N')\n",
    "# actv = np.asarray([inds for inds, elem in enumerate(actv, 1) if elem],\n",
    "#                   dtype=int) - 1\n",
    "\n",
    "# Create active map to go from reduce space to full\n",
    "actvMap = Maps.InjectActiveCells(mesh, actv, -100)\n",
    "nC = len(actv)\n",
    "\n",
    "# Create and array of observation points\n",
    "xr = np.linspace(-40., 40., 20)\n",
    "yr = np.linspace(-40., 40., 20)\n",
    "X, Y = np.meshgrid(xr, yr)\n",
    "\n",
    "# Move the observation points 5m above the topo\n",
    "Z = np.zeros_like(X) + mesh.vectorNz[-1] + 0.1\n",
    "\n",
    "# Create a MAGsurvey\n",
    "rxLoc = np.c_[Utils.mkvc(X.T), Utils.mkvc(Y.T), Utils.mkvc(Z.T)]\n",
    "rxLoc = PF.BaseGrav.RxObs(rxLoc)\n",
    "srcField = PF.BaseGrav.SrcField([rxLoc])\n",
    "survey = PF.BaseGrav.LinearSurvey(srcField)"
   ]
  },
  {
   "cell_type": "code",
   "execution_count": 49,
   "metadata": {},
   "outputs": [
    {
     "name": "stdout",
     "output_type": "stream",
     "text": [
      "Begin calculation of forward operator: z\n",
      "Done 0.0 %\n",
      "Done 10.0 %\n",
      "Done 20.0 %\n",
      "Done 30.0 %\n",
      "Done 40.0 %\n",
      "Done 50.0 %\n",
      "Done 60.0 %\n",
      "Done 70.0 %\n",
      "Done 80.0 %\n",
      "Done 90.0 %\n",
      "Done 100% ...forward operator completed!!\n",
      "\n"
     ]
    }
   ],
   "source": [
    "# We can now create a susceptibility model and generate data\n",
    "# Here a simple block in half-space\n",
    "model = np.zeros((mesh.nCx, mesh.nCy, mesh.nCz))\n",
    "model[(midx-5):(midx-1), (midy-2):(midy+2), -10:-6] = 0.5\n",
    "model[(midx+1):(midx+5), (midy-2):(midy+2), -10:-6] = -0.5\n",
    "model = Utils.mkvc(model)\n",
    "model = model[actv]\n",
    "\n",
    "# Create active map to go from reduce set to full\n",
    "actvMap = Maps.InjectActiveCells(mesh, actv, -100)\n",
    "\n",
    "# Create reduced identity map\n",
    "idenMap = Maps.IdentityMap(nP=nC)\n",
    "\n",
    "# Create the forward model operator\n",
    "prob = PF.Gravity.GravityIntegral(mesh, rhoMap=idenMap, actInd=actv)\n",
    "\n",
    "# Pair the survey and problem\n",
    "survey.pair(prob)\n",
    "\n",
    "# Compute linear forward operator and compute some data\n",
    "d = prob.fields(model)\n",
    "\n",
    "# Add noise and uncertainties\n",
    "# We add some random Gaussian noise (1nT)\n",
    "data = d + np.random.randn(len(d))*1e-3\n",
    "wd = np.ones(len(data))*1e-3  # Assign flat uncertainties\n",
    "\n",
    "survey.dobs = data\n",
    "survey.std = wd\n",
    "survey.mtrue = model"
   ]
  },
  {
   "cell_type": "code",
   "execution_count": 71,
   "metadata": {},
   "outputs": [
    {
     "name": "stdout",
     "output_type": "stream",
     "text": [
      "SimPEG.DataMisfit.l2_DataMisfit assigning default eps of 1e-5 * ||dobs||\n",
      "SimPEG.InvProblem will set Regularization.mref to m0.\n",
      "\n",
      "    SimPEG.InvProblem is setting bfgsH0 to the inverse of the eval2Deriv.\n",
      "    ***Done using same Solver and solverOpts as the problem***\n",
      "model has any nan: 0\n",
      "=============================== Projected GNCG ===============================\n",
      "  #     beta     phi_d     phi_m       f      |proj(x-g)-x|  LS    Comment   \n",
      "-----------------------------------------------------------------------------\n",
      "x0 has any nan: 0\n",
      "   0  5.17e+07  4.17e+04  0.00e+00  4.17e+04    1.06e+02      0              \n",
      "   1  2.58e+07  4.12e+04  4.62e-06  4.13e+04    1.06e+02      0              \n",
      "   2  1.29e+07  4.08e+04  1.82e-05  4.10e+04    1.06e+02      0   Skip BFGS  \n",
      "   3  6.46e+06  3.99e+04  7.01e-05  4.03e+04    1.06e+02      0   Skip BFGS  \n",
      "   4  3.23e+06  3.82e+04  2.62e-04  3.90e+04    1.06e+02      0   Skip BFGS  \n",
      "   5  1.62e+06  3.53e+04  9.27e-04  3.68e+04    1.06e+02      0   Skip BFGS  \n",
      "   6  8.08e+05  3.08e+04  2.98e-03  3.32e+04    1.06e+02      0   Skip BFGS  \n",
      "   7  4.04e+05  2.49e+04  8.32e-03  2.82e+04    1.05e+02      0   Skip BFGS  \n",
      "   8  2.02e+05  1.85e+04  1.97e-02  2.25e+04    1.05e+02      0   Skip BFGS  \n",
      "   9  1.01e+05  1.27e+04  4.03e-02  1.67e+04    1.03e+02      0   Skip BFGS  \n",
      "  10  5.05e+04  7.84e+03  7.45e-02  1.16e+04    1.02e+02      0   Skip BFGS  \n",
      "  11  2.52e+04  4.21e+03  1.25e-01  7.37e+03    9.95e+01      0   Skip BFGS  \n",
      "  12  1.26e+04  1.95e+03  1.87e-01  4.32e+03    9.68e+01      0   Skip BFGS  \n",
      "  13  6.31e+03  8.28e+02  2.49e-01  2.40e+03    9.28e+01      0   Skip BFGS  \n",
      "  14  3.16e+03  3.64e+02  2.99e-01  1.31e+03    8.69e+01      0   Skip BFGS  \n",
      "Convergence with smooth l2-norm regularization: Start IRLS steps...\n",
      "L[p qx qy qz]-norm : [0 1 1 1]\n",
      "eps_p: 0.01 eps_q: 0.01\n",
      "Regularization decrease: 7.671e+00\n",
      "  15  3.16e+03  1.93e+02  3.36e-01  1.25e+03    1.02e+02      0   Skip BFGS  \n",
      "  16  3.16e+03  1.64e+02  2.24e-01  8.69e+02    7.30e+01      0              \n",
      "Regularization decrease: 3.611e-01\n",
      "  17  3.88e+03  1.63e+02  2.24e-01  1.03e+03    8.65e+01      0              \n",
      "  18  3.88e+03  1.76e+02  1.85e-01  8.96e+02    4.84e+01      0              \n",
      "Regularization decrease: 1.762e-01\n",
      "  19  4.44e+03  1.75e+02  1.85e-01  9.98e+02    7.71e+01      0              \n",
      "  20  4.44e+03  1.84e+02  1.61e-01  8.97e+02    4.62e+01      0              \n",
      "Regularization decrease: 1.474e-01\n",
      "  21  4.84e+03  1.83e+02  1.61e-01  9.61e+02    7.08e+01      0              \n",
      "  22  4.84e+03  1.90e+02  1.46e-01  8.99e+02    4.26e+01      0              \n",
      "Regularization decrease: 9.970e-02\n",
      "  23  4.84e+03  1.90e+02  1.46e-01  8.99e+02    3.79e+01      0              \n",
      "  24  4.84e+03  1.92e+02  1.38e-01  8.60e+02    3.94e+01      0              \n",
      "Regularization decrease: 6.367e-02\n",
      "  25  4.84e+03  1.92e+02  1.38e-01  8.60e+02    3.20e+01      0              \n",
      "  26  4.84e+03  1.93e+02  1.32e-01  8.31e+02    3.41e+01      0              \n",
      "Regularization decrease: 4.978e-02\n",
      "  27  4.84e+03  1.93e+02  1.32e-01  8.31e+02    2.87e+01      0              \n",
      "  28  4.84e+03  1.94e+02  1.27e-01  8.09e+02    2.72e+01      0              \n",
      "Regularization decrease: 4.252e-02\n",
      "  29  4.84e+03  1.94e+02  1.27e-01  8.10e+02    2.77e+01      0              \n",
      "  30  4.84e+03  1.94e+02  1.24e-01  7.93e+02    2.03e+01      0              \n",
      "Regularization decrease: 3.513e-02\n",
      "  31  4.84e+03  1.94e+02  1.24e-01  7.94e+02    2.82e+01      0              \n",
      "  32  4.84e+03  1.94e+02  1.22e-01  7.83e+02    1.38e+01      0              \n",
      "Regularization decrease: 2.692e-02\n",
      "  33  4.84e+03  1.94e+02  1.22e-01  7.83e+02    2.78e+01      0              \n",
      "  34  4.84e+03  1.94e+02  1.20e-01  7.76e+02    9.03e+00      0              \n",
      "Reach maximum number of IRLS cycles: 10\n",
      "------------------------- STOP! -------------------------\n",
      "1 : |fc-fOld| = 0.0000e+00 <= tolF*(1+|f0|) = 4.1711e+03\n",
      "1 : |xc-x_last| = 3.6189e-03 <= tolX*(1+|x0|) = 1.0106e-01\n",
      "0 : |proj(x-g)-x|    = 9.0301e+00 <= tolG          = 1.0000e-01\n",
      "0 : |proj(x-g)-x|    = 9.0301e+00 <= 1e3*eps       = 1.0000e-02\n",
      "0 : maxIter   =     100    <= iter          =     35\n",
      "------------------------- DONE! -------------------------\n"
     ]
    }
   ],
   "source": [
    "# Create sensitivity weights from our linear forward operator\n",
    "rxLoc = survey.srcField.rxList[0].locs\n",
    "wr = np.sum(prob.G**2., axis=0)**0.5\n",
    "wr = (wr/np.max(wr))\n",
    "\n",
    "# Create a regularization\n",
    "reg = Regularization.Sparse(mesh, indActive=actv, mapping=idenMap)\n",
    "reg.cell_weights = wr\n",
    "reg.norms = [0, 1, 1, 1]\n",
    "reg.eps_p = 1e-2\n",
    "reg.eps_q = 1e-2\n",
    "# Data misfit function\n",
    "dmis = DataMisfit.l2_DataMisfit(survey)\n",
    "dmis.W = Utils.sdiag(1/wd)\n",
    "\n",
    "# Add directives to the inversion\n",
    "opt = Optimization.ProjectedGNCG(maxIter=100, lower=-1., upper=1.,\n",
    "                                 maxIterLS=20, maxIterCG=10,\n",
    "                                 tolCG=1e-3)\n",
    "invProb = InvProblem.BaseInvProblem(dmis, reg, opt)\n",
    "betaest = Directives.BetaEstimate_ByEig()\n",
    "\n",
    "# Here is where the norms are applied\n",
    "# Use pick a treshold parameter empirically based on the distribution of\n",
    "# model parameters\n",
    "IRLS = Directives.Update_IRLS(f_min_change=1e-2, minGNiter=2)\n",
    "update_Jacobi = Directives.Update_lin_PreCond()\n",
    "inv = Inversion.BaseInversion(invProb, directiveList=[IRLS,\n",
    "                                                      betaest,\n",
    "                                                      update_Jacobi])\n",
    "\n",
    "# Run the inversion\n",
    "m0 = np.ones(nC)*1e-4  # Starting model\n",
    "mrec = inv.run(m0)"
   ]
  },
  {
   "cell_type": "code",
   "execution_count": 72,
   "metadata": {},
   "outputs": [
    {
     "data": {
      "image/png": "[encoded data removed]",
      "text/plain": [
       "<matplotlib.figure.Figure at 0x247970be2e8>"
      ]
     },
     "metadata": {},
     "output_type": "display_data"
    }
   ],
   "source": [
    "fig=plt.figure()\n",
    "ax = plt.subplot(121)\n",
    "mesh.plotSlice(mrec, ax=ax, normal='Y', ind=midx,\n",
    "               grid=False, clim=(model.min(), model.max()))\n",
    "plt.title('E-W l2-model.')\n",
    "plt.gca().set_aspect('equal')\n",
    "plt.ylabel('z')\n",
    "plt.xlabel('x')\n",
    "ax.axis([-40,40,0,60])\n",
    "plt.gca().set_aspect('equal', adjustable='box')\n",
    "\n",
    "\n",
    "ax = plt.subplot(122)\n",
    "mesh.plotSlice(model, ax=ax, normal='Y', ind=midx,\n",
    "               grid=False, clim=(model.min(), model.max()))\n",
    "plt.title('E-W l2-model.')\n",
    "plt.gca().set_aspect('equal')\n",
    "plt.ylabel('z')\n",
    "plt.xlabel('x')\n",
    "ax.axis([-40,40,0,60])\n",
    "plt.gca().set_aspect('equal', adjustable='box')\n",
    "plt.show()"
   ]
  },
  {
   "cell_type": "code",
   "execution_count": null,
   "metadata": {
    "collapsed": true
   },
   "outputs": [],
   "source": []
  }
 ],
 "metadata": {
  "kernelspec": {
   "display_name": "Python 3",
   "language": "python",
   "name": "python3"
  },
  "language_info": {
   "codemirror_mode": {
    "name": "ipython",
    "version": 3
   },
   "file_extension": ".py",
   "mimetype": "text/x-python",
   "name": "python",
   "nbconvert_exporter": "python",
   "pygments_lexer": "ipython3",
   "version": "3.6.2"
  }
 },
 "nbformat": 4,
 "nbformat_minor": 2
}
