{
 "cells": [
  {
   "cell_type": "code",
   "execution_count": 1,
   "metadata": {},
   "outputs": [],
   "source": [
    "from pymatsolver import Pardiso\n",
    "import numpy as np\n",
    "import scipy as sp\n",
    "import dask\n",
    "import dask.array as da\n",
    "from pyMKL import mkl_set_num_threads\n",
    "\n",
    "import time\n"
   ]
  },
  {
   "cell_type": "code",
   "execution_count": 19,
   "metadata": {},
   "outputs": [],
   "source": [
    "# Create a simple sparse banded system\n",
    "nC = 100000\n",
    "A = sp.sparse.diags([-np.ones(nC), 2*np.ones(nC), -np.ones(nC)], [-1,0,1], shape=(nC,nC))\n",
    "\n",
    "num_threads = 8\n",
    "mkl_set_num_threads(num_threads)\n",
    "# Create Pardiso solver for Ainv\n",
    "Ainv = Pardiso(A)\n",
    "\n",
    "# Solve it for a random RHS\n",
    "b = np.random.randn(nC,1000)\n",
    "\n"
   ]
  },
  {
   "cell_type": "code",
   "execution_count": 20,
   "metadata": {},
   "outputs": [
    {
     "name": "stdout",
     "output_type": "stream",
     "text": [
      "Solve in: 9.808005809783936\n"
     ]
    },
    {
     "data": {
      "text/plain": [
       "array([-120.58956495, -240.58346634, -360.30479917, ..., -849.30553014,\n",
       "       -566.28661642, -283.98403352])"
      ]
     },
     "execution_count": 20,
     "metadata": {},
     "output_type": "execute_result"
    }
   ],
   "source": [
    "\n",
    "# Solve the RHS in a loop using pymatsolver\n",
    "y = Ainv*b # Solve once to get the factors\n",
    "\n",
    "start = time.time()\n",
    "y = Ainv*b\n",
    "print(\"Solve in: {}\".format(time.time()-start))\n",
    "y[:, 0]"
   ]
  },
  {
   "cell_type": "code",
   "execution_count": 21,
   "metadata": {},
   "outputs": [],
   "source": [
    "# Try to do the same solves inside a delayed function\n",
    "@dask.delayed\n",
    "def solveRHD(rhs):\n",
    "\n",
    "    return Ainv*rhs\n",
    "\n",
    "# Split the solves in dask delays\n",
    "columns = [solveRHD(b[:, ii]).reshape((nC,1)) for ii in range(b.shape[1])]\n",
    "solves = [da.from_delayed(column, dtype='float', shape=(nC, 1)).reshape((nC,1)) for column in columns]\n",
    "\n",
    "# Stack the result\n",
    "yDask = da.hstack(solves)"
   ]
  },
  {
   "cell_type": "code",
   "execution_count": 22,
   "metadata": {},
   "outputs": [
    {
     "data": {
      "text/plain": [
       "array([[-120.58956495],\n",
       "       [-240.58346634],\n",
       "       [-360.30479917],\n",
       "       ...,\n",
       "       [-849.30553014],\n",
       "       [-566.28661642],\n",
       "       [-283.98403352]])"
      ]
     },
     "execution_count": 22,
     "metadata": {},
     "output_type": "execute_result"
    }
   ],
   "source": [
    "# Compute only one of them \n",
    "# First is the same ... good\n",
    "solves[0].compute()\n",
    "\n",
    "\n"
   ]
  },
  {
   "cell_type": "code",
   "execution_count": 26,
   "metadata": {},
   "outputs": [
    {
     "name": "stdout",
     "output_type": "stream",
     "text": [
      "Solve in: 6.7459962368011475\n"
     ]
    },
    {
     "data": {
      "text/plain": [
       "array([ -36.06651756,  -72.73359207, -106.27685574, ..., -267.0024918 ,\n",
       "       -178.48359654,  -89.28545671])"
      ]
     },
     "execution_count": 26,
     "metadata": {},
     "output_type": "execute_result"
    }
   ],
   "source": [
    "# Run all with dask ... not good, run again different\n",
    "num_threads = 1\n",
    "mkl_set_num_threads(num_threads)\n",
    "start = time.time()\n",
    "yOut = yDask.compute()\n",
    "print(\"Solve in: {}\".format(time.time()-start))\n",
    "yOut[:,0]"
   ]
  },
  {
   "cell_type": "code",
   "execution_count": 15,
   "metadata": {},
   "outputs": [
    {
     "data": {
      "text/plain": [
       "0.634920634920635"
      ]
     },
     "execution_count": 15,
     "metadata": {},
     "output_type": "execute_result"
    }
   ],
   "source": [
    "6/9.45\n",
    "\n"
   ]
  }
 ],
 "metadata": {
  "kernelspec": {
   "display_name": "Python 3",
   "language": "python",
   "name": "python3"
  },
  "language_info": {
   "codemirror_mode": {
    "name": "ipython",
    "version": 3
   },
   "file_extension": ".py",
   "mimetype": "text/x-python",
   "name": "python",
   "nbconvert_exporter": "python",
   "pygments_lexer": "ipython3",
   "version": "3.7.3"
  }
 },
 "nbformat": 4,
 "nbformat_minor": 2
}
