{
 "cells": [
  {
   "cell_type": "code",
   "execution_count": 4,
   "metadata": {},
   "outputs": [],
   "source": [
    "import numpy as np\n",
    "import matplotlib.pyplot as plt"
   ]
  },
  {
   "cell_type": "code",
   "execution_count": 30,
   "metadata": {},
   "outputs": [],
   "source": [
    "nz, nx, ny = 63, 189, 170\n",
    "nc = nx*ny*nz\n",
    "nfx = (nx-1)*ny*nz\n",
    "nfy = (ny-1)*nx*nz\n",
    "nfz = (nz-1)*ny*nx\n",
    "\n",
    "litho = np.loadtxt(\"litho_code.mod\").reshape((nz, nx, ny), order='F')\n",
    "\n",
    "# wdat = np.loadtxt(\"w.dat\")\n",
    "# ws = wdat[:nc]\n",
    "# wx = wdat[nc:nc+nfx]\n",
    "# wy = wdat[nc+nfx:nc+nfx+nfy]\n",
    "# wz = wdat[nc+nfx+nfy:]"
   ]
  },
  {
   "cell_type": "code",
   "execution_count": 63,
   "metadata": {},
   "outputs": [],
   "source": [
    "# Find fx interface\n",
    "face_idx = litho[:,1:,:]\n",
    "idx = np.abs(litho[:,:-1,:] - litho[:,1:,:]) == 1\n",
    "\n",
    "face_idy = litho[:,:,1:]\n",
    "idy = np.abs(litho[:,:,:-1] - litho[:,:,1:]) == 1\n",
    "\n",
    "face_idz = litho[1:,:,:]\n",
    "idz = np.abs(litho[:-1,:,:] - litho[1:,:,:]) == 1\n",
    "\n",
    "wx = np.ones_like(face_idx)\n",
    "wx[face_idx==1] = 5\n",
    "surface_wx = np.ones_like(face_idx)\n",
    "surface_wx[0,:,:] = 16\n",
    "surface_wx[1,:,:] = 8\n",
    "surface_wx[2,:,:] = 4\n",
    "surface_wx[3,:,:] = 2\n",
    "\n",
    "wy = np.ones_like(face_idy)\n",
    "wy[face_idy==1] = 5\n",
    "surface_wy = np.ones_like(face_idy)\n",
    "surface_wy[0,:,:] = 16\n",
    "surface_wy[1,:,:] = 8\n",
    "surface_wy[2,:,:] = 4\n",
    "surface_wy[3,:,:] = 2\n",
    "\n",
    "wz = np.ones_like(face_idz)\n",
    "wz[face_idz==2] = 3\n",
    "surface_wz = np.ones_like(face_idz)\n",
    "\n",
    "ws = np.ones(nc)\n",
    "wx = np.max(np.c_[wx.T.ravel(), surface_wx.T.ravel()], axis=1)\n",
    "wy = np.max(np.c_[wy.T.ravel(), surface_wy.T.ravel()], axis=1)\n",
    "wz = np.max(np.c_[wz.T.ravel(), surface_wz.T.ravel()], axis=1)\n",
    "\n",
    "wx[idx.T.ravel()] = 0.01\n",
    "wy[idy.T.ravel()] = 0.01\n",
    "wz[idz.T.ravel()] = 0.01\n",
    "\n",
    "np.savetxt(\"NewWeights.dat\", np.r_[ws,wx,wy,wz], fmt=\"%.2f\")\n"
   ]
  },
  {
   "cell_type": "code",
   "execution_count": 58,
   "metadata": {},
   "outputs": [
    {
     "data": {
      "text/plain": [
       "<matplotlib.image.AxesImage at 0x1b320ae8308>"
      ]
     },
     "execution_count": 58,
     "metadata": {},
     "output_type": "execute_result"
    },
    {
     "data": {
      "image/png": "[encoded data removed]",
      "text/plain": [
       "<Figure size 432x288 with 1 Axes>"
      ]
     },
     "metadata": {
      "needs_background": "light"
     },
     "output_type": "display_data"
    }
   ],
   "source": [
    "plt.subplot()\n",
    "\n",
    "plt.imshow(wx.reshape((nz, nx-1, ny), order='F')[:,:,0])\n"
   ]
  },
  {
   "cell_type": "code",
   "execution_count": 62,
   "metadata": {},
   "outputs": [],
   "source": [
    "\n"
   ]
  },
  {
   "cell_type": "code",
   "execution_count": 56,
   "metadata": {},
   "outputs": [],
   "source": [
    "wx = np.max(np.c_[wx.T.ravel(), surface_wx.T.ravel()], axis=1)\n"
   ]
  },
  {
   "cell_type": "code",
   "execution_count": 64,
   "metadata": {},
   "outputs": [
    {
     "data": {
      "text/plain": [
       "0.01"
      ]
     },
     "execution_count": 64,
     "metadata": {},
     "output_type": "execute_result"
    }
   ],
   "source": [
    "wx.min()\n",
    "\n",
    "\n"
   ]
  }
 ],
 "metadata": {
  "kernelspec": {
   "display_name": "Python 3",
   "language": "python",
   "name": "python3"
  },
  "language_info": {
   "codemirror_mode": {
    "name": "ipython",
    "version": 3
   },
   "file_extension": ".py",
   "mimetype": "text/x-python",
   "name": "python",
   "nbconvert_exporter": "python",
   "pygments_lexer": "ipython3",
   "version": "3.7.4"
  }
 },
 "nbformat": 4,
 "nbformat_minor": 2
}
