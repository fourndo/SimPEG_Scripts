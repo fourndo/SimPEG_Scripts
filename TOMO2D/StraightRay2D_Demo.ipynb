{
 "cells": [
  {
   "cell_type": "code",
   "execution_count": 1,
   "metadata": {},
   "outputs": [
    {
     "name": "stdout",
     "output_type": "stream",
     "text": [
      "Populating the interactive namespace from numpy and matplotlib\n"
     ]
    }
   ],
   "source": [
    "from SimPEG import Mesh, Directives, Maps, InvProblem, Optimization, Utils\n",
    "from SimPEG import DataMisfit, Inversion, Regularization, Problem, Survey\n",
    "from SimPEG.Utils import mkvc\n",
    "import numpy as np\n",
    "import scipy.sparse as sp\n",
    "%pylab inline"
   ]
  },
  {
   "cell_type": "code",
   "execution_count": 2,
   "metadata": {},
   "outputs": [
    {
     "data": {
      "text/plain": [
       "<matplotlib.collections.PathCollection at 0x1ecb9642b00>"
      ]
     },
     "execution_count": 2,
     "metadata": {},
     "output_type": "execute_result"
    },
    {
     "data": {
      "image/png": "[encoded data removed]",
      "text/plain": [
       "<matplotlib.figure.Figure at 0x1ecb6ca2c50>"
      ]
     },
     "metadata": {},
     "output_type": "display_data"
    }
   ],
   "source": [
    "mesh = Mesh.TensorMesh([32,32])\n",
    "Tx = np.c_[np.zeros(5), np.linspace(0.1,0.9,5)]\n",
    "Rx = np.c_[np.ones(5), np.linspace(0.1,0.9,5)]\n",
    "\n",
    "mesh.plotGrid()\n",
    "plt.scatter(Tx[:,0],Tx[:,1])\n",
    "plt.scatter(Rx[:,0],Rx[:,1])\n"
   ]
  },
  {
   "cell_type": "code",
   "execution_count": 3,
   "metadata": {
    "collapsed": true
   },
   "outputs": [],
   "source": [
    "# Define a tomography problem class. Most what we need to forward and invert will come from the LinearProblem\n",
    "# Mostly need to define the line integral through cells\n",
    "class TomoProblem(Problem.LinearProblem):\n",
    "    \n",
    "    def __init__(self, mesh, **kwargs):\n",
    "\n",
    "        assert mesh.dim == 2, 'Only tested on 2D mesh'\n",
    "        Problem.BaseProblem.__init__(self, mesh, **kwargs)\n",
    "        \n",
    "    @property\n",
    "    def G(self):\n",
    "        if not self.ispaired:\n",
    "            raise Exception('Need to pair!')\n",
    "\n",
    "        if getattr(self, '_G', None) is None:\n",
    "            self._G = self.lineIntegral()\n",
    "\n",
    "        return self._G\n",
    "    \n",
    "    def lineIntegral(self):\n",
    "        \n",
    "        # Assign value to G\n",
    "        G = np.zeros((self.survey.nD, self.mesh.nC))\n",
    "        \n",
    "        count = 0\n",
    "        for tx in self.survey.srcList:\n",
    "            \n",
    "            rxLocs = tx.rxList[0].locs.tolist()\n",
    "            for rx in rxLocs:\n",
    "\n",
    "                dlCell, inCell = self.cellPath(mkvc(tx.loc), rx)\n",
    "            \n",
    "                for ind, path in zip(inCell, dlCell):\n",
    "                    G[count,ind] += path\n",
    "                \n",
    "                count += 1\n",
    "        return G\n",
    "    \n",
    "    # Compute lengths\n",
    "    def cellPath(self, txLoc, rxLoc):\n",
    "        pts = np.c_[txLoc, rxLoc].T\n",
    "\n",
    "        # Get equation of the line\n",
    "        a = (txLoc[1]-rxLoc[1]) / (txLoc[0]-rxLoc[0])\n",
    "        b = txLoc[1] - a * txLoc[0]\n",
    "        \n",
    "        # Add X intercepts\n",
    "        pts = np.r_[pts, np.c_[self.mesh.vectorNx, a * self.mesh.vectorNx + b]]\n",
    "        \n",
    "        # Get Y intercepts\n",
    "        pts = np.r_[pts, np.c_[(self.mesh.vectorNy - b) / a, self.mesh.vectorNy]]\n",
    "\n",
    "        # Keep only values inside mesh\n",
    "        pts = pts[self.mesh.isInside(pts)]\n",
    "        \n",
    "        # Sort points\n",
    "        pts = pts[np.argsort(pts[:,0]),:]\n",
    "        # Get midpoints\n",
    "        mids = (pts[1:,:] + pts[:-1,:]) / 2.\n",
    "        \n",
    "        # Get lengths and index of cell\n",
    "        dlCell = np.linalg.norm(pts[1:,:] - pts[:-1,:], axis=1).tolist()\n",
    "        inCell = Utils.closestPoints(self.mesh, mids).tolist()\n",
    "\n",
    "        return dlCell, inCell\n",
    "    \n",
    "class LinearSurvey(Survey.BaseSurvey):\n",
    "    \"\"\"Base Magnetics Survey\"\"\"\n",
    "\n",
    "    rxLoc = None  #: receiver locations\n",
    "    rxType = None  #: receiver type\n",
    "    \n",
    "    def __init__(self, srcList, **kwargs):\n",
    "        self.srcList = srcList\n",
    "        Survey.BaseSurvey.__init__(self, **kwargs)\n",
    "        \n",
    "    def eval(self, u):\n",
    "        return u\n"
   ]
  },
  {
   "cell_type": "code",
   "execution_count": 4,
   "metadata": {
    "collapsed": true
   },
   "outputs": [],
   "source": [
    "prob = TomoProblem(mesh)"
   ]
  },
  {
   "cell_type": "code",
   "execution_count": 5,
   "metadata": {
    "collapsed": true
   },
   "outputs": [],
   "source": [
    "src = []\n",
    "# Create source and receivers\n",
    "for ii in range(Tx.shape[0]):\n",
    "    rec = [Survey.BaseRx(Rx,'rx')]\n",
    "    src += [Survey.BaseSrc(rec, loc=Tx[ii,:])]\n",
    "\n",
    "survey = LinearSurvey(src)\n",
    "survey.pair(prob)"
   ]
  },
  {
   "cell_type": "code",
   "execution_count": 6,
   "metadata": {},
   "outputs": [
    {
     "name": "stderr",
     "output_type": "stream",
     "text": [
      "C:\\Users\\DominiqueFournier\\Anaconda3\\lib\\site-packages\\ipykernel_launcher.py:51: RuntimeWarning: divide by zero encountered in true_divide\n",
      "C:\\Users\\DominiqueFournier\\Anaconda3\\lib\\site-packages\\ipykernel_launcher.py:51: RuntimeWarning: invalid value encountered in true_divide\n",
      "C:\\Users\\DominiqueFournier\\Documents\\GIT\\SimPEG\\discretize\\discretize\\TensorMesh.py:291: RuntimeWarning: invalid value encountered in greater_equal\n",
      "  (pts[:, i] >= tensor.min()-TOL) &\n",
      "C:\\Users\\DominiqueFournier\\Documents\\GIT\\SimPEG\\discretize\\discretize\\TensorMesh.py:292: RuntimeWarning: invalid value encountered in less_equal\n",
      "  (pts[:, i] <= tensor.max()+TOL)\n"
     ]
    },
    {
     "data": {
      "image/png": "[encoded data removed]",
      "text/plain": [
       "<matplotlib.figure.Figure at 0x1ecb6ca2c18>"
      ]
     },
     "metadata": {},
     "output_type": "display_data"
    },
    {
     "data": {
      "image/png": "[encoded data removed]",
      "text/plain": [
       "<matplotlib.figure.Figure at 0x1ecb972dfd0>"
      ]
     },
     "metadata": {},
     "output_type": "display_data"
    }
   ],
   "source": [
    "wr = sum(prob.G**2.,axis=0)**0.5 + 1e-8\n",
    "wr /= wr.max()\n",
    "\n",
    "fig, axs = plt.figure(), plt.subplot()\n",
    "im = mesh.plotImage(wr, ax = axs, clim=np.r_[0.0, wr.max()], grid=True)\n",
    "axs.set_aspect('equal')\n",
    "plt.scatter(Tx[:,0],Tx[:,1],75,c='r')\n",
    "plt.scatter(Rx[:,0],Rx[:,1],75,c='g')\n",
    "\n",
    "fig, axs = plt.figure(), plt.subplot()\n",
    "# Create a simple model\n",
    "m = np.zeros(mesh.nC)\n",
    "m[Utils.ModelBuilder.getIndicesSphere(np.r_[0.6,0.6],0.1,mesh.gridCC)] = 0.5\n",
    "axs.set_aspect('equal')\n",
    "\n",
    "im = mesh.plotImage(m, ax = axs, clim=np.r_[0.0, 0.5], grid=True)\n"
   ]
  },
  {
   "cell_type": "code",
   "execution_count": 7,
   "metadata": {
    "collapsed": true
   },
   "outputs": [],
   "source": [
    "# Make data\n",
    "d = prob.fields(m)\n",
    "\n",
    "survey.dobs = d"
   ]
  },
  {
   "cell_type": "code",
   "execution_count": 8,
   "metadata": {
    "scrolled": true
   },
   "outputs": [
    {
     "name": "stdout",
     "output_type": "stream",
     "text": [
      "SimPEG.DataMisfit.l2_DataMisfit assigning default eps of 1e-5 * ||dobs||\n"
     ]
    }
   ],
   "source": [
    "import ipywidgets as widgets\n",
    "import time\n",
    "dmis = DataMisfit.l2_DataMisfit(survey)\n",
    "dmis.W = 1./(d**0.*1e-2)\n",
    "\n",
    "def invInteract():\n",
    "#     fig, axs = plt.figure(figsize=(10,8)), plt.subplot(1,2,1)\n",
    "    def plotModel(model, model_l2, p_s, eps_p):\n",
    "        fig = plt.figure(figsize=(12,5))\n",
    "        ax1 = plt.subplot(1,3,1)\n",
    "        ax2 = plt.subplot(1,3,2)\n",
    "        ax3 = plt.subplot(1,3,3)\n",
    "        im = mesh.plotImage(model, ax = ax2, clim=np.r_[0.0, 0.25], grid=True)\n",
    "        im = mesh.plotImage(model_l2, ax = ax1, clim=np.r_[0.0, 0.25], grid=True)\n",
    "        \n",
    "        mVal = np.sort(np.abs(model))\n",
    "        \n",
    "        ax4 = ax3.twinx()\n",
    "        \n",
    "        ax3.hist(np.abs(model_l2),25)\n",
    "        ax3.hist(mVal,25, color='r')\n",
    "        ax4.plot(mVal, mVal/(mVal**2. + eps_p**2.)**(1-p_s/2),'r')\n",
    "        ax1.set_aspect('equal'), ax1.set_title('Model l2')\n",
    "        ax2.set_aspect('equal'), ax2.set_title('Model lp')\n",
    "        ax3.set_title('Hist(m) and d_phim'), ax3.set_xlim([0,model_l2.max()])\n",
    "        plt.show()\n",
    "        \n",
    "    def invSetter(p_s,p_xy,log_eps_p):\n",
    "        # % Create inversion objects\n",
    "        reg = Regularization.Sparse(mesh, mapping=Maps.IdentityMap(nP=mesh.nC))\n",
    "        reg.mref = np.zeros(mesh.nC)\n",
    "        reg.cell_weights = wr\n",
    "        reg.norms = np.r_[p_s,p_xy,p_xy]\n",
    "        reg.eps_p, reg.eps_q = 10**(log_eps_p), 10**(log_eps_p)\n",
    "\n",
    "        opt = Optimization.ProjectedGNCG(maxIter=30,\n",
    "                                         lower=-np.inf,upper=np.inf,\n",
    "                                         maxIterLS = 20, maxIterCG= 10, tolCG = 1e-3,\n",
    "                                        silent = True)\n",
    "\n",
    "        invProb = InvProblem.BaseInvProblem(dmis, reg, opt, beta = beta*10)\n",
    "\n",
    "        IRLS = Directives.Update_IRLS(f_min_change=1e-2, minGNiter=1, silent=True)\n",
    "        update_Jacobi = Directives.UpdatePreconditioner()\n",
    "        # saveModel = Directives.SaveUBCModelEveryIteration(mapping=actvMap)\n",
    "        # saveModel.fileName = work_dir + dsep + out_dir + 'GRAV'\n",
    "\n",
    "        saveDict = Directives.SaveOutputDictEveryIteration()\n",
    "        inv = Inversion.BaseInversion(invProb, directiveList=[IRLS,\n",
    "                                                              update_Jacobi,])\n",
    "        \n",
    "        mrec = inv.run(ml2)\n",
    "\n",
    "        \n",
    "        return plotModel(mrec, ml2, p_s, 10**(log_eps_p))\n",
    "    \n",
    "    \n",
    "    # % Create inversion objects\n",
    "    reg = Regularization.Sparse(mesh, mapping=Maps.IdentityMap(nP=mesh.nC))\n",
    "    reg.mref = np.zeros(mesh.nC)\n",
    "    reg.cell_weights = wr\n",
    "\n",
    "    opt = Optimization.ProjectedGNCG(maxIter=30,\n",
    "                                     lower=-np.inf,upper=np.inf,\n",
    "                                     maxIterLS = 20, maxIterCG= 10, tolCG = 1e-3,\n",
    "                                    silent = True)\n",
    "\n",
    "    invProb = InvProblem.BaseInvProblem(dmis, reg, opt)\n",
    "\n",
    "    betaest = Directives.BetaEstimate_ByEig()\n",
    "    IRLS = Directives.Update_IRLS(f_min_change=1e-4, minGNiter=2, silent=True)\n",
    "    update_Jacobi = Directives.UpdatePreconditioner()\n",
    "    saveDict = Directives.SaveOutputDictEveryIteration()\n",
    "    betaSchedule = Directives.BetaSchedule(coolingFactor = 5., coolingRate = 1)\n",
    "    target = Directives.TargetMisfit()\n",
    "    inv = Inversion.BaseInversion(invProb, directiveList=[betaest, betaSchedule, target,\n",
    "                                                          update_Jacobi,])\n",
    "\n",
    "    ml2 = inv.run(np.ones(mesh.nC)*1e-4)\n",
    "\n",
    "    \n",
    "\n",
    "    beta = invProb.beta\n",
    "    \n",
    "    # Run inversion\n",
    "    Q = widgets.interactive(invSetter,\n",
    "                              p_s=widgets.FloatSlider(min=0,max=2,step=0.1,value=2.,continuous_update=False),\n",
    "                              p_xy=widgets.FloatSlider(min=0,max=2,step=0.1,value=2.,continuous_update=False),\n",
    "                              log_eps_p=widgets.FloatSlider(min=-6,max=-1,step=0.5,value=-2,continuous_update=False))\n",
    "    \n",
    "    \n",
    "    return Q\n"
   ]
  },
  {
   "cell_type": "code",
   "execution_count": 9,
   "metadata": {},
   "outputs": [
    {
     "data": {
      "application/vnd.jupyter.widget-view+json": {
       "model_id": "211fb24d6d9b45be91a8edca11cea2ea"
      }
     },
     "metadata": {},
     "output_type": "display_data"
    }
   ],
   "source": [
    "Q = invInteract()\n",
    "display(Q)"
   ]
  },
  {
   "cell_type": "code",
   "execution_count": null,
   "metadata": {
    "collapsed": true
   },
   "outputs": [],
   "source": []
  },
  {
   "cell_type": "code",
   "execution_count": null,
   "metadata": {
    "collapsed": true
   },
   "outputs": [],
   "source": []
  },
  {
   "cell_type": "code",
   "execution_count": null,
   "metadata": {
    "collapsed": true
   },
   "outputs": [],
   "source": []
  }
 ],
 "metadata": {
  "kernelspec": {
   "display_name": "Python 3",
   "language": "python",
   "name": "python3"
  },
  "language_info": {
   "codemirror_mode": {
    "name": "ipython",
    "version": 3
   },
   "file_extension": ".py",
   "mimetype": "text/x-python",
   "name": "python",
   "nbconvert_exporter": "python",
   "pygments_lexer": "ipython3",
   "version": "3.6.2"
  }
 },
 "nbformat": 4,
 "nbformat_minor": 2
}
